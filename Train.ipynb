{
 "cells": [
  {
   "cell_type": "code",
   "execution_count": 1,
   "id": "52ad5024-ebcc-4fc5-90ef-d0eb02f0390c",
   "metadata": {},
   "outputs": [
    {
     "name": "stdout",
     "output_type": "stream",
     "text": [
      "Loading dataset from merged_sorted_output_with_language_az3.csv...\n",
      "Total dataset size: 682513\n",
      "Error type distribution:\n",
      "ERROR_TYPE\n",
      "TRANSLITERATION    366603\n",
      "KEYBOARD           243454\n",
      "INSERTION           52528\n",
      "DELETION            19928\n",
      "Name: count, dtype: int64\n",
      "Checking some sample pairs:\n",
      "Sample 1 [unknown][KEYBOARD]: MISTAKE=ılfəcon, CORRECT=əlfəcin\n",
      "Sample 2 [unknown][KEYBOARD]: MISTAKE=füzəldicisu, CORRECT=düzəldicisi\n",
      "Sample 3 [unknown][KEYBOARD]: MISTAKE=açılab, CORRECT=açılan\n",
      "Sample 4 [unknown][TRANSLITERATION]: MISTAKE=misqalitirme, CORRECT=misqalıtirmə\n",
      "Sample 5 [unknown][KEYBOARD]: MISTAKE=ketagya, CORRECT=kütahya\n",
      "Performing stratified split by ERROR_TYPE...\n",
      "\n",
      "Error type distribution in splits:\n",
      "\n",
      "Train set error type distribution:\n",
      "  TRANSLITERATION: 293282 examples (53.71%)\n",
      "  KEYBOARD: 194763 examples (35.67%)\n",
      "  INSERTION: 42022 examples (7.70%)\n",
      "  DELETION: 15943 examples (2.92%)\n",
      "\n",
      "Validation set error type distribution:\n",
      "  TRANSLITERATION: 36660 examples (53.71%)\n",
      "  KEYBOARD: 24345 examples (35.67%)\n",
      "  INSERTION: 5253 examples (7.70%)\n",
      "  DELETION: 1993 examples (2.92%)\n",
      "\n",
      "Test set error type distribution:\n",
      "  TRANSLITERATION: 36661 examples (53.71%)\n",
      "  KEYBOARD: 24346 examples (35.67%)\n",
      "  INSERTION: 5253 examples (7.70%)\n",
      "  DELETION: 1992 examples (2.92%)\n",
      "Data split complete. Train: 546010, Validation: 68251, Test: 68252\n",
      "Loading data for vocabulary creation...\n",
      "Building vocabulary...\n"
     ]
    },
    {
     "data": {
      "application/vnd.jupyter.widget-view+json": {
       "model_id": "718a16a652504570beba09b3c75ab742",
       "version_major": 2,
       "version_minor": 0
      },
      "text/plain": [
       "Processing characters:   0%|          | 0/682513 [00:00<?, ?it/s]"
      ]
     },
     "metadata": {},
     "output_type": "display_data"
    },
    {
     "name": "stdout",
     "output_type": "stream",
     "text": [
      "Vocabulary size: 42\n",
      "Most common characters: ['ə', 'l', 'i', 'a', 'r', 'm', 'e', 'n', 'ı', 'k', 's', 't', 'd', 'ü', 'ş', 'u', 'y', 'q', 'o', 'c']\n",
      "Vocabulary size: 42\n",
      "Loading dataset from data/train.csv\n",
      "Распределение по типам ошибок:\n",
      "  TRANSLITERATION: 293282 примеров (53.71%)\n",
      "  KEYBOARD: 194763 примеров (35.67%)\n",
      "  INSERTION: 42022 примеров (7.70%)\n",
      "  DELETION: 15943 примеров (2.92%)\n"
     ]
    },
    {
     "data": {
      "application/vnd.jupyter.widget-view+json": {
       "model_id": "d4a9055d32454bb79bcb4810baf02fd8",
       "version_major": 2,
       "version_minor": 0
      },
      "text/plain": [
       "Validating data pairs:   0%|          | 0/546010 [00:00<?, ?it/s]"
      ]
     },
     "metadata": {},
     "output_type": "display_data"
    },
    {
     "name": "stdout",
     "output_type": "stream",
     "text": [
      "\n",
      "Data validation statistics:\n",
      "Average proportion of changed characters: 0.2057\n",
      "Median proportion of changed characters: 0.2000\n",
      "Found 17 suspicious pairs (>80% different)\n",
      "\n",
      "Examples of suspicious pairs:\n",
      "[unknown] MISTAKE: cixisi, CORRECT: çıxışı, Levenshtein: 5, Proportion: 0.83\n",
      "[unknown] MISTAKE: o, CORRECT: i, Levenshtein: 1, Proportion: 1.00\n",
      "[unknown] MISTAKE: isigi, CORRECT: ışığı, Levenshtein: 5, Proportion: 1.00\n",
      "[unknown] MISTAKE: y, CORRECT: u, Levenshtein: 1, Proportion: 1.00\n",
      "[unknown] MISTAKE: sus, CORRECT: şüş, Levenshtein: 3, Proportion: 1.00\n",
      "Loading dataset from data/val.csv\n",
      "Распределение по типам ошибок:\n",
      "  TRANSLITERATION: 36660 примеров (53.71%)\n",
      "  KEYBOARD: 24345 примеров (35.67%)\n",
      "  INSERTION: 5253 примеров (7.70%)\n",
      "  DELETION: 1993 примеров (2.92%)\n",
      "Loading dataset from data/test.csv\n",
      "Распределение по типам ошибок:\n",
      "  TRANSLITERATION: 36661 примеров (53.71%)\n",
      "  KEYBOARD: 24346 примеров (35.67%)\n",
      "  INSERTION: 5253 примеров (7.70%)\n",
      "  DELETION: 1992 примеров (2.92%)\n",
      "\n",
      "Sample pairs from training dataset:\n",
      "[unknown][TRANSLITERATION] MISTAKE: ştabellənme, CORRECT: ştabellənmə\n",
      "[unknown][TRANSLITERATION] MISTAKE: arsınölçen, CORRECT: arşınölçən\n",
      "[unknown][TRANSLITERATION] MISTAKE: godəkcesi, CORRECT: gödəkcəsi\n",
      "[unknown][INSERTION] MISTAKE: kamuin, CORRECT: kamin\n",
      "[unknown][TRANSLITERATION] MISTAKE: məzənneleşmək, CORRECT: məzənnələşmək\n",
      "\n",
      "Debugging DataLoader...\n",
      "\n",
      "Batch 1 info:\n",
      "Batch size: 512\n",
      "Source shapes: torch.Size([512, 22])\n",
      "Target shapes: torch.Size([512, 22])\n",
      "Sample 0:\n",
      "  Source text: mutesəkkilleşdirilmək\n",
      "  Target text: mütəşəkkilləşdirilmək\n",
      "  Language: unknown\n",
      "  Error type: TRANSLITERATION\n",
      "  Index: 283\n",
      "Sample 1:\n",
      "  Source text: muteşəkkilləşdirilmə\n",
      "  Target text: mütəşəkkilləşdirilmə\n",
      "  Language: unknown\n",
      "  Error type: TRANSLITERATION\n",
      "  Index: 346\n",
      "Sample 2:\n",
      "  Source text: müvazinetleşdirilmə\n",
      "  Target text: müvazinətləşdirilmə\n",
      "  Language: unknown\n",
      "  Error type: TRANSLITERATION\n",
      "  Index: 166\n",
      "\n",
      "Batch 2 info:\n",
      "Batch size: 512\n",
      "Source shapes: torch.Size([512, 22])\n",
      "Target shapes: torch.Size([512, 22])\n",
      "Sample 0:\n",
      "  Source text: kondisionerlesdirmek\n",
      "  Target text: kondisionerləşdirmək\n",
      "  Language: unknown\n",
      "  Error type: TRANSLITERATION\n",
      "  Index: 736\n",
      "Sample 1:\n",
      "  Source text: muxalifetyönümlulük\n",
      "  Target text: müxalifətyönümlülük\n",
      "  Language: unknown\n",
      "  Error type: TRANSLITERATION\n",
      "  Index: 593\n",
      "Sample 2:\n",
      "  Source text: rəngsizləşdirilmek\n",
      "  Target text: rəngsizləşdirilmək\n",
      "  Language: unknown\n",
      "  Error type: TRANSLITERATION\n",
      "  Index: 640\n"
     ]
    },
    {
     "name": "stderr",
     "output_type": "stream",
     "text": [
      "/opt/conda/lib/python3.10/site-packages/torch/nn/modules/transformer.py:286: UserWarning: enable_nested_tensor is True, but self.use_nested_tensor is False because encoder_layer.self_attn.batch_first was not True(use batch_first for better inference performance)\n",
      "  warnings.warn(f\"enable_nested_tensor is True, but self.use_nested_tensor is False because {why_not_sparsity_fast_path}\")\n"
     ]
    },
    {
     "name": "stdout",
     "output_type": "stream",
     "text": [
      "Model initialized on cuda\n",
      "\n",
      "--- Starting primary training phase with weighted loss ---\n",
      "Using weighted loss with weights: {'DELETION': 10.0, 'INSERTION': 1.5, 'KEYBOARD': 1.0, 'TRANSLITERATION': 1.0}\n"
     ]
    },
    {
     "name": "stderr",
     "output_type": "stream",
     "text": [
      "/opt/conda/lib/python3.10/site-packages/torch/optim/lr_scheduler.py:28: UserWarning: The verbose parameter is deprecated. Please use get_last_lr() to access the learning rate.\n",
      "  warnings.warn(\"The verbose parameter is deprecated. Please use get_last_lr() \"\n"
     ]
    },
    {
     "data": {
      "application/vnd.jupyter.widget-view+json": {
       "model_id": "17eba1a4a64149bd86e87042f2ba2166",
       "version_major": 2,
       "version_minor": 0
      },
      "text/plain": [
       "Training:   0%|          | 0/50 [00:00<?, ?it/s]"
      ]
     },
     "metadata": {},
     "output_type": "display_data"
    },
    {
     "data": {
      "application/vnd.jupyter.widget-view+json": {
       "model_id": "725efbdf0f2341e08c8b669e717c0e39",
       "version_major": 2,
       "version_minor": 0
      },
      "text/plain": [
       "Epoch 1/50 [Train] LR: 0.000100:   0%|          | 0/1067 [00:00<?, ?it/s]"
      ]
     },
     "metadata": {},
     "output_type": "display_data"
    },
    {
     "name": "stderr",
     "output_type": "stream",
     "text": [
      "/opt/conda/lib/python3.10/site-packages/torch/nn/functional.py:5109: UserWarning: Support for mismatched src_key_padding_mask and mask is deprecated. Use same type for both instead.\n",
      "  warnings.warn(\n",
      "/opt/conda/lib/python3.10/site-packages/torch/nn/functional.py:5109: UserWarning: Support for mismatched key_padding_mask and attn_mask is deprecated. Use same type for both instead.\n",
      "  warnings.warn(\n"
     ]
    },
    {
     "data": {
      "application/vnd.jupyter.widget-view+json": {
       "model_id": "1bdaacbe9a35464c987e2f028230bddd",
       "version_major": 2,
       "version_minor": 0
      },
      "text/plain": [
       "Epoch 1/50 [Valid]:   0%|          | 0/134 [00:00<?, ?it/s]"
      ]
     },
     "metadata": {},
     "output_type": "display_data"
    },
    {
     "data": {
      "application/vnd.jupyter.widget-view+json": {
       "model_id": "1fe10feb928644f4a476494da1795e12",
       "version_major": 2,
       "version_minor": 0
      },
      "text/plain": [
       "Evaluating:   0%|          | 0/134 [00:00<?, ?it/s]"
      ]
     },
     "metadata": {},
     "output_type": "display_data"
    },
    {
     "name": "stdout",
     "output_type": "stream",
     "text": [
      "\n",
      "Examples of CORRECT predictions by language:\n",
      "\n",
      "UNKNOWN:\n",
      "Source: muteşəkkilləşdirilmə, Target: mütəşəkkilləşdirilmə, Predicted: mütəşəkkilləşdirilmə\n",
      "Source: müvazinetleşdirilmə, Target: müvazinətləşdirilmə, Predicted: müvazinətləşdirilmə\n",
      "Source: ozünuqiymətləndirmə, Target: özünüqiymətləndirmə, Predicted: özünüqiymətləndirmə\n",
      "\n",
      "Examples of INCORRECT predictions by language:\n",
      "\n",
      "UNKNOWN:\n",
      "Source: mutesəkkilleşdirilmək, Target: mütəşəkkilləşdirilmək, Predicted: mütəşəkkilləşdirilmə\n",
      "Source: dispetcerlesdirilmə, Target: dispetçerləşdirilmə, Predicted: dispetçərləşdirilmə\n",
      "Source: kapitalizmeqedərki, Target: kapitalizməqədərki, Predicted: kapıtalızməqərki\n",
      "\n",
      "Word-level metrics - Precision: 0.5502, Recall: 0.5502, F1: 0.5502\n",
      "Character-level accuracy: 0.9033\n",
      "Average Levenshtein distance: 0.70\n",
      "\n",
      "Performance by error type:\n",
      "TRANSLITERATION: 0.7315 (26817/36661)\n",
      "INSERTION: 0.3746 (1968/5253)\n",
      "KEYBOARD: 0.3474 (8457/24346)\n",
      "DELETION: 0.1546 (308/1992)\n",
      "\n",
      "Performance by language:\n",
      "unknown: 0.5502 (37550/68252)\n",
      "\n",
      "DELETION error performance: 0.1546\n",
      "Saved new best model with F1: 0.5502\n"
     ]
    },
    {
     "data": {
      "application/vnd.jupyter.widget-view+json": {
       "model_id": "23e6f49dd5cb4b3c9ec3a8627edbea55",
       "version_major": 2,
       "version_minor": 0
      },
      "text/plain": [
       "Epoch 2/50 [Train] LR: 0.000100:   0%|          | 0/1067 [00:00<?, ?it/s]"
      ]
     },
     "metadata": {},
     "output_type": "display_data"
    },
    {
     "data": {
      "application/vnd.jupyter.widget-view+json": {
       "model_id": "0ae268809daa4853bbabd43a88a3164f",
       "version_major": 2,
       "version_minor": 0
      },
      "text/plain": [
       "Epoch 2/50 [Valid]:   0%|          | 0/134 [00:00<?, ?it/s]"
      ]
     },
     "metadata": {},
     "output_type": "display_data"
    },
    {
     "data": {
      "application/vnd.jupyter.widget-view+json": {
       "model_id": "af5c297edfbd4dadbd2ab5666080c6ec",
       "version_major": 2,
       "version_minor": 0
      },
      "text/plain": [
       "Evaluating:   0%|          | 0/134 [00:00<?, ?it/s]"
      ]
     },
     "metadata": {},
     "output_type": "display_data"
    },
    {
     "name": "stdout",
     "output_type": "stream",
     "text": [
      "\n",
      "Examples of CORRECT predictions by language:\n",
      "\n",
      "UNKNOWN:\n",
      "Source: muteşəkkilləşdirilmə, Target: mütəşəkkilləşdirilmə, Predicted: mütəşəkkilləşdirilmə\n",
      "Source: müvazinetleşdirilmə, Target: müvazinətləşdirilmə, Predicted: müvazinətləşdirilmə\n",
      "Source: ozünuqiymətləndirmə, Target: özünüqiymətləndirmə, Predicted: özünüqiymətləndirmə\n",
      "\n",
      "Examples of INCORRECT predictions by language:\n",
      "\n",
      "UNKNOWN:\n",
      "Source: mutesəkkilleşdirilmək, Target: mütəşəkkilləşdirilmək, Predicted: mütəşəkkilləşdirilmə\n",
      "Source: dispetcerlesdirilmə, Target: dispetçerləşdirilmə, Predicted: dispercerləşdirilmə\n",
      "Source: kapitalizmeqedərki, Target: kapitalizməqədərki, Predicted: kapitalizməqədərk\n",
      "\n",
      "Word-level metrics - Precision: 0.6834, Recall: 0.6834, F1: 0.6834\n",
      "Character-level accuracy: 0.9273\n",
      "Average Levenshtein distance: 0.51\n",
      "\n",
      "Performance by error type:\n",
      "TRANSLITERATION: 0.7991 (29294/36661)\n",
      "KEYBOARD: 0.5921 (14415/24346)\n",
      "INSERTION: 0.4573 (2402/5253)\n",
      "DELETION: 0.2681 (534/1992)\n",
      "\n",
      "Performance by language:\n",
      "unknown: 0.6834 (46645/68252)\n",
      "\n",
      "DELETION error performance: 0.2681\n",
      "Saved new best model with F1: 0.6834\n"
     ]
    },
    {
     "data": {
      "application/vnd.jupyter.widget-view+json": {
       "model_id": "66289a0bb17d4145a2feaa678bd12ac3",
       "version_major": 2,
       "version_minor": 0
      },
      "text/plain": [
       "Epoch 3/50 [Train] LR: 0.000100:   0%|          | 0/1067 [00:00<?, ?it/s]"
      ]
     },
     "metadata": {},
     "output_type": "display_data"
    },
    {
     "data": {
      "application/vnd.jupyter.widget-view+json": {
       "model_id": "ae017391190148d28f74032790417cf9",
       "version_major": 2,
       "version_minor": 0
      },
      "text/plain": [
       "Epoch 3/50 [Valid]:   0%|          | 0/134 [00:00<?, ?it/s]"
      ]
     },
     "metadata": {},
     "output_type": "display_data"
    },
    {
     "data": {
      "application/vnd.jupyter.widget-view+json": {
       "model_id": "060263399e60493eb811d7237aaf626e",
       "version_major": 2,
       "version_minor": 0
      },
      "text/plain": [
       "Evaluating:   0%|          | 0/134 [00:00<?, ?it/s]"
      ]
     },
     "metadata": {},
     "output_type": "display_data"
    },
    {
     "name": "stdout",
     "output_type": "stream",
     "text": [
      "\n",
      "Examples of CORRECT predictions by language:\n",
      "\n",
      "UNKNOWN:\n",
      "Source: muteşəkkilləşdirilmə, Target: mütəşəkkilləşdirilmə, Predicted: mütəşəkkilləşdirilmə\n",
      "Source: müvazinetleşdirilmə, Target: müvazinətləşdirilmə, Predicted: müvazinətləşdirilmə\n",
      "Source: ozünuqiymətləndirmə, Target: özünüqiymətləndirmə, Predicted: özünüqiymətləndirmə\n",
      "\n",
      "Examples of INCORRECT predictions by language:\n",
      "\n",
      "UNKNOWN:\n",
      "Source: mutesəkkilleşdirilmək, Target: mütəşəkkilləşdirilmək, Predicted: mütəşəkkilləşdirilmə\n",
      "Source: dispetcerlesdirilmə, Target: dispetçerləşdirilmə, Predicted: dispetcərləşdirilmə\n",
      "Source: kapitalizmeqedərki, Target: kapitalizməqədərki, Predicted: kapitalızməqədərki\n",
      "\n",
      "Word-level metrics - Precision: 0.7668, Recall: 0.7668, F1: 0.7668\n",
      "Character-level accuracy: 0.9476\n",
      "Average Levenshtein distance: 0.38\n",
      "\n",
      "Performance by error type:\n",
      "TRANSLITERATION: 0.8379 (30719/36661)\n",
      "KEYBOARD: 0.7335 (17858/24346)\n",
      "INSERTION: 0.5814 (3054/5253)\n",
      "DELETION: 0.3524 (702/1992)\n",
      "\n",
      "Performance by language:\n",
      "unknown: 0.7668 (52333/68252)\n",
      "\n",
      "DELETION error performance: 0.3524\n",
      "Saved new best model with F1: 0.7668\n"
     ]
    },
    {
     "data": {
      "application/vnd.jupyter.widget-view+json": {
       "model_id": "0540f0f34aed40ed8b0bfc685ccee865",
       "version_major": 2,
       "version_minor": 0
      },
      "text/plain": [
       "Epoch 4/50 [Train] LR: 0.000100:   0%|          | 0/1067 [00:00<?, ?it/s]"
      ]
     },
     "metadata": {},
     "output_type": "display_data"
    },
    {
     "data": {
      "application/vnd.jupyter.widget-view+json": {
       "model_id": "5a042719687f45d483301689c4725b5a",
       "version_major": 2,
       "version_minor": 0
      },
      "text/plain": [
       "Epoch 4/50 [Valid]:   0%|          | 0/134 [00:00<?, ?it/s]"
      ]
     },
     "metadata": {},
     "output_type": "display_data"
    },
    {
     "data": {
      "application/vnd.jupyter.widget-view+json": {
       "model_id": "49f90be70df74059af793d0db1852fb0",
       "version_major": 2,
       "version_minor": 0
      },
      "text/plain": [
       "Evaluating:   0%|          | 0/134 [00:00<?, ?it/s]"
      ]
     },
     "metadata": {},
     "output_type": "display_data"
    },
    {
     "name": "stdout",
     "output_type": "stream",
     "text": [
      "\n",
      "Examples of CORRECT predictions by language:\n",
      "\n",
      "UNKNOWN:\n",
      "Source: muteşəkkilləşdirilmə, Target: mütəşəkkilləşdirilmə, Predicted: mütəşəkkilləşdirilmə\n",
      "Source: müvazinetleşdirilmə, Target: müvazinətləşdirilmə, Predicted: müvazinətləşdirilmə\n",
      "Source: ozünuqiymətləndirmə, Target: özünüqiymətləndirmə, Predicted: özünüqiymətləndirmə\n",
      "\n",
      "Examples of INCORRECT predictions by language:\n",
      "\n",
      "UNKNOWN:\n",
      "Source: mutesəkkilleşdirilmək, Target: mütəşəkkilləşdirilmək, Predicted: mütəşəkkilləşdirilmə\n",
      "Source: psevdovetenperver, Target: psevdovətənpərvər, Predicted: psevdövətənpərvər\n",
      "Source: federallasdirmaq, Target: federallaşdırmaq, Predicted: fədərallaşdırmaq\n",
      "\n",
      "Word-level metrics - Precision: 0.8070, Recall: 0.8070, F1: 0.8070\n",
      "Character-level accuracy: 0.9567\n",
      "Average Levenshtein distance: 0.32\n",
      "\n",
      "Performance by error type:\n",
      "TRANSLITERATION: 0.8638 (31669/36661)\n",
      "KEYBOARD: 0.7974 (19413/24346)\n",
      "INSERTION: 0.6004 (3154/5253)\n",
      "DELETION: 0.4227 (842/1992)\n",
      "\n",
      "Performance by language:\n",
      "unknown: 0.8070 (55078/68252)\n",
      "\n",
      "DELETION error performance: 0.4227\n",
      "Saved new best model with F1: 0.8070\n"
     ]
    },
    {
     "data": {
      "application/vnd.jupyter.widget-view+json": {
       "model_id": "2082767e551647f9a01cb126c0bba190",
       "version_major": 2,
       "version_minor": 0
      },
      "text/plain": [
       "Epoch 5/50 [Train] LR: 0.000100:   0%|          | 0/1067 [00:00<?, ?it/s]"
      ]
     },
     "metadata": {},
     "output_type": "display_data"
    },
    {
     "data": {
      "application/vnd.jupyter.widget-view+json": {
       "model_id": "3be2b7d7b3484c2fa442d682c85a9b97",
       "version_major": 2,
       "version_minor": 0
      },
      "text/plain": [
       "Epoch 5/50 [Valid]:   0%|          | 0/134 [00:00<?, ?it/s]"
      ]
     },
     "metadata": {},
     "output_type": "display_data"
    },
    {
     "data": {
      "application/vnd.jupyter.widget-view+json": {
       "model_id": "05ec36d34292434990afccb90a7824f2",
       "version_major": 2,
       "version_minor": 0
      },
      "text/plain": [
       "Evaluating:   0%|          | 0/134 [00:00<?, ?it/s]"
      ]
     },
     "metadata": {},
     "output_type": "display_data"
    },
    {
     "name": "stdout",
     "output_type": "stream",
     "text": [
      "\n",
      "Examples of CORRECT predictions by language:\n",
      "\n",
      "UNKNOWN:\n",
      "Source: muteşəkkilləşdirilmə, Target: mütəşəkkilləşdirilmə, Predicted: mütəşəkkilləşdirilmə\n",
      "Source: müvazinetleşdirilmə, Target: müvazinətləşdirilmə, Predicted: müvazinətləşdirilmə\n",
      "Source: ozünuqiymətləndirmə, Target: özünüqiymətləndirmə, Predicted: özünüqiymətləndirmə\n",
      "\n",
      "Examples of INCORRECT predictions by language:\n",
      "\n",
      "UNKNOWN:\n",
      "Source: mutesəkkilleşdirilmək, Target: mütəşəkkilləşdirilmək, Predicted: mütəşəkkilləşdirilmə\n",
      "Source: kapitalizmeqedərki, Target: kapitalizməqədərki, Predicted: kapitalızməqədərki\n",
      "Source: təskinləsdirici, Target: təskinləşdirici, Predicted: təşkinləşdirici\n",
      "\n",
      "Word-level metrics - Precision: 0.8417, Recall: 0.8417, F1: 0.8417\n",
      "Character-level accuracy: 0.9624\n",
      "Average Levenshtein distance: 0.27\n",
      "\n",
      "Performance by error type:\n",
      "TRANSLITERATION: 0.8880 (32554/36661)\n",
      "KEYBOARD: 0.8315 (20243/24346)\n",
      "INSERTION: 0.7047 (3702/5253)\n",
      "DELETION: 0.4769 (950/1992)\n",
      "\n",
      "Performance by language:\n",
      "unknown: 0.8417 (57449/68252)\n",
      "\n",
      "DELETION error performance: 0.4769\n",
      "Saved new best model with F1: 0.8417\n"
     ]
    },
    {
     "data": {
      "application/vnd.jupyter.widget-view+json": {
       "model_id": "48692d06be8f4e26b757a13385196520",
       "version_major": 2,
       "version_minor": 0
      },
      "text/plain": [
       "Epoch 6/50 [Train] LR: 0.000100:   0%|          | 0/1067 [00:00<?, ?it/s]"
      ]
     },
     "metadata": {},
     "output_type": "display_data"
    },
    {
     "data": {
      "application/vnd.jupyter.widget-view+json": {
       "model_id": "21aa5055470c472aa7373d906673a570",
       "version_major": 2,
       "version_minor": 0
      },
      "text/plain": [
       "Epoch 6/50 [Valid]:   0%|          | 0/134 [00:00<?, ?it/s]"
      ]
     },
     "metadata": {},
     "output_type": "display_data"
    },
    {
     "data": {
      "application/vnd.jupyter.widget-view+json": {
       "model_id": "2c641e3a67a445f18c28c48ea6e60868",
       "version_major": 2,
       "version_minor": 0
      },
      "text/plain": [
       "Evaluating:   0%|          | 0/134 [00:00<?, ?it/s]"
      ]
     },
     "metadata": {},
     "output_type": "display_data"
    },
    {
     "name": "stdout",
     "output_type": "stream",
     "text": [
      "\n",
      "Examples of CORRECT predictions by language:\n",
      "\n",
      "UNKNOWN:\n",
      "Source: muteşəkkilləşdirilmə, Target: mütəşəkkilləşdirilmə, Predicted: mütəşəkkilləşdirilmə\n",
      "Source: müvazinetleşdirilmə, Target: müvazinətləşdirilmə, Predicted: müvazinətləşdirilmə\n",
      "Source: ozünuqiymətləndirmə, Target: özünüqiymətləndirmə, Predicted: özünüqiymətləndirmə\n",
      "\n",
      "Examples of INCORRECT predictions by language:\n",
      "\n",
      "UNKNOWN:\n",
      "Source: mutesəkkilleşdirilmək, Target: mütəşəkkilləşdirilmək, Predicted: mütəşəkkilləşdirilmə\n",
      "Source: sadlandirilmaq, Target: şadlandırılmaq, Predicted: sadlandırılmaq\n",
      "Source: meslehətamiz, Target: məsləhətamiz, Predicted: məsləhətamız\n",
      "\n",
      "Word-level metrics - Precision: 0.8652, Recall: 0.8652, F1: 0.8652\n",
      "Character-level accuracy: 0.9699\n",
      "Average Levenshtein distance: 0.23\n",
      "\n",
      "Performance by error type:\n",
      "TRANSLITERATION: 0.8966 (32872/36661)\n",
      "KEYBOARD: 0.8723 (21238/24346)\n",
      "INSERTION: 0.7514 (3947/5253)\n",
      "DELETION: 0.5005 (997/1992)\n",
      "\n",
      "Performance by language:\n",
      "unknown: 0.8652 (59054/68252)\n",
      "\n",
      "DELETION error performance: 0.5005\n",
      "Saved new best model with F1: 0.8652\n"
     ]
    },
    {
     "data": {
      "application/vnd.jupyter.widget-view+json": {
       "model_id": "96c45f0b90ac407caa49ff4d5cd4df47",
       "version_major": 2,
       "version_minor": 0
      },
      "text/plain": [
       "Epoch 7/50 [Train] LR: 0.000100:   0%|          | 0/1067 [00:00<?, ?it/s]"
      ]
     },
     "metadata": {},
     "output_type": "display_data"
    },
    {
     "data": {
      "application/vnd.jupyter.widget-view+json": {
       "model_id": "9f54ffbaace94a13b58e27bb00a8025c",
       "version_major": 2,
       "version_minor": 0
      },
      "text/plain": [
       "Epoch 7/50 [Valid]:   0%|          | 0/134 [00:00<?, ?it/s]"
      ]
     },
     "metadata": {},
     "output_type": "display_data"
    },
    {
     "data": {
      "application/vnd.jupyter.widget-view+json": {
       "model_id": "21130b46f80d44cd8fb50e7b1cb01bd4",
       "version_major": 2,
       "version_minor": 0
      },
      "text/plain": [
       "Evaluating:   0%|          | 0/134 [00:00<?, ?it/s]"
      ]
     },
     "metadata": {},
     "output_type": "display_data"
    },
    {
     "name": "stdout",
     "output_type": "stream",
     "text": [
      "\n",
      "Examples of CORRECT predictions by language:\n",
      "\n",
      "UNKNOWN:\n",
      "Source: muteşəkkilləşdirilmə, Target: mütəşəkkilləşdirilmə, Predicted: mütəşəkkilləşdirilmə\n",
      "Source: müvazinetleşdirilmə, Target: müvazinətləşdirilmə, Predicted: müvazinətləşdirilmə\n",
      "Source: ozünuqiymətləndirmə, Target: özünüqiymətləndirmə, Predicted: özünüqiymətləndirmə\n",
      "\n",
      "Examples of INCORRECT predictions by language:\n",
      "\n",
      "UNKNOWN:\n",
      "Source: mutesəkkilleşdirilmək, Target: mütəşəkkilləşdirilmək, Predicted: mütəşəkkilləşdirilmə\n",
      "Source: federallasdirmaq, Target: federallaşdırmaq, Predicted: fədərallaşdırmaq\n",
      "Source: sadlandirilmaq, Target: şadlandırılmaq, Predicted: sadlandırılmaq\n",
      "\n",
      "Word-level metrics - Precision: 0.8819, Recall: 0.8819, F1: 0.8819\n",
      "Character-level accuracy: 0.9725\n",
      "Average Levenshtein distance: 0.21\n",
      "\n",
      "Performance by error type:\n",
      "TRANSLITERATION: 0.9117 (33423/36661)\n",
      "KEYBOARD: 0.8941 (21767/24346)\n",
      "INSERTION: 0.7360 (3866/5253)\n",
      "DELETION: 0.5698 (1135/1992)\n",
      "\n",
      "Performance by language:\n",
      "unknown: 0.8819 (60191/68252)\n",
      "\n",
      "DELETION error performance: 0.5698\n",
      "Saved new best model with F1: 0.8819\n"
     ]
    },
    {
     "data": {
      "application/vnd.jupyter.widget-view+json": {
       "model_id": "856a11974fd943ccbe3b844198b0292f",
       "version_major": 2,
       "version_minor": 0
      },
      "text/plain": [
       "Epoch 8/50 [Train] LR: 0.000100:   0%|          | 0/1067 [00:00<?, ?it/s]"
      ]
     },
     "metadata": {},
     "output_type": "display_data"
    },
    {
     "data": {
      "application/vnd.jupyter.widget-view+json": {
       "model_id": "6ca73d9d401e4022bbd8aa961824fded",
       "version_major": 2,
       "version_minor": 0
      },
      "text/plain": [
       "Epoch 8/50 [Valid]:   0%|          | 0/134 [00:00<?, ?it/s]"
      ]
     },
     "metadata": {},
     "output_type": "display_data"
    },
    {
     "data": {
      "application/vnd.jupyter.widget-view+json": {
       "model_id": "67e8f5c4d5ca4df3ab96837fc2ed23ce",
       "version_major": 2,
       "version_minor": 0
      },
      "text/plain": [
       "Evaluating:   0%|          | 0/134 [00:00<?, ?it/s]"
      ]
     },
     "metadata": {},
     "output_type": "display_data"
    },
    {
     "name": "stdout",
     "output_type": "stream",
     "text": [
      "\n",
      "Examples of CORRECT predictions by language:\n",
      "\n",
      "UNKNOWN:\n",
      "Source: muteşəkkilləşdirilmə, Target: mütəşəkkilləşdirilmə, Predicted: mütəşəkkilləşdirilmə\n",
      "Source: müvazinetleşdirilmə, Target: müvazinətləşdirilmə, Predicted: müvazinətləşdirilmə\n",
      "Source: ozünuqiymətləndirmə, Target: özünüqiymətləndirmə, Predicted: özünüqiymətləndirmə\n",
      "\n",
      "Examples of INCORRECT predictions by language:\n",
      "\n",
      "UNKNOWN:\n",
      "Source: mutesəkkilleşdirilmək, Target: mütəşəkkilləşdirilmək, Predicted: mütəşəkkilləşdirilmə\n",
      "Source: istahaliliq, Target: iştahalılıq, Predicted: istahalılıq\n",
      "Source: şuşurdilən, Target: şişirdilən, Predicted: şüşürdilən\n",
      "\n",
      "Word-level metrics - Precision: 0.8912, Recall: 0.8912, F1: 0.8912\n",
      "Character-level accuracy: 0.9751\n",
      "Average Levenshtein distance: 0.19\n",
      "\n",
      "Performance by error type:\n",
      "TRANSLITERATION: 0.9149 (33540/36661)\n",
      "KEYBOARD: 0.9098 (22151/24346)\n",
      "INSERTION: 0.7478 (3928/5253)\n",
      "DELETION: 0.6064 (1208/1992)\n",
      "\n",
      "Performance by language:\n",
      "unknown: 0.8912 (60827/68252)\n",
      "\n",
      "DELETION error performance: 0.6064\n",
      "Saved new best model with F1: 0.8912\n"
     ]
    },
    {
     "data": {
      "application/vnd.jupyter.widget-view+json": {
       "model_id": "0767f2a4c4654f41b27609cfd73f4dac",
       "version_major": 2,
       "version_minor": 0
      },
      "text/plain": [
       "Epoch 9/50 [Train] LR: 0.000100:   0%|          | 0/1067 [00:00<?, ?it/s]"
      ]
     },
     "metadata": {},
     "output_type": "display_data"
    },
    {
     "data": {
      "application/vnd.jupyter.widget-view+json": {
       "model_id": "58139d72a8004b97b1be1256401f7e67",
       "version_major": 2,
       "version_minor": 0
      },
      "text/plain": [
       "Epoch 9/50 [Valid]:   0%|          | 0/134 [00:00<?, ?it/s]"
      ]
     },
     "metadata": {},
     "output_type": "display_data"
    },
    {
     "data": {
      "application/vnd.jupyter.widget-view+json": {
       "model_id": "c8a6bb7a1e4846c2b03431cd6debbabb",
       "version_major": 2,
       "version_minor": 0
      },
      "text/plain": [
       "Evaluating:   0%|          | 0/134 [00:00<?, ?it/s]"
      ]
     },
     "metadata": {},
     "output_type": "display_data"
    },
    {
     "name": "stdout",
     "output_type": "stream",
     "text": [
      "\n",
      "Examples of CORRECT predictions by language:\n",
      "\n",
      "UNKNOWN:\n",
      "Source: muteşəkkilləşdirilmə, Target: mütəşəkkilləşdirilmə, Predicted: mütəşəkkilləşdirilmə\n",
      "Source: müvazinetleşdirilmə, Target: müvazinətləşdirilmə, Predicted: müvazinətləşdirilmə\n",
      "Source: ozünuqiymətləndirmə, Target: özünüqiymətləndirmə, Predicted: özünüqiymətləndirmə\n",
      "\n",
      "Examples of INCORRECT predictions by language:\n",
      "\n",
      "UNKNOWN:\n",
      "Source: mutesəkkilleşdirilmək, Target: mütəşəkkilləşdirilmək, Predicted: mütəşəkkilləşdirilmə\n",
      "Source: sadlandirilmaq, Target: şadlandırılmaq, Predicted: sadlandırılmaq\n",
      "Source: meslehətamiz, Target: məsləhətamiz, Predicted: məsləhətamız\n",
      "\n",
      "Word-level metrics - Precision: 0.8983, Recall: 0.8983, F1: 0.8983\n",
      "Character-level accuracy: 0.9758\n",
      "Average Levenshtein distance: 0.19\n",
      "\n",
      "Performance by error type:\n",
      "TRANSLITERATION: 0.9237 (33863/36661)\n",
      "KEYBOARD: 0.9115 (22191/24346)\n",
      "INSERTION: 0.7777 (4085/5253)\n",
      "DELETION: 0.5884 (1172/1992)\n",
      "\n",
      "Performance by language:\n",
      "unknown: 0.8983 (61311/68252)\n",
      "\n",
      "DELETION error performance: 0.5884\n",
      "Saved new best model with F1: 0.8983\n"
     ]
    },
    {
     "data": {
      "application/vnd.jupyter.widget-view+json": {
       "model_id": "aa70fb5e2fdd49109729d9f3438f3aa8",
       "version_major": 2,
       "version_minor": 0
      },
      "text/plain": [
       "Epoch 10/50 [Train] LR: 0.000100:   0%|          | 0/1067 [00:00<?, ?it/s]"
      ]
     },
     "metadata": {},
     "output_type": "display_data"
    },
    {
     "data": {
      "application/vnd.jupyter.widget-view+json": {
       "model_id": "5f7fccb1796d4a7d9e503cbc7215f9d9",
       "version_major": 2,
       "version_minor": 0
      },
      "text/plain": [
       "Epoch 10/50 [Valid]:   0%|          | 0/134 [00:00<?, ?it/s]"
      ]
     },
     "metadata": {},
     "output_type": "display_data"
    },
    {
     "data": {
      "application/vnd.jupyter.widget-view+json": {
       "model_id": "25599efea9cf465097632fecc5912ca7",
       "version_major": 2,
       "version_minor": 0
      },
      "text/plain": [
       "Evaluating:   0%|          | 0/134 [00:00<?, ?it/s]"
      ]
     },
     "metadata": {},
     "output_type": "display_data"
    },
    {
     "name": "stdout",
     "output_type": "stream",
     "text": [
      "\n",
      "Examples of CORRECT predictions by language:\n",
      "\n",
      "UNKNOWN:\n",
      "Source: muteşəkkilləşdirilmə, Target: mütəşəkkilləşdirilmə, Predicted: mütəşəkkilləşdirilmə\n",
      "Source: müvazinetleşdirilmə, Target: müvazinətləşdirilmə, Predicted: müvazinətləşdirilmə\n",
      "Source: ozünuqiymətləndirmə, Target: özünüqiymətləndirmə, Predicted: özünüqiymətləndirmə\n",
      "\n",
      "Examples of INCORRECT predictions by language:\n",
      "\n",
      "UNKNOWN:\n",
      "Source: mutesəkkilleşdirilmək, Target: mütəşəkkilləşdirilmək, Predicted: mütəşəkkilləşdirilmə\n",
      "Source: psevdovetenperver, Target: psevdovətənpərvər, Predicted: psevdovetənpərvər\n",
      "Source: sadlandirilmaq, Target: şadlandırılmaq, Predicted: sadlandırılmaq\n",
      "\n",
      "Word-level metrics - Precision: 0.9087, Recall: 0.9087, F1: 0.9087\n",
      "Character-level accuracy: 0.9800\n",
      "Average Levenshtein distance: 0.16\n",
      "\n",
      "Performance by error type:\n",
      "TRANSLITERATION: 0.9283 (34034/36661)\n",
      "KEYBOARD: 0.9271 (22570/24346)\n",
      "INSERTION: 0.8026 (4216/5253)\n",
      "DELETION: 0.6014 (1198/1992)\n",
      "\n",
      "Performance by language:\n",
      "unknown: 0.9087 (62018/68252)\n",
      "\n",
      "DELETION error performance: 0.6014\n",
      "Saved new best model with F1: 0.9087\n"
     ]
    },
    {
     "data": {
      "application/vnd.jupyter.widget-view+json": {
       "model_id": "7e150a310e544065a3120f1f968dc666",
       "version_major": 2,
       "version_minor": 0
      },
      "text/plain": [
       "Epoch 11/50 [Train] LR: 0.000100:   0%|          | 0/1067 [00:00<?, ?it/s]"
      ]
     },
     "metadata": {},
     "output_type": "display_data"
    },
    {
     "data": {
      "application/vnd.jupyter.widget-view+json": {
       "model_id": "c2f1a542f6a041c99a49758d4551f59e",
       "version_major": 2,
       "version_minor": 0
      },
      "text/plain": [
       "Epoch 11/50 [Valid]:   0%|          | 0/134 [00:00<?, ?it/s]"
      ]
     },
     "metadata": {},
     "output_type": "display_data"
    },
    {
     "data": {
      "application/vnd.jupyter.widget-view+json": {
       "model_id": "875d23a2ccd1411d8f801f3d3105869e",
       "version_major": 2,
       "version_minor": 0
      },
      "text/plain": [
       "Evaluating:   0%|          | 0/134 [00:00<?, ?it/s]"
      ]
     },
     "metadata": {},
     "output_type": "display_data"
    },
    {
     "name": "stdout",
     "output_type": "stream",
     "text": [
      "\n",
      "Examples of CORRECT predictions by language:\n",
      "\n",
      "UNKNOWN:\n",
      "Source: muteşəkkilləşdirilmə, Target: mütəşəkkilləşdirilmə, Predicted: mütəşəkkilləşdirilmə\n",
      "Source: müvazinetleşdirilmə, Target: müvazinətləşdirilmə, Predicted: müvazinətləşdirilmə\n",
      "Source: ozünuqiymətləndirmə, Target: özünüqiymətləndirmə, Predicted: özünüqiymətləndirmə\n",
      "\n",
      "Examples of INCORRECT predictions by language:\n",
      "\n",
      "UNKNOWN:\n",
      "Source: mutesəkkilleşdirilmək, Target: mütəşəkkilləşdirilmək, Predicted: mütəşəkkilləşdirilmə\n",
      "Source: federallasdirmaq, Target: federallaşdırmaq, Predicted: fədərallaşdırmaq\n",
      "Source: şuşurdilən, Target: şişirdilən, Predicted: şüşürdilən\n",
      "\n",
      "Word-level metrics - Precision: 0.9100, Recall: 0.9100, F1: 0.9100\n",
      "Character-level accuracy: 0.9789\n",
      "Average Levenshtein distance: 0.17\n",
      "\n",
      "Performance by error type:\n",
      "KEYBOARD: 0.9340 (22738/24346)\n",
      "TRANSLITERATION: 0.9264 (33963/36661)\n",
      "INSERTION: 0.7967 (4185/5253)\n",
      "DELETION: 0.6140 (1223/1992)\n",
      "\n",
      "Performance by language:\n",
      "unknown: 0.9100 (62109/68252)\n",
      "\n",
      "DELETION error performance: 0.6140\n",
      "Saved new best model with F1: 0.9100\n"
     ]
    },
    {
     "data": {
      "application/vnd.jupyter.widget-view+json": {
       "model_id": "3172cf95baef498398aae46a5ced6071",
       "version_major": 2,
       "version_minor": 0
      },
      "text/plain": [
       "Epoch 12/50 [Train] LR: 0.000100:   0%|          | 0/1067 [00:00<?, ?it/s]"
      ]
     },
     "metadata": {},
     "output_type": "display_data"
    },
    {
     "data": {
      "application/vnd.jupyter.widget-view+json": {
       "model_id": "a0d62ff37fb14300afa5de0b9ea0e9f3",
       "version_major": 2,
       "version_minor": 0
      },
      "text/plain": [
       "Epoch 12/50 [Valid]:   0%|          | 0/134 [00:00<?, ?it/s]"
      ]
     },
     "metadata": {},
     "output_type": "display_data"
    },
    {
     "data": {
      "application/vnd.jupyter.widget-view+json": {
       "model_id": "ae45e13a4cbf44d5b327a77aef6eb2cf",
       "version_major": 2,
       "version_minor": 0
      },
      "text/plain": [
       "Evaluating:   0%|          | 0/134 [00:00<?, ?it/s]"
      ]
     },
     "metadata": {},
     "output_type": "display_data"
    },
    {
     "name": "stdout",
     "output_type": "stream",
     "text": [
      "\n",
      "Examples of CORRECT predictions by language:\n",
      "\n",
      "UNKNOWN:\n",
      "Source: muteşəkkilləşdirilmə, Target: mütəşəkkilləşdirilmə, Predicted: mütəşəkkilləşdirilmə\n",
      "Source: müvazinetleşdirilmə, Target: müvazinətləşdirilmə, Predicted: müvazinətləşdirilmə\n",
      "Source: ozünuqiymətləndirmə, Target: özünüqiymətləndirmə, Predicted: özünüqiymətləndirmə\n",
      "\n",
      "Examples of INCORRECT predictions by language:\n",
      "\n",
      "UNKNOWN:\n",
      "Source: mutesəkkilleşdirilmək, Target: mütəşəkkilləşdirilmək, Predicted: mütəşəkkilləşdirilmə\n",
      "Source: istahaliliq, Target: iştahalılıq, Predicted: istahalılıq\n",
      "Source: şuşurdilən, Target: şişirdilən, Predicted: şüşürdilən\n",
      "\n",
      "Word-level metrics - Precision: 0.9151, Recall: 0.9151, F1: 0.9151\n",
      "Character-level accuracy: 0.9803\n",
      "Average Levenshtein distance: 0.16\n",
      "\n",
      "Performance by error type:\n",
      "KEYBOARD: 0.9383 (22845/24346)\n",
      "TRANSLITERATION: 0.9297 (34083/36661)\n",
      "INSERTION: 0.8174 (4294/5253)\n",
      "DELETION: 0.6205 (1236/1992)\n",
      "\n",
      "Performance by language:\n",
      "unknown: 0.9151 (62458/68252)\n",
      "\n",
      "DELETION error performance: 0.6205\n",
      "Saved new best model with F1: 0.9151\n"
     ]
    },
    {
     "data": {
      "application/vnd.jupyter.widget-view+json": {
       "model_id": "a95e38fe90114ff5996cbb458d26490f",
       "version_major": 2,
       "version_minor": 0
      },
      "text/plain": [
       "Epoch 13/50 [Train] LR: 0.000100:   0%|          | 0/1067 [00:00<?, ?it/s]"
      ]
     },
     "metadata": {},
     "output_type": "display_data"
    },
    {
     "data": {
      "application/vnd.jupyter.widget-view+json": {
       "model_id": "8d4efb4442154f28a533e4fda482a5f4",
       "version_major": 2,
       "version_minor": 0
      },
      "text/plain": [
       "Epoch 13/50 [Valid]:   0%|          | 0/134 [00:00<?, ?it/s]"
      ]
     },
     "metadata": {},
     "output_type": "display_data"
    },
    {
     "data": {
      "application/vnd.jupyter.widget-view+json": {
       "model_id": "b0f7f8bae844476b8158e2fe2b88ef45",
       "version_major": 2,
       "version_minor": 0
      },
      "text/plain": [
       "Evaluating:   0%|          | 0/134 [00:00<?, ?it/s]"
      ]
     },
     "metadata": {},
     "output_type": "display_data"
    },
    {
     "name": "stdout",
     "output_type": "stream",
     "text": [
      "\n",
      "Examples of CORRECT predictions by language:\n",
      "\n",
      "UNKNOWN:\n",
      "Source: muteşəkkilləşdirilmə, Target: mütəşəkkilləşdirilmə, Predicted: mütəşəkkilləşdirilmə\n",
      "Source: müvazinetleşdirilmə, Target: müvazinətləşdirilmə, Predicted: müvazinətləşdirilmə\n",
      "Source: ozünuqiymətləndirmə, Target: özünüqiymətləndirmə, Predicted: özünüqiymətləndirmə\n",
      "\n",
      "Examples of INCORRECT predictions by language:\n",
      "\n",
      "UNKNOWN:\n",
      "Source: mutesəkkilleşdirilmək, Target: mütəşəkkilləşdirilmək, Predicted: mütəşəkkilləşdirilmə\n",
      "Source: federallasdirmaq, Target: federallaşdırmaq, Predicted: fədərallaşdırmaq\n",
      "Source: sadlandirilmaq, Target: şadlandırılmaq, Predicted: sadlandırılmaq\n",
      "\n",
      "Word-level metrics - Precision: 0.9237, Recall: 0.9237, F1: 0.9237\n",
      "Character-level accuracy: 0.9826\n",
      "Average Levenshtein distance: 0.14\n",
      "\n",
      "Performance by error type:\n",
      "KEYBOARD: 0.9427 (22951/24346)\n",
      "TRANSLITERATION: 0.9407 (34486/36661)\n",
      "INSERTION: 0.8199 (4307/5253)\n",
      "DELETION: 0.6531 (1301/1992)\n",
      "\n",
      "Performance by language:\n",
      "unknown: 0.9237 (63045/68252)\n",
      "\n",
      "DELETION error performance: 0.6531\n",
      "Saved new best model with F1: 0.9237\n"
     ]
    },
    {
     "data": {
      "application/vnd.jupyter.widget-view+json": {
       "model_id": "79fbbf3859954252a3061ee092983d6d",
       "version_major": 2,
       "version_minor": 0
      },
      "text/plain": [
       "Epoch 14/50 [Train] LR: 0.000100:   0%|          | 0/1067 [00:00<?, ?it/s]"
      ]
     },
     "metadata": {},
     "output_type": "display_data"
    },
    {
     "data": {
      "application/vnd.jupyter.widget-view+json": {
       "model_id": "305ac9cd88b541c799a20c6c03f813bb",
       "version_major": 2,
       "version_minor": 0
      },
      "text/plain": [
       "Epoch 14/50 [Valid]:   0%|          | 0/134 [00:00<?, ?it/s]"
      ]
     },
     "metadata": {},
     "output_type": "display_data"
    },
    {
     "data": {
      "application/vnd.jupyter.widget-view+json": {
       "model_id": "42d38c4494284cafba6b280217687471",
       "version_major": 2,
       "version_minor": 0
      },
      "text/plain": [
       "Evaluating:   0%|          | 0/134 [00:00<?, ?it/s]"
      ]
     },
     "metadata": {},
     "output_type": "display_data"
    },
    {
     "name": "stdout",
     "output_type": "stream",
     "text": [
      "\n",
      "Examples of CORRECT predictions by language:\n",
      "\n",
      "UNKNOWN:\n",
      "Source: muteşəkkilləşdirilmə, Target: mütəşəkkilləşdirilmə, Predicted: mütəşəkkilləşdirilmə\n",
      "Source: müvazinetleşdirilmə, Target: müvazinətləşdirilmə, Predicted: müvazinətləşdirilmə\n",
      "Source: ozünuqiymətləndirmə, Target: özünüqiymətləndirmə, Predicted: özünüqiymətləndirmə\n",
      "\n",
      "Examples of INCORRECT predictions by language:\n",
      "\n",
      "UNKNOWN:\n",
      "Source: mutesəkkilleşdirilmək, Target: mütəşəkkilləşdirilmək, Predicted: mütəşəkkilləşdirilmə\n",
      "Source: təskinləsdirici, Target: təskinləşdirici, Predicted: təşkinləşdirici\n",
      "Source: gelebenzer, Target: geləbənzər, Predicted: gələbənzər\n",
      "\n",
      "Word-level metrics - Precision: 0.9239, Recall: 0.9239, F1: 0.9239\n",
      "Character-level accuracy: 0.9825\n",
      "Average Levenshtein distance: 0.14\n",
      "\n",
      "Performance by error type:\n",
      "KEYBOARD: 0.9507 (23146/24346)\n",
      "TRANSLITERATION: 0.9330 (34204/36661)\n",
      "INSERTION: 0.8416 (4421/5253)\n",
      "DELETION: 0.6471 (1289/1992)\n",
      "\n",
      "Performance by language:\n",
      "unknown: 0.9239 (63060/68252)\n",
      "\n",
      "DELETION error performance: 0.6471\n",
      "Saved new best model with F1: 0.9239\n"
     ]
    },
    {
     "data": {
      "application/vnd.jupyter.widget-view+json": {
       "model_id": "b8cf7bf7c64e4016831d62838b970b1f",
       "version_major": 2,
       "version_minor": 0
      },
      "text/plain": [
       "Epoch 15/50 [Train] LR: 0.000100:   0%|          | 0/1067 [00:00<?, ?it/s]"
      ]
     },
     "metadata": {},
     "output_type": "display_data"
    },
    {
     "data": {
      "application/vnd.jupyter.widget-view+json": {
       "model_id": "f4cac3bf80694e3ca999fdc8aa01463a",
       "version_major": 2,
       "version_minor": 0
      },
      "text/plain": [
       "Epoch 15/50 [Valid]:   0%|          | 0/134 [00:00<?, ?it/s]"
      ]
     },
     "metadata": {},
     "output_type": "display_data"
    },
    {
     "data": {
      "application/vnd.jupyter.widget-view+json": {
       "model_id": "6ec84556e13746b9b390626fea2c1e0a",
       "version_major": 2,
       "version_minor": 0
      },
      "text/plain": [
       "Evaluating:   0%|          | 0/134 [00:00<?, ?it/s]"
      ]
     },
     "metadata": {},
     "output_type": "display_data"
    },
    {
     "name": "stdout",
     "output_type": "stream",
     "text": [
      "\n",
      "Examples of CORRECT predictions by language:\n",
      "\n",
      "UNKNOWN:\n",
      "Source: muteşəkkilləşdirilmə, Target: mütəşəkkilləşdirilmə, Predicted: mütəşəkkilləşdirilmə\n",
      "Source: müvazinetleşdirilmə, Target: müvazinətləşdirilmə, Predicted: müvazinətləşdirilmə\n",
      "Source: ozünuqiymətləndirmə, Target: özünüqiymətləndirmə, Predicted: özünüqiymətləndirmə\n",
      "\n",
      "Examples of INCORRECT predictions by language:\n",
      "\n",
      "UNKNOWN:\n",
      "Source: mutesəkkilleşdirilmək, Target: mütəşəkkilləşdirilmək, Predicted: mütəşəkkilləşdirilmə\n",
      "Source: luzumsuzluq, Target: lüzumsuzluq, Predicted: lüzümsüzlüq\n",
      "Source: taəbletlər, Target: tabletlər, Predicted: təblətlər\n",
      "\n",
      "Word-level metrics - Precision: 0.9298, Recall: 0.9298, F1: 0.9298\n",
      "Character-level accuracy: 0.9846\n",
      "Average Levenshtein distance: 0.13\n",
      "\n",
      "Performance by error type:\n",
      "KEYBOARD: 0.9532 (23207/24346)\n",
      "TRANSLITERATION: 0.9414 (34514/36661)\n",
      "INSERTION: 0.8445 (4436/5253)\n",
      "DELETION: 0.6556 (1306/1992)\n",
      "\n",
      "Performance by language:\n",
      "unknown: 0.9298 (63463/68252)\n",
      "\n",
      "DELETION error performance: 0.6556\n",
      "Saved new best model with F1: 0.9298\n"
     ]
    },
    {
     "data": {
      "application/vnd.jupyter.widget-view+json": {
       "model_id": "95fd393fa7d349a4b2102fab34146265",
       "version_major": 2,
       "version_minor": 0
      },
      "text/plain": [
       "Epoch 16/50 [Train] LR: 0.000100:   0%|          | 0/1067 [00:00<?, ?it/s]"
      ]
     },
     "metadata": {},
     "output_type": "display_data"
    },
    {
     "data": {
      "application/vnd.jupyter.widget-view+json": {
       "model_id": "8b7af69d5f574ec4a4a84a8115440deb",
       "version_major": 2,
       "version_minor": 0
      },
      "text/plain": [
       "Epoch 16/50 [Valid]:   0%|          | 0/134 [00:00<?, ?it/s]"
      ]
     },
     "metadata": {},
     "output_type": "display_data"
    },
    {
     "data": {
      "application/vnd.jupyter.widget-view+json": {
       "model_id": "838d7c0f104b4b208dea93d450318acd",
       "version_major": 2,
       "version_minor": 0
      },
      "text/plain": [
       "Evaluating:   0%|          | 0/134 [00:00<?, ?it/s]"
      ]
     },
     "metadata": {},
     "output_type": "display_data"
    },
    {
     "name": "stdout",
     "output_type": "stream",
     "text": [
      "\n",
      "Examples of CORRECT predictions by language:\n",
      "\n",
      "UNKNOWN:\n",
      "Source: muteşəkkilləşdirilmə, Target: mütəşəkkilləşdirilmə, Predicted: mütəşəkkilləşdirilmə\n",
      "Source: müvazinetleşdirilmə, Target: müvazinətləşdirilmə, Predicted: müvazinətləşdirilmə\n",
      "Source: ozünuqiymətləndirmə, Target: özünüqiymətləndirmə, Predicted: özünüqiymətləndirmə\n",
      "\n",
      "Examples of INCORRECT predictions by language:\n",
      "\n",
      "UNKNOWN:\n",
      "Source: mutesəkkilleşdirilmək, Target: mütəşəkkilləşdirilmək, Predicted: mütəşəkkilləşdirilmə\n",
      "Source: hazırlamaliar, Target: hazırlamalar, Predicted: hazırlamalıar\n",
      "Source: disağardan, Target: dişağardan, Predicted: dışağardan\n",
      "\n",
      "Word-level metrics - Precision: 0.9338, Recall: 0.9338, F1: 0.9338\n",
      "Character-level accuracy: 0.9851\n",
      "Average Levenshtein distance: 0.12\n",
      "\n",
      "Performance by error type:\n",
      "KEYBOARD: 0.9561 (23276/24346)\n",
      "TRANSLITERATION: 0.9449 (34640/36661)\n",
      "INSERTION: 0.8643 (4540/5253)\n",
      "DELETION: 0.6411 (1277/1992)\n",
      "\n",
      "Performance by language:\n",
      "unknown: 0.9338 (63733/68252)\n",
      "\n",
      "DELETION error performance: 0.6411\n",
      "Saved new best model with F1: 0.9338\n"
     ]
    },
    {
     "data": {
      "application/vnd.jupyter.widget-view+json": {
       "model_id": "f9575dd9876f401f9467c1c620596264",
       "version_major": 2,
       "version_minor": 0
      },
      "text/plain": [
       "Epoch 17/50 [Train] LR: 0.000100:   0%|          | 0/1067 [00:00<?, ?it/s]"
      ]
     },
     "metadata": {},
     "output_type": "display_data"
    },
    {
     "data": {
      "application/vnd.jupyter.widget-view+json": {
       "model_id": "33c0058551fe4ac9b8f6d43b52eb9d40",
       "version_major": 2,
       "version_minor": 0
      },
      "text/plain": [
       "Epoch 17/50 [Valid]:   0%|          | 0/134 [00:00<?, ?it/s]"
      ]
     },
     "metadata": {},
     "output_type": "display_data"
    },
    {
     "data": {
      "application/vnd.jupyter.widget-view+json": {
       "model_id": "8db1610db74f42abad6b1e9a77eab1be",
       "version_major": 2,
       "version_minor": 0
      },
      "text/plain": [
       "Evaluating:   0%|          | 0/134 [00:00<?, ?it/s]"
      ]
     },
     "metadata": {},
     "output_type": "display_data"
    },
    {
     "name": "stdout",
     "output_type": "stream",
     "text": [
      "\n",
      "Examples of CORRECT predictions by language:\n",
      "\n",
      "UNKNOWN:\n",
      "Source: muteşəkkilləşdirilmə, Target: mütəşəkkilləşdirilmə, Predicted: mütəşəkkilləşdirilmə\n",
      "Source: müvazinetleşdirilmə, Target: müvazinətləşdirilmə, Predicted: müvazinətləşdirilmə\n",
      "Source: ozünuqiymətləndirmə, Target: özünüqiymətləndirmə, Predicted: özünüqiymətləndirmə\n",
      "\n",
      "Examples of INCORRECT predictions by language:\n",
      "\n",
      "UNKNOWN:\n",
      "Source: mutesəkkilleşdirilmək, Target: mütəşəkkilləşdirilmək, Predicted: mütəşəkkilləşdirilmə\n",
      "Source: hazırlamaliar, Target: hazırlamalar, Predicted: hazırlamalıar\n",
      "Source: ılluninatibg, Target: ılluminating, Predicted: ıllluminating\n",
      "\n",
      "Word-level metrics - Precision: 0.9317, Recall: 0.9317, F1: 0.9317\n",
      "Character-level accuracy: 0.9848\n",
      "Average Levenshtein distance: 0.12\n",
      "\n",
      "Performance by error type:\n",
      "TRANSLITERATION: 0.9487 (34782/36661)\n",
      "KEYBOARD: 0.9476 (23071/24346)\n",
      "INSERTION: 0.8471 (4450/5253)\n",
      "DELETION: 0.6471 (1289/1992)\n",
      "\n",
      "Performance by language:\n",
      "unknown: 0.9317 (63592/68252)\n",
      "\n",
      "DELETION error performance: 0.6471\n"
     ]
    },
    {
     "data": {
      "application/vnd.jupyter.widget-view+json": {
       "model_id": "bcd9ee5800234453939560cdd1b1a006",
       "version_major": 2,
       "version_minor": 0
      },
      "text/plain": [
       "Epoch 18/50 [Train] LR: 0.000100:   0%|          | 0/1067 [00:00<?, ?it/s]"
      ]
     },
     "metadata": {},
     "output_type": "display_data"
    },
    {
     "data": {
      "application/vnd.jupyter.widget-view+json": {
       "model_id": "db30173128fa403dba562668afa59e91",
       "version_major": 2,
       "version_minor": 0
      },
      "text/plain": [
       "Epoch 18/50 [Valid]:   0%|          | 0/134 [00:00<?, ?it/s]"
      ]
     },
     "metadata": {},
     "output_type": "display_data"
    },
    {
     "data": {
      "application/vnd.jupyter.widget-view+json": {
       "model_id": "bad7083bcde04b00b8114599f3936177",
       "version_major": 2,
       "version_minor": 0
      },
      "text/plain": [
       "Evaluating:   0%|          | 0/134 [00:00<?, ?it/s]"
      ]
     },
     "metadata": {},
     "output_type": "display_data"
    },
    {
     "name": "stdout",
     "output_type": "stream",
     "text": [
      "\n",
      "Examples of CORRECT predictions by language:\n",
      "\n",
      "UNKNOWN:\n",
      "Source: muteşəkkilləşdirilmə, Target: mütəşəkkilləşdirilmə, Predicted: mütəşəkkilləşdirilmə\n",
      "Source: müvazinetleşdirilmə, Target: müvazinətləşdirilmə, Predicted: müvazinətləşdirilmə\n",
      "Source: ozünuqiymətləndirmə, Target: özünüqiymətləndirmə, Predicted: özünüqiymətləndirmə\n",
      "\n",
      "Examples of INCORRECT predictions by language:\n",
      "\n",
      "UNKNOWN:\n",
      "Source: mutesəkkilleşdirilmək, Target: mütəşəkkilləşdirilmək, Predicted: mütəşəkkilləşdirilmə\n",
      "Source: qaadlnlar, Target: qadlnlar, Predicted: qaradınlar\n",
      "Source: aptekcə, Target: aptekçə, Predicted: aptekcə\n",
      "\n",
      "Word-level metrics - Precision: 0.9369, Recall: 0.9369, F1: 0.9369\n",
      "Character-level accuracy: 0.9859\n",
      "Average Levenshtein distance: 0.12\n",
      "\n",
      "Performance by error type:\n",
      "KEYBOARD: 0.9627 (23437/24346)\n",
      "TRANSLITERATION: 0.9465 (34698/36661)\n",
      "INSERTION: 0.8523 (4477/5253)\n",
      "DELETION: 0.6692 (1333/1992)\n",
      "\n",
      "Performance by language:\n",
      "unknown: 0.9369 (63945/68252)\n",
      "\n",
      "DELETION error performance: 0.6692\n",
      "Saved new best model with F1: 0.9369\n"
     ]
    },
    {
     "data": {
      "application/vnd.jupyter.widget-view+json": {
       "model_id": "fe462d10c2aa4e9ba38cae6166a678dd",
       "version_major": 2,
       "version_minor": 0
      },
      "text/plain": [
       "Epoch 19/50 [Train] LR: 0.000100:   0%|          | 0/1067 [00:00<?, ?it/s]"
      ]
     },
     "metadata": {},
     "output_type": "display_data"
    },
    {
     "data": {
      "application/vnd.jupyter.widget-view+json": {
       "model_id": "5c083997c63f4dcab12dcd5b07e1f42c",
       "version_major": 2,
       "version_minor": 0
      },
      "text/plain": [
       "Epoch 19/50 [Valid]:   0%|          | 0/134 [00:00<?, ?it/s]"
      ]
     },
     "metadata": {},
     "output_type": "display_data"
    },
    {
     "data": {
      "application/vnd.jupyter.widget-view+json": {
       "model_id": "41091e1333c74ec4a00f77faca6d9041",
       "version_major": 2,
       "version_minor": 0
      },
      "text/plain": [
       "Evaluating:   0%|          | 0/134 [00:00<?, ?it/s]"
      ]
     },
     "metadata": {},
     "output_type": "display_data"
    },
    {
     "name": "stdout",
     "output_type": "stream",
     "text": [
      "\n",
      "Examples of CORRECT predictions by language:\n",
      "\n",
      "UNKNOWN:\n",
      "Source: muteşəkkilləşdirilmə, Target: mütəşəkkilləşdirilmə, Predicted: mütəşəkkilləşdirilmə\n",
      "Source: müvazinetleşdirilmə, Target: müvazinətləşdirilmə, Predicted: müvazinətləşdirilmə\n",
      "Source: ozünuqiymətləndirmə, Target: özünüqiymətləndirmə, Predicted: özünüqiymətləndirmə\n",
      "\n",
      "Examples of INCORRECT predictions by language:\n",
      "\n",
      "UNKNOWN:\n",
      "Source: mutesəkkilleşdirilmək, Target: mütəşəkkilləşdirilmək, Predicted: mütəşəkkilləşdirilmə\n",
      "Source: gelebenzer, Target: geləbənzər, Predicted: gələbənzər\n",
      "Source: cilçıragi, Target: çilçırağı, Predicted: çılçırağı\n",
      "\n",
      "Word-level metrics - Precision: 0.9375, Recall: 0.9375, F1: 0.9375\n",
      "Character-level accuracy: 0.9860\n",
      "Average Levenshtein distance: 0.12\n",
      "\n",
      "Performance by error type:\n",
      "KEYBOARD: 0.9627 (23438/24346)\n",
      "TRANSLITERATION: 0.9474 (34732/36661)\n",
      "INSERTION: 0.8502 (4466/5253)\n",
      "DELETION: 0.6792 (1353/1992)\n",
      "\n",
      "Performance by language:\n",
      "unknown: 0.9375 (63989/68252)\n",
      "\n",
      "DELETION error performance: 0.6792\n",
      "Saved new best model with F1: 0.9375\n"
     ]
    },
    {
     "data": {
      "application/vnd.jupyter.widget-view+json": {
       "model_id": "56b9ab102233440ebe158cb094a5cd25",
       "version_major": 2,
       "version_minor": 0
      },
      "text/plain": [
       "Epoch 20/50 [Train] LR: 0.000100:   0%|          | 0/1067 [00:00<?, ?it/s]"
      ]
     },
     "metadata": {},
     "output_type": "display_data"
    },
    {
     "data": {
      "application/vnd.jupyter.widget-view+json": {
       "model_id": "144609c35190416a8ef46a595be07d30",
       "version_major": 2,
       "version_minor": 0
      },
      "text/plain": [
       "Epoch 20/50 [Valid]:   0%|          | 0/134 [00:00<?, ?it/s]"
      ]
     },
     "metadata": {},
     "output_type": "display_data"
    },
    {
     "data": {
      "application/vnd.jupyter.widget-view+json": {
       "model_id": "6d48e77663f2475ca2d1ee0e6065cb53",
       "version_major": 2,
       "version_minor": 0
      },
      "text/plain": [
       "Evaluating:   0%|          | 0/134 [00:00<?, ?it/s]"
      ]
     },
     "metadata": {},
     "output_type": "display_data"
    },
    {
     "name": "stdout",
     "output_type": "stream",
     "text": [
      "\n",
      "Examples of CORRECT predictions by language:\n",
      "\n",
      "UNKNOWN:\n",
      "Source: muteşəkkilləşdirilmə, Target: mütəşəkkilləşdirilmə, Predicted: mütəşəkkilləşdirilmə\n",
      "Source: müvazinetleşdirilmə, Target: müvazinətləşdirilmə, Predicted: müvazinətləşdirilmə\n",
      "Source: ozünuqiymətləndirmə, Target: özünüqiymətləndirmə, Predicted: özünüqiymətləndirmə\n",
      "\n",
      "Examples of INCORRECT predictions by language:\n",
      "\n",
      "UNKNOWN:\n",
      "Source: mutesəkkilleşdirilmək, Target: mütəşəkkilləşdirilmək, Predicted: mütəşəkkilləşdirilmə\n",
      "Source: psevdovetenperver, Target: psevdovətənpərvər, Predicted: psevdovetənpərvər\n",
      "Source: şuşurdilən, Target: şişirdilən, Predicted: şüşürdilən\n",
      "\n",
      "Word-level metrics - Precision: 0.9403, Recall: 0.9403, F1: 0.9403\n",
      "Character-level accuracy: 0.9870\n",
      "Average Levenshtein distance: 0.11\n",
      "\n",
      "Performance by error type:\n",
      "KEYBOARD: 0.9625 (23434/24346)\n",
      "TRANSLITERATION: 0.9516 (34885/36661)\n",
      "INSERTION: 0.8612 (4524/5253)\n",
      "DELETION: 0.6687 (1332/1992)\n",
      "\n",
      "Performance by language:\n",
      "unknown: 0.9403 (64175/68252)\n",
      "\n",
      "DELETION error performance: 0.6687\n",
      "Saved new best model with F1: 0.9403\n"
     ]
    },
    {
     "data": {
      "application/vnd.jupyter.widget-view+json": {
       "model_id": "8aef63041ec94245b691f3e9b4f2e50a",
       "version_major": 2,
       "version_minor": 0
      },
      "text/plain": [
       "Epoch 21/50 [Train] LR: 0.000100:   0%|          | 0/1067 [00:00<?, ?it/s]"
      ]
     },
     "metadata": {},
     "output_type": "display_data"
    },
    {
     "data": {
      "application/vnd.jupyter.widget-view+json": {
       "model_id": "59181483e18f4988bbebe408ed96ad09",
       "version_major": 2,
       "version_minor": 0
      },
      "text/plain": [
       "Epoch 21/50 [Valid]:   0%|          | 0/134 [00:00<?, ?it/s]"
      ]
     },
     "metadata": {},
     "output_type": "display_data"
    },
    {
     "data": {
      "application/vnd.jupyter.widget-view+json": {
       "model_id": "7e475337d7614718b7d3fbba227b3cbd",
       "version_major": 2,
       "version_minor": 0
      },
      "text/plain": [
       "Evaluating:   0%|          | 0/134 [00:00<?, ?it/s]"
      ]
     },
     "metadata": {},
     "output_type": "display_data"
    },
    {
     "name": "stdout",
     "output_type": "stream",
     "text": [
      "\n",
      "Examples of CORRECT predictions by language:\n",
      "\n",
      "UNKNOWN:\n",
      "Source: muteşəkkilləşdirilmə, Target: mütəşəkkilləşdirilmə, Predicted: mütəşəkkilləşdirilmə\n",
      "Source: müvazinetleşdirilmə, Target: müvazinətləşdirilmə, Predicted: müvazinətləşdirilmə\n",
      "Source: ozünuqiymətləndirmə, Target: özünüqiymətləndirmə, Predicted: özünüqiymətləndirmə\n",
      "\n",
      "Examples of INCORRECT predictions by language:\n",
      "\n",
      "UNKNOWN:\n",
      "Source: mutesəkkilleşdirilmək, Target: mütəşəkkilləşdirilmək, Predicted: mütəşəkkilləşdirilmə\n",
      "Source: oqanayzeri, Target: orqanayzeri, Predicted: oqanayzeri\n",
      "Source: qaadlnlar, Target: qadlnlar, Predicted: qadınlar\n",
      "\n",
      "Word-level metrics - Precision: 0.9412, Recall: 0.9412, F1: 0.9412\n",
      "Character-level accuracy: 0.9873\n",
      "Average Levenshtein distance: 0.10\n",
      "\n",
      "Performance by error type:\n",
      "KEYBOARD: 0.9655 (23506/24346)\n",
      "TRANSLITERATION: 0.9502 (34835/36661)\n",
      "INSERTION: 0.8726 (4584/5253)\n",
      "DELETION: 0.6611 (1317/1992)\n",
      "\n",
      "Performance by language:\n",
      "unknown: 0.9412 (64242/68252)\n",
      "\n",
      "DELETION error performance: 0.6611\n",
      "Saved new best model with F1: 0.9412\n"
     ]
    },
    {
     "data": {
      "application/vnd.jupyter.widget-view+json": {
       "model_id": "f061d5eec11f4f2da12ad121216ba3e5",
       "version_major": 2,
       "version_minor": 0
      },
      "text/plain": [
       "Epoch 22/50 [Train] LR: 0.000100:   0%|          | 0/1067 [00:00<?, ?it/s]"
      ]
     },
     "metadata": {},
     "output_type": "display_data"
    },
    {
     "data": {
      "application/vnd.jupyter.widget-view+json": {
       "model_id": "6ff799b99df1442989b5274d27ab8907",
       "version_major": 2,
       "version_minor": 0
      },
      "text/plain": [
       "Epoch 22/50 [Valid]:   0%|          | 0/134 [00:00<?, ?it/s]"
      ]
     },
     "metadata": {},
     "output_type": "display_data"
    },
    {
     "data": {
      "application/vnd.jupyter.widget-view+json": {
       "model_id": "8af9cac0e2464bec88cc132000d78daa",
       "version_major": 2,
       "version_minor": 0
      },
      "text/plain": [
       "Evaluating:   0%|          | 0/134 [00:00<?, ?it/s]"
      ]
     },
     "metadata": {},
     "output_type": "display_data"
    },
    {
     "name": "stdout",
     "output_type": "stream",
     "text": [
      "\n",
      "Examples of CORRECT predictions by language:\n",
      "\n",
      "UNKNOWN:\n",
      "Source: muteşəkkilləşdirilmə, Target: mütəşəkkilləşdirilmə, Predicted: mütəşəkkilləşdirilmə\n",
      "Source: müvazinetleşdirilmə, Target: müvazinətləşdirilmə, Predicted: müvazinətləşdirilmə\n",
      "Source: ozünuqiymətləndirmə, Target: özünüqiymətləndirmə, Predicted: özünüqiymətləndirmə\n",
      "\n",
      "Examples of INCORRECT predictions by language:\n",
      "\n",
      "UNKNOWN:\n",
      "Source: mutesəkkilleşdirilmək, Target: mütəşəkkilləşdirilmək, Predicted: mütəşəkkilləşdirilmə\n",
      "Source: dösekcəsi, Target: döşəkçəsi, Predicted: döşəkcəsi\n",
      "Source: cilçıragi, Target: çilçırağı, Predicted: çılçırağı\n",
      "\n",
      "Word-level metrics - Precision: 0.9429, Recall: 0.9429, F1: 0.9429\n",
      "Character-level accuracy: 0.9875\n",
      "Average Levenshtein distance: 0.10\n",
      "\n",
      "Performance by error type:\n",
      "KEYBOARD: 0.9682 (23572/24346)\n",
      "TRANSLITERATION: 0.9538 (34968/36661)\n",
      "INSERTION: 0.8519 (4475/5253)\n",
      "DELETION: 0.6732 (1341/1992)\n",
      "\n",
      "Performance by language:\n",
      "unknown: 0.9429 (64356/68252)\n",
      "\n",
      "DELETION error performance: 0.6732\n",
      "Saved new best model with F1: 0.9429\n"
     ]
    },
    {
     "data": {
      "application/vnd.jupyter.widget-view+json": {
       "model_id": "187a53695a4d4efd99d6d74bf3f10365",
       "version_major": 2,
       "version_minor": 0
      },
      "text/plain": [
       "Epoch 23/50 [Train] LR: 0.000100:   0%|          | 0/1067 [00:00<?, ?it/s]"
      ]
     },
     "metadata": {},
     "output_type": "display_data"
    },
    {
     "data": {
      "application/vnd.jupyter.widget-view+json": {
       "model_id": "f72542d86fec42f9ae991d614b6eeb09",
       "version_major": 2,
       "version_minor": 0
      },
      "text/plain": [
       "Epoch 23/50 [Valid]:   0%|          | 0/134 [00:00<?, ?it/s]"
      ]
     },
     "metadata": {},
     "output_type": "display_data"
    },
    {
     "data": {
      "application/vnd.jupyter.widget-view+json": {
       "model_id": "e3c0c2c3f6e54a2aa4ad9db860787134",
       "version_major": 2,
       "version_minor": 0
      },
      "text/plain": [
       "Evaluating:   0%|          | 0/134 [00:00<?, ?it/s]"
      ]
     },
     "metadata": {},
     "output_type": "display_data"
    },
    {
     "name": "stdout",
     "output_type": "stream",
     "text": [
      "\n",
      "Examples of CORRECT predictions by language:\n",
      "\n",
      "UNKNOWN:\n",
      "Source: muteşəkkilləşdirilmə, Target: mütəşəkkilləşdirilmə, Predicted: mütəşəkkilləşdirilmə\n",
      "Source: müvazinetleşdirilmə, Target: müvazinətləşdirilmə, Predicted: müvazinətləşdirilmə\n",
      "Source: ozünuqiymətləndirmə, Target: özünüqiymətləndirmə, Predicted: özünüqiymətləndirmə\n",
      "\n",
      "Examples of INCORRECT predictions by language:\n",
      "\n",
      "UNKNOWN:\n",
      "Source: mutesəkkilleşdirilmək, Target: mütəşəkkilləşdirilmək, Predicted: mütəşəkkilləşdirilmə\n",
      "Source: mütəessirlənmə, Target: mütəəssirlənmə, Predicted: mütəəəssirlənmə\n",
      "Source: bənövsələri, Target: bənövşələri, Predicted: bənövşəkləri\n",
      "\n",
      "Word-level metrics - Precision: 0.9461, Recall: 0.9461, F1: 0.9461\n",
      "Character-level accuracy: 0.9884\n",
      "Average Levenshtein distance: 0.10\n",
      "\n",
      "Performance by error type:\n",
      "KEYBOARD: 0.9658 (23514/24346)\n",
      "TRANSLITERATION: 0.9578 (35114/36661)\n",
      "INSERTION: 0.8763 (4603/5253)\n",
      "DELETION: 0.6732 (1341/1992)\n",
      "\n",
      "Performance by language:\n",
      "unknown: 0.9461 (64572/68252)\n",
      "\n",
      "DELETION error performance: 0.6732\n",
      "Saved new best model with F1: 0.9461\n"
     ]
    },
    {
     "data": {
      "application/vnd.jupyter.widget-view+json": {
       "model_id": "a494d84be6d14d0986f51322c7240d7d",
       "version_major": 2,
       "version_minor": 0
      },
      "text/plain": [
       "Epoch 24/50 [Train] LR: 0.000100:   0%|          | 0/1067 [00:00<?, ?it/s]"
      ]
     },
     "metadata": {},
     "output_type": "display_data"
    },
    {
     "data": {
      "application/vnd.jupyter.widget-view+json": {
       "model_id": "5d70543ecc314b99aa7d2c45d58f67a4",
       "version_major": 2,
       "version_minor": 0
      },
      "text/plain": [
       "Epoch 24/50 [Valid]:   0%|          | 0/134 [00:00<?, ?it/s]"
      ]
     },
     "metadata": {},
     "output_type": "display_data"
    },
    {
     "data": {
      "application/vnd.jupyter.widget-view+json": {
       "model_id": "8449c2dbf3e7454bbd60f5a3b89979b2",
       "version_major": 2,
       "version_minor": 0
      },
      "text/plain": [
       "Evaluating:   0%|          | 0/134 [00:00<?, ?it/s]"
      ]
     },
     "metadata": {},
     "output_type": "display_data"
    },
    {
     "name": "stdout",
     "output_type": "stream",
     "text": [
      "\n",
      "Examples of CORRECT predictions by language:\n",
      "\n",
      "UNKNOWN:\n",
      "Source: muteşəkkilləşdirilmə, Target: mütəşəkkilləşdirilmə, Predicted: mütəşəkkilləşdirilmə\n",
      "Source: müvazinetleşdirilmə, Target: müvazinətləşdirilmə, Predicted: müvazinətləşdirilmə\n",
      "Source: ozünuqiymətləndirmə, Target: özünüqiymətləndirmə, Predicted: özünüqiymətləndirmə\n",
      "\n",
      "Examples of INCORRECT predictions by language:\n",
      "\n",
      "UNKNOWN:\n",
      "Source: mutesəkkilleşdirilmək, Target: mütəşəkkilləşdirilmək, Predicted: mütəşəkkilləşdirilmə\n",
      "Source: cilçıragi, Target: çilçırağı, Predicted: çılçırağı\n",
      "Source: krakelyie, Target: krakelyur, Predicted: krakelya\n",
      "\n",
      "Word-level metrics - Precision: 0.9430, Recall: 0.9430, F1: 0.9430\n",
      "Character-level accuracy: 0.9881\n",
      "Average Levenshtein distance: 0.10\n",
      "\n",
      "Performance by error type:\n",
      "KEYBOARD: 0.9611 (23400/24346)\n",
      "TRANSLITERATION: 0.9552 (35019/36661)\n",
      "INSERTION: 0.8795 (4620/5253)\n",
      "DELETION: 0.6637 (1322/1992)\n",
      "\n",
      "Performance by language:\n",
      "unknown: 0.9430 (64361/68252)\n",
      "\n",
      "DELETION error performance: 0.6637\n"
     ]
    },
    {
     "data": {
      "application/vnd.jupyter.widget-view+json": {
       "model_id": "91789c637f0b43308583cc934306202e",
       "version_major": 2,
       "version_minor": 0
      },
      "text/plain": [
       "Epoch 25/50 [Train] LR: 0.000100:   0%|          | 0/1067 [00:00<?, ?it/s]"
      ]
     },
     "metadata": {},
     "output_type": "display_data"
    },
    {
     "data": {
      "application/vnd.jupyter.widget-view+json": {
       "model_id": "4b66b68b646f4684a7df2b968b423fed",
       "version_major": 2,
       "version_minor": 0
      },
      "text/plain": [
       "Epoch 25/50 [Valid]:   0%|          | 0/134 [00:00<?, ?it/s]"
      ]
     },
     "metadata": {},
     "output_type": "display_data"
    },
    {
     "data": {
      "application/vnd.jupyter.widget-view+json": {
       "model_id": "46a17a9db1294267b83caeffe901972d",
       "version_major": 2,
       "version_minor": 0
      },
      "text/plain": [
       "Evaluating:   0%|          | 0/134 [00:00<?, ?it/s]"
      ]
     },
     "metadata": {},
     "output_type": "display_data"
    },
    {
     "name": "stdout",
     "output_type": "stream",
     "text": [
      "\n",
      "Examples of CORRECT predictions by language:\n",
      "\n",
      "UNKNOWN:\n",
      "Source: muteşəkkilləşdirilmə, Target: mütəşəkkilləşdirilmə, Predicted: mütəşəkkilləşdirilmə\n",
      "Source: müvazinetleşdirilmə, Target: müvazinətləşdirilmə, Predicted: müvazinətləşdirilmə\n",
      "Source: ozünuqiymətləndirmə, Target: özünüqiymətləndirmə, Predicted: özünüqiymətləndirmə\n",
      "\n",
      "Examples of INCORRECT predictions by language:\n",
      "\n",
      "UNKNOWN:\n",
      "Source: mutesəkkilleşdirilmək, Target: mütəşəkkilləşdirilmək, Predicted: mütəşəkkilləşdirilmə\n",
      "Source: hazırlamaliar, Target: hazırlamalar, Predicted: hazırlamalıar\n",
      "Source: oqanayzeri, Target: orqanayzeri, Predicted: oqanayzeri\n",
      "\n",
      "Word-level metrics - Precision: 0.9479, Recall: 0.9479, F1: 0.9479\n",
      "Character-level accuracy: 0.9885\n",
      "Average Levenshtein distance: 0.09\n",
      "\n",
      "Performance by error type:\n",
      "KEYBOARD: 0.9710 (23639/24346)\n",
      "TRANSLITERATION: 0.9577 (35110/36661)\n",
      "INSERTION: 0.8669 (4554/5253)\n",
      "DELETION: 0.6998 (1394/1992)\n",
      "\n",
      "Performance by language:\n",
      "unknown: 0.9479 (64697/68252)\n",
      "\n",
      "DELETION error performance: 0.6998\n",
      "Saved new best model with F1: 0.9479\n"
     ]
    },
    {
     "data": {
      "application/vnd.jupyter.widget-view+json": {
       "model_id": "57630e89b2ac42188a389e5e9d5a5537",
       "version_major": 2,
       "version_minor": 0
      },
      "text/plain": [
       "Epoch 26/50 [Train] LR: 0.000100:   0%|          | 0/1067 [00:00<?, ?it/s]"
      ]
     },
     "metadata": {},
     "output_type": "display_data"
    },
    {
     "data": {
      "application/vnd.jupyter.widget-view+json": {
       "model_id": "cfc9d7d0d80a42b7af1e33d936198887",
       "version_major": 2,
       "version_minor": 0
      },
      "text/plain": [
       "Epoch 26/50 [Valid]:   0%|          | 0/134 [00:00<?, ?it/s]"
      ]
     },
     "metadata": {},
     "output_type": "display_data"
    },
    {
     "data": {
      "application/vnd.jupyter.widget-view+json": {
       "model_id": "083fb42886a74efcbb1762033816484b",
       "version_major": 2,
       "version_minor": 0
      },
      "text/plain": [
       "Evaluating:   0%|          | 0/134 [00:00<?, ?it/s]"
      ]
     },
     "metadata": {},
     "output_type": "display_data"
    },
    {
     "name": "stdout",
     "output_type": "stream",
     "text": [
      "\n",
      "Examples of CORRECT predictions by language:\n",
      "\n",
      "UNKNOWN:\n",
      "Source: muteşəkkilləşdirilmə, Target: mütəşəkkilləşdirilmə, Predicted: mütəşəkkilləşdirilmə\n",
      "Source: müvazinetleşdirilmə, Target: müvazinətləşdirilmə, Predicted: müvazinətləşdirilmə\n",
      "Source: ozünuqiymətləndirmə, Target: özünüqiymətləndirmə, Predicted: özünüqiymətləndirmə\n",
      "\n",
      "Examples of INCORRECT predictions by language:\n",
      "\n",
      "UNKNOWN:\n",
      "Source: mutesəkkilleşdirilmək, Target: mütəşəkkilləşdirilmək, Predicted: mütəşəkkilləşdirilmə\n",
      "Source: meslehətamiz, Target: məsləhətamiz, Predicted: məsləhətamız\n",
      "Source: oqanayzeri, Target: orqanayzeri, Predicted: oqanayzeri\n",
      "\n",
      "Word-level metrics - Precision: 0.9492, Recall: 0.9492, F1: 0.9492\n",
      "Character-level accuracy: 0.9896\n",
      "Average Levenshtein distance: 0.09\n",
      "\n",
      "Performance by error type:\n",
      "KEYBOARD: 0.9709 (23638/24346)\n",
      "TRANSLITERATION: 0.9595 (35178/36661)\n",
      "INSERTION: 0.8785 (4615/5253)\n",
      "DELETION: 0.6802 (1355/1992)\n",
      "\n",
      "Performance by language:\n",
      "unknown: 0.9492 (64786/68252)\n",
      "\n",
      "DELETION error performance: 0.6802\n",
      "Saved new best model with F1: 0.9492\n"
     ]
    },
    {
     "data": {
      "application/vnd.jupyter.widget-view+json": {
       "model_id": "c7a3e88568a34debbc53ccf3b4c82687",
       "version_major": 2,
       "version_minor": 0
      },
      "text/plain": [
       "Epoch 27/50 [Train] LR: 0.000100:   0%|          | 0/1067 [00:00<?, ?it/s]"
      ]
     },
     "metadata": {},
     "output_type": "display_data"
    },
    {
     "data": {
      "application/vnd.jupyter.widget-view+json": {
       "model_id": "f713a25058c04878aab5994d4a5bfd61",
       "version_major": 2,
       "version_minor": 0
      },
      "text/plain": [
       "Epoch 27/50 [Valid]:   0%|          | 0/134 [00:00<?, ?it/s]"
      ]
     },
     "metadata": {},
     "output_type": "display_data"
    },
    {
     "data": {
      "application/vnd.jupyter.widget-view+json": {
       "model_id": "3ad216a5463f40a487ae7f0f0887f11c",
       "version_major": 2,
       "version_minor": 0
      },
      "text/plain": [
       "Evaluating:   0%|          | 0/134 [00:00<?, ?it/s]"
      ]
     },
     "metadata": {},
     "output_type": "display_data"
    },
    {
     "name": "stdout",
     "output_type": "stream",
     "text": [
      "\n",
      "Examples of CORRECT predictions by language:\n",
      "\n",
      "UNKNOWN:\n",
      "Source: muteşəkkilləşdirilmə, Target: mütəşəkkilləşdirilmə, Predicted: mütəşəkkilləşdirilmə\n",
      "Source: müvazinetleşdirilmə, Target: müvazinətləşdirilmə, Predicted: müvazinətləşdirilmə\n",
      "Source: ozünuqiymətləndirmə, Target: özünüqiymətləndirmə, Predicted: özünüqiymətləndirmə\n",
      "\n",
      "Examples of INCORRECT predictions by language:\n",
      "\n",
      "UNKNOWN:\n",
      "Source: mutesəkkilleşdirilmək, Target: mütəşəkkilləşdirilmək, Predicted: mütəşəkkilləşdirilmə\n",
      "Source: dızabaqlara, Target: sızanaqlara, Predicted: sızacaqlara\n",
      "Source: dösekcəsi, Target: döşəkçəsi, Predicted: döşəkcəsi\n",
      "\n",
      "Word-level metrics - Precision: 0.9460, Recall: 0.9460, F1: 0.9460\n",
      "Character-level accuracy: 0.9888\n",
      "Average Levenshtein distance: 0.10\n",
      "\n",
      "Performance by error type:\n",
      "KEYBOARD: 0.9683 (23574/24346)\n",
      "TRANSLITERATION: 0.9550 (35010/36661)\n",
      "INSERTION: 0.8789 (4617/5253)\n",
      "DELETION: 0.6847 (1364/1992)\n",
      "\n",
      "Performance by language:\n",
      "unknown: 0.9460 (64565/68252)\n",
      "\n",
      "DELETION error performance: 0.6847\n"
     ]
    },
    {
     "data": {
      "application/vnd.jupyter.widget-view+json": {
       "model_id": "87a54c22906241a698bed152d69043e9",
       "version_major": 2,
       "version_minor": 0
      },
      "text/plain": [
       "Epoch 28/50 [Train] LR: 0.000100:   0%|          | 0/1067 [00:00<?, ?it/s]"
      ]
     },
     "metadata": {},
     "output_type": "display_data"
    },
    {
     "data": {
      "application/vnd.jupyter.widget-view+json": {
       "model_id": "0ec876a3bc004bc998e30497cb132720",
       "version_major": 2,
       "version_minor": 0
      },
      "text/plain": [
       "Epoch 28/50 [Valid]:   0%|          | 0/134 [00:00<?, ?it/s]"
      ]
     },
     "metadata": {},
     "output_type": "display_data"
    },
    {
     "data": {
      "application/vnd.jupyter.widget-view+json": {
       "model_id": "ab2dbacb71114970b789b73e0fc47742",
       "version_major": 2,
       "version_minor": 0
      },
      "text/plain": [
       "Evaluating:   0%|          | 0/134 [00:00<?, ?it/s]"
      ]
     },
     "metadata": {},
     "output_type": "display_data"
    },
    {
     "name": "stdout",
     "output_type": "stream",
     "text": [
      "\n",
      "Examples of CORRECT predictions by language:\n",
      "\n",
      "UNKNOWN:\n",
      "Source: muteşəkkilləşdirilmə, Target: mütəşəkkilləşdirilmə, Predicted: mütəşəkkilləşdirilmə\n",
      "Source: müvazinetleşdirilmə, Target: müvazinətləşdirilmə, Predicted: müvazinətləşdirilmə\n",
      "Source: ozünuqiymətləndirmə, Target: özünüqiymətləndirmə, Predicted: özünüqiymətləndirmə\n",
      "\n",
      "Examples of INCORRECT predictions by language:\n",
      "\n",
      "UNKNOWN:\n",
      "Source: mutesəkkilleşdirilmək, Target: mütəşəkkilləşdirilmək, Predicted: mütəşəkkilləşdirilmə\n",
      "Source: cilçıragi, Target: çilçırağı, Predicted: çılçırağı\n",
      "Source: aptekcə, Target: aptekçə, Predicted: aptekcə\n",
      "\n",
      "Word-level metrics - Precision: 0.9502, Recall: 0.9502, F1: 0.9502\n",
      "Character-level accuracy: 0.9898\n",
      "Average Levenshtein distance: 0.09\n",
      "\n",
      "Performance by error type:\n",
      "KEYBOARD: 0.9722 (23668/24346)\n",
      "TRANSLITERATION: 0.9588 (35149/36661)\n",
      "INSERTION: 0.8871 (4660/5253)\n",
      "DELETION: 0.6913 (1377/1992)\n",
      "\n",
      "Performance by language:\n",
      "unknown: 0.9502 (64854/68252)\n",
      "\n",
      "DELETION error performance: 0.6913\n",
      "Saved new best model with F1: 0.9502\n"
     ]
    },
    {
     "data": {
      "application/vnd.jupyter.widget-view+json": {
       "model_id": "b99f46ee98a84fba87ad0b4761c40348",
       "version_major": 2,
       "version_minor": 0
      },
      "text/plain": [
       "Epoch 29/50 [Train] LR: 0.000100:   0%|          | 0/1067 [00:00<?, ?it/s]"
      ]
     },
     "metadata": {},
     "output_type": "display_data"
    },
    {
     "data": {
      "application/vnd.jupyter.widget-view+json": {
       "model_id": "41b54480cd994314951f5e66976e0e47",
       "version_major": 2,
       "version_minor": 0
      },
      "text/plain": [
       "Epoch 29/50 [Valid]:   0%|          | 0/134 [00:00<?, ?it/s]"
      ]
     },
     "metadata": {},
     "output_type": "display_data"
    },
    {
     "data": {
      "application/vnd.jupyter.widget-view+json": {
       "model_id": "028e004eb9844f26a4f9c1c93faf3824",
       "version_major": 2,
       "version_minor": 0
      },
      "text/plain": [
       "Evaluating:   0%|          | 0/134 [00:00<?, ?it/s]"
      ]
     },
     "metadata": {},
     "output_type": "display_data"
    },
    {
     "name": "stdout",
     "output_type": "stream",
     "text": [
      "\n",
      "Examples of CORRECT predictions by language:\n",
      "\n",
      "UNKNOWN:\n",
      "Source: muteşəkkilləşdirilmə, Target: mütəşəkkilləşdirilmə, Predicted: mütəşəkkilləşdirilmə\n",
      "Source: müvazinetleşdirilmə, Target: müvazinətləşdirilmə, Predicted: müvazinətləşdirilmə\n",
      "Source: ozünuqiymətləndirmə, Target: özünüqiymətləndirmə, Predicted: özünüqiymətləndirmə\n",
      "\n",
      "Examples of INCORRECT predictions by language:\n",
      "\n",
      "UNKNOWN:\n",
      "Source: mutesəkkilleşdirilmək, Target: mütəşəkkilləşdirilmək, Predicted: mütəşəkkilləşdirilmə\n",
      "Source: qaadlnlar, Target: qadlnlar, Predicted: qadınlar\n",
      "Source: kadinlar, Target: kadınlar, Predicted: kalsinlar\n",
      "\n",
      "Word-level metrics - Precision: 0.9480, Recall: 0.9480, F1: 0.9480\n",
      "Character-level accuracy: 0.9886\n",
      "Average Levenshtein distance: 0.09\n",
      "\n",
      "Performance by error type:\n",
      "KEYBOARD: 0.9701 (23617/24346)\n",
      "TRANSLITERATION: 0.9594 (35173/36661)\n",
      "INSERTION: 0.8715 (4578/5253)\n",
      "DELETION: 0.6687 (1332/1992)\n",
      "\n",
      "Performance by language:\n",
      "unknown: 0.9480 (64700/68252)\n",
      "\n",
      "DELETION error performance: 0.6687\n"
     ]
    },
    {
     "data": {
      "application/vnd.jupyter.widget-view+json": {
       "model_id": "f775b366af8f44eca53ca19c5793b9c6",
       "version_major": 2,
       "version_minor": 0
      },
      "text/plain": [
       "Epoch 30/50 [Train] LR: 0.000100:   0%|          | 0/1067 [00:00<?, ?it/s]"
      ]
     },
     "metadata": {},
     "output_type": "display_data"
    },
    {
     "data": {
      "application/vnd.jupyter.widget-view+json": {
       "model_id": "91d107c1c5d8440da86e5f21d34ccab5",
       "version_major": 2,
       "version_minor": 0
      },
      "text/plain": [
       "Epoch 30/50 [Valid]:   0%|          | 0/134 [00:00<?, ?it/s]"
      ]
     },
     "metadata": {},
     "output_type": "display_data"
    },
    {
     "data": {
      "application/vnd.jupyter.widget-view+json": {
       "model_id": "74bfcff65c064570a07b13fc41180708",
       "version_major": 2,
       "version_minor": 0
      },
      "text/plain": [
       "Evaluating:   0%|          | 0/134 [00:00<?, ?it/s]"
      ]
     },
     "metadata": {},
     "output_type": "display_data"
    },
    {
     "name": "stdout",
     "output_type": "stream",
     "text": [
      "\n",
      "Examples of CORRECT predictions by language:\n",
      "\n",
      "UNKNOWN:\n",
      "Source: muteşəkkilləşdirilmə, Target: mütəşəkkilləşdirilmə, Predicted: mütəşəkkilləşdirilmə\n",
      "Source: müvazinetleşdirilmə, Target: müvazinətləşdirilmə, Predicted: müvazinətləşdirilmə\n",
      "Source: ozünuqiymətləndirmə, Target: özünüqiymətləndirmə, Predicted: özünüqiymətləndirmə\n",
      "\n",
      "Examples of INCORRECT predictions by language:\n",
      "\n",
      "UNKNOWN:\n",
      "Source: mutesəkkilleşdirilmək, Target: mütəşəkkilləşdirilmək, Predicted: mütəşəkkilləşdirilmə\n",
      "Source: kadinlar, Target: kadınlar, Predicted: kalsinlar\n",
      "Source: nikseti, Target: mikseri, Predicted: bukseri\n",
      "\n",
      "Word-level metrics - Precision: 0.9509, Recall: 0.9509, F1: 0.9509\n",
      "Character-level accuracy: 0.9895\n",
      "Average Levenshtein distance: 0.09\n",
      "\n",
      "Performance by error type:\n",
      "KEYBOARD: 0.9713 (23648/24346)\n",
      "TRANSLITERATION: 0.9594 (35173/36661)\n",
      "INSERTION: 0.8902 (4676/5253)\n",
      "DELETION: 0.7063 (1407/1992)\n",
      "\n",
      "Performance by language:\n",
      "unknown: 0.9509 (64904/68252)\n",
      "\n",
      "DELETION error performance: 0.7063\n",
      "Saved new best model with F1: 0.9509\n"
     ]
    },
    {
     "data": {
      "application/vnd.jupyter.widget-view+json": {
       "model_id": "855afd99a47e4bd6a24937ac18bd8cc8",
       "version_major": 2,
       "version_minor": 0
      },
      "text/plain": [
       "Epoch 31/50 [Train] LR: 0.000100:   0%|          | 0/1067 [00:00<?, ?it/s]"
      ]
     },
     "metadata": {},
     "output_type": "display_data"
    },
    {
     "data": {
      "application/vnd.jupyter.widget-view+json": {
       "model_id": "442017f04acc4143804ab06c2581a018",
       "version_major": 2,
       "version_minor": 0
      },
      "text/plain": [
       "Epoch 31/50 [Valid]:   0%|          | 0/134 [00:00<?, ?it/s]"
      ]
     },
     "metadata": {},
     "output_type": "display_data"
    },
    {
     "data": {
      "application/vnd.jupyter.widget-view+json": {
       "model_id": "c6e9f090665148dc8aa5895d282d629d",
       "version_major": 2,
       "version_minor": 0
      },
      "text/plain": [
       "Evaluating:   0%|          | 0/134 [00:00<?, ?it/s]"
      ]
     },
     "metadata": {},
     "output_type": "display_data"
    },
    {
     "name": "stdout",
     "output_type": "stream",
     "text": [
      "\n",
      "Examples of CORRECT predictions by language:\n",
      "\n",
      "UNKNOWN:\n",
      "Source: muteşəkkilləşdirilmə, Target: mütəşəkkilləşdirilmə, Predicted: mütəşəkkilləşdirilmə\n",
      "Source: müvazinetleşdirilmə, Target: müvazinətləşdirilmə, Predicted: müvazinətləşdirilmə\n",
      "Source: ozünuqiymətləndirmə, Target: özünüqiymətləndirmə, Predicted: özünüqiymətləndirmə\n",
      "\n",
      "Examples of INCORRECT predictions by language:\n",
      "\n",
      "UNKNOWN:\n",
      "Source: mutesəkkilleşdirilmək, Target: mütəşəkkilləşdirilmək, Predicted: mütəşəkkilləşdirilmə\n",
      "Source: cilçıragi, Target: çilçırağı, Predicted: çılçırağı\n",
      "Source: kadinlar, Target: kadınlar, Predicted: kadusinlyar\n",
      "\n",
      "Word-level metrics - Precision: 0.9508, Recall: 0.9508, F1: 0.9508\n",
      "Character-level accuracy: 0.9892\n",
      "Average Levenshtein distance: 0.09\n",
      "\n",
      "Performance by error type:\n",
      "KEYBOARD: 0.9717 (23658/24346)\n",
      "TRANSLITERATION: 0.9583 (35132/36661)\n",
      "INSERTION: 0.8947 (4700/5253)\n",
      "DELETION: 0.7033 (1401/1992)\n",
      "\n",
      "Performance by language:\n",
      "unknown: 0.9508 (64891/68252)\n",
      "\n",
      "DELETION error performance: 0.7033\n"
     ]
    },
    {
     "data": {
      "application/vnd.jupyter.widget-view+json": {
       "model_id": "f5de9de0a93d425ba3eea3c2391c5e23",
       "version_major": 2,
       "version_minor": 0
      },
      "text/plain": [
       "Epoch 32/50 [Train] LR: 0.000100:   0%|          | 0/1067 [00:00<?, ?it/s]"
      ]
     },
     "metadata": {},
     "output_type": "display_data"
    },
    {
     "data": {
      "application/vnd.jupyter.widget-view+json": {
       "model_id": "9905b0bdcbee48558bf2acf3b9c1d6ca",
       "version_major": 2,
       "version_minor": 0
      },
      "text/plain": [
       "Epoch 32/50 [Valid]:   0%|          | 0/134 [00:00<?, ?it/s]"
      ]
     },
     "metadata": {},
     "output_type": "display_data"
    },
    {
     "data": {
      "application/vnd.jupyter.widget-view+json": {
       "model_id": "afc51f79d26043dc9a3ccad300bdfec3",
       "version_major": 2,
       "version_minor": 0
      },
      "text/plain": [
       "Evaluating:   0%|          | 0/134 [00:00<?, ?it/s]"
      ]
     },
     "metadata": {},
     "output_type": "display_data"
    },
    {
     "name": "stdout",
     "output_type": "stream",
     "text": [
      "\n",
      "Examples of CORRECT predictions by language:\n",
      "\n",
      "UNKNOWN:\n",
      "Source: muteşəkkilləşdirilmə, Target: mütəşəkkilləşdirilmə, Predicted: mütəşəkkilləşdirilmə\n",
      "Source: müvazinetleşdirilmə, Target: müvazinətləşdirilmə, Predicted: müvazinətləşdirilmə\n",
      "Source: ozünuqiymətləndirmə, Target: özünüqiymətləndirmə, Predicted: özünüqiymətləndirmə\n",
      "\n",
      "Examples of INCORRECT predictions by language:\n",
      "\n",
      "UNKNOWN:\n",
      "Source: mutesəkkilleşdirilmək, Target: mütəşəkkilləşdirilmək, Predicted: mütəşəkkilləşdirilmə\n",
      "Source: gelebenzer, Target: geləbənzər, Predicted: gələbənzər\n",
      "Source: dösekcəsi, Target: döşəkçəsi, Predicted: döşəkcəsi\n",
      "\n",
      "Word-level metrics - Precision: 0.9500, Recall: 0.9500, F1: 0.9500\n",
      "Character-level accuracy: 0.9897\n",
      "Average Levenshtein distance: 0.09\n",
      "\n",
      "Performance by error type:\n",
      "KEYBOARD: 0.9711 (23642/24346)\n",
      "TRANSLITERATION: 0.9596 (35181/36661)\n",
      "INSERTION: 0.8860 (4654/5253)\n",
      "DELETION: 0.6852 (1365/1992)\n",
      "\n",
      "Performance by language:\n",
      "unknown: 0.9500 (64842/68252)\n",
      "\n",
      "DELETION error performance: 0.6852\n"
     ]
    },
    {
     "data": {
      "application/vnd.jupyter.widget-view+json": {
       "model_id": "0969976e8b154ca3955334ca371a77d2",
       "version_major": 2,
       "version_minor": 0
      },
      "text/plain": [
       "Epoch 33/50 [Train] LR: 0.000100:   0%|          | 0/1067 [00:00<?, ?it/s]"
      ]
     },
     "metadata": {},
     "output_type": "display_data"
    },
    {
     "data": {
      "application/vnd.jupyter.widget-view+json": {
       "model_id": "60c376a6d69b44faa3788571cbc947a5",
       "version_major": 2,
       "version_minor": 0
      },
      "text/plain": [
       "Epoch 33/50 [Valid]:   0%|          | 0/134 [00:00<?, ?it/s]"
      ]
     },
     "metadata": {},
     "output_type": "display_data"
    },
    {
     "data": {
      "application/vnd.jupyter.widget-view+json": {
       "model_id": "c75261b9166e46539f26f089b1187c08",
       "version_major": 2,
       "version_minor": 0
      },
      "text/plain": [
       "Evaluating:   0%|          | 0/134 [00:00<?, ?it/s]"
      ]
     },
     "metadata": {},
     "output_type": "display_data"
    },
    {
     "name": "stdout",
     "output_type": "stream",
     "text": [
      "\n",
      "Examples of CORRECT predictions by language:\n",
      "\n",
      "UNKNOWN:\n",
      "Source: muteşəkkilləşdirilmə, Target: mütəşəkkilləşdirilmə, Predicted: mütəşəkkilləşdirilmə\n",
      "Source: müvazinetleşdirilmə, Target: müvazinətləşdirilmə, Predicted: müvazinətləşdirilmə\n",
      "Source: ozünuqiymətləndirmə, Target: özünüqiymətləndirmə, Predicted: özünüqiymətləndirmə\n",
      "\n",
      "Examples of INCORRECT predictions by language:\n",
      "\n",
      "UNKNOWN:\n",
      "Source: mutesəkkilleşdirilmək, Target: mütəşəkkilləşdirilmək, Predicted: mütəşəkkilləşdirilmə\n",
      "Source: cilçıragi, Target: çilçırağı, Predicted: çılçırağı\n",
      "Source: qıfıll, Target: qıfıl, Predicted: qıfılı\n",
      "\n",
      "Word-level metrics - Precision: 0.9491, Recall: 0.9491, F1: 0.9491\n",
      "Character-level accuracy: 0.9893\n",
      "Average Levenshtein distance: 0.09\n",
      "\n",
      "Performance by error type:\n",
      "KEYBOARD: 0.9671 (23544/24346)\n",
      "TRANSLITERATION: 0.9598 (35187/36661)\n",
      "INSERTION: 0.8896 (4673/5253)\n",
      "DELETION: 0.6913 (1377/1992)\n",
      "\n",
      "Performance by language:\n",
      "unknown: 0.9491 (64781/68252)\n",
      "\n",
      "Learning rate adjusted from 0.000100 to 0.000050\n",
      "\n",
      "DELETION error performance: 0.6913\n"
     ]
    },
    {
     "data": {
      "application/vnd.jupyter.widget-view+json": {
       "model_id": "92ed8a8bd88e466e8dea9701450b0fde",
       "version_major": 2,
       "version_minor": 0
      },
      "text/plain": [
       "Epoch 34/50 [Train] LR: 0.000050:   0%|          | 0/1067 [00:00<?, ?it/s]"
      ]
     },
     "metadata": {},
     "output_type": "display_data"
    },
    {
     "data": {
      "application/vnd.jupyter.widget-view+json": {
       "model_id": "4e5bf4e7e13b4e27b188874c6e2d3be6",
       "version_major": 2,
       "version_minor": 0
      },
      "text/plain": [
       "Epoch 34/50 [Valid]:   0%|          | 0/134 [00:00<?, ?it/s]"
      ]
     },
     "metadata": {},
     "output_type": "display_data"
    },
    {
     "data": {
      "application/vnd.jupyter.widget-view+json": {
       "model_id": "0196f58b85ef4c3185d2f828809dd818",
       "version_major": 2,
       "version_minor": 0
      },
      "text/plain": [
       "Evaluating:   0%|          | 0/134 [00:00<?, ?it/s]"
      ]
     },
     "metadata": {},
     "output_type": "display_data"
    },
    {
     "name": "stdout",
     "output_type": "stream",
     "text": [
      "\n",
      "Examples of CORRECT predictions by language:\n",
      "\n",
      "UNKNOWN:\n",
      "Source: muteşəkkilləşdirilmə, Target: mütəşəkkilləşdirilmə, Predicted: mütəşəkkilləşdirilmə\n",
      "Source: müvazinetleşdirilmə, Target: müvazinətləşdirilmə, Predicted: müvazinətləşdirilmə\n",
      "Source: ozünuqiymətləndirmə, Target: özünüqiymətləndirmə, Predicted: özünüqiymətləndirmə\n",
      "\n",
      "Examples of INCORRECT predictions by language:\n",
      "\n",
      "UNKNOWN:\n",
      "Source: mutesəkkilleşdirilmək, Target: mütəşəkkilləşdirilmək, Predicted: mütəşəkkilləşdirilmə\n",
      "Source: cilçıragi, Target: çilçırağı, Predicted: çılçırağı\n",
      "Source: aptekcə, Target: aptekçə, Predicted: aptekcə\n",
      "\n",
      "Word-level metrics - Precision: 0.9613, Recall: 0.9613, F1: 0.9613\n",
      "Character-level accuracy: 0.9921\n",
      "Average Levenshtein distance: 0.07\n",
      "\n",
      "Performance by error type:\n",
      "KEYBOARD: 0.9817 (23901/24346)\n",
      "TRANSLITERATION: 0.9654 (35393/36661)\n",
      "INSERTION: 0.9259 (4864/5253)\n",
      "DELETION: 0.7279 (1450/1992)\n",
      "\n",
      "Performance by language:\n",
      "unknown: 0.9613 (65608/68252)\n",
      "\n",
      "DELETION error performance: 0.7279\n",
      "Saved new best model with F1: 0.9613\n"
     ]
    },
    {
     "data": {
      "application/vnd.jupyter.widget-view+json": {
       "model_id": "3f6730c4a38b4114b966bdbbc22e92bd",
       "version_major": 2,
       "version_minor": 0
      },
      "text/plain": [
       "Epoch 35/50 [Train] LR: 0.000050:   0%|          | 0/1067 [00:00<?, ?it/s]"
      ]
     },
     "metadata": {},
     "output_type": "display_data"
    },
    {
     "data": {
      "application/vnd.jupyter.widget-view+json": {
       "model_id": "e906532af705442b8954bc7b4661809d",
       "version_major": 2,
       "version_minor": 0
      },
      "text/plain": [
       "Epoch 35/50 [Valid]:   0%|          | 0/134 [00:00<?, ?it/s]"
      ]
     },
     "metadata": {},
     "output_type": "display_data"
    },
    {
     "data": {
      "application/vnd.jupyter.widget-view+json": {
       "model_id": "fd4e58e7c5ee46fda34bec4026d05f28",
       "version_major": 2,
       "version_minor": 0
      },
      "text/plain": [
       "Evaluating:   0%|          | 0/134 [00:00<?, ?it/s]"
      ]
     },
     "metadata": {},
     "output_type": "display_data"
    },
    {
     "name": "stdout",
     "output_type": "stream",
     "text": [
      "\n",
      "Examples of CORRECT predictions by language:\n",
      "\n",
      "UNKNOWN:\n",
      "Source: muteşəkkilləşdirilmə, Target: mütəşəkkilləşdirilmə, Predicted: mütəşəkkilləşdirilmə\n",
      "Source: müvazinetleşdirilmə, Target: müvazinətləşdirilmə, Predicted: müvazinətləşdirilmə\n",
      "Source: ozünuqiymətləndirmə, Target: özünüqiymətləndirmə, Predicted: özünüqiymətləndirmə\n",
      "\n",
      "Examples of INCORRECT predictions by language:\n",
      "\n",
      "UNKNOWN:\n",
      "Source: mutesəkkilleşdirilmək, Target: mütəşəkkilləşdirilmək, Predicted: mütəşəkkilləşdirilmə\n",
      "Source: qaadlnlar, Target: qadlnlar, Predicted: qadınlar\n",
      "Source: cilçıragi, Target: çilçırağı, Predicted: çılçırağı\n",
      "\n",
      "Word-level metrics - Precision: 0.9619, Recall: 0.9619, F1: 0.9619\n",
      "Character-level accuracy: 0.9923\n",
      "Average Levenshtein distance: 0.07\n",
      "\n",
      "Performance by error type:\n",
      "KEYBOARD: 0.9818 (23903/24346)\n",
      "TRANSLITERATION: 0.9663 (35427/36661)\n",
      "INSERTION: 0.9284 (4877/5253)\n",
      "DELETION: 0.7269 (1448/1992)\n",
      "\n",
      "Performance by language:\n",
      "unknown: 0.9619 (65655/68252)\n",
      "\n",
      "DELETION error performance: 0.7269\n",
      "Saved new best model with F1: 0.9619\n"
     ]
    },
    {
     "data": {
      "application/vnd.jupyter.widget-view+json": {
       "model_id": "1fd9dbc7ff0744b6bc22792c1ac0dac3",
       "version_major": 2,
       "version_minor": 0
      },
      "text/plain": [
       "Epoch 36/50 [Train] LR: 0.000050:   0%|          | 0/1067 [00:00<?, ?it/s]"
      ]
     },
     "metadata": {},
     "output_type": "display_data"
    },
    {
     "data": {
      "application/vnd.jupyter.widget-view+json": {
       "model_id": "679f9e20462b4941a499cf90462fa207",
       "version_major": 2,
       "version_minor": 0
      },
      "text/plain": [
       "Epoch 36/50 [Valid]:   0%|          | 0/134 [00:00<?, ?it/s]"
      ]
     },
     "metadata": {},
     "output_type": "display_data"
    },
    {
     "data": {
      "application/vnd.jupyter.widget-view+json": {
       "model_id": "f847a861e7394890a9fb6f83cfbfda0c",
       "version_major": 2,
       "version_minor": 0
      },
      "text/plain": [
       "Evaluating:   0%|          | 0/134 [00:00<?, ?it/s]"
      ]
     },
     "metadata": {},
     "output_type": "display_data"
    },
    {
     "name": "stdout",
     "output_type": "stream",
     "text": [
      "\n",
      "Examples of CORRECT predictions by language:\n",
      "\n",
      "UNKNOWN:\n",
      "Source: muteşəkkilləşdirilmə, Target: mütəşəkkilləşdirilmə, Predicted: mütəşəkkilləşdirilmə\n",
      "Source: müvazinetleşdirilmə, Target: müvazinətləşdirilmə, Predicted: müvazinətləşdirilmə\n",
      "Source: ozünuqiymətləndirmə, Target: özünüqiymətləndirmə, Predicted: özünüqiymətləndirmə\n",
      "\n",
      "Examples of INCORRECT predictions by language:\n",
      "\n",
      "UNKNOWN:\n",
      "Source: mutesəkkilleşdirilmək, Target: mütəşəkkilləşdirilmək, Predicted: mütəşəkkilləşdirilmə\n",
      "Source: dösekcəsi, Target: döşəkçəsi, Predicted: döşəkcəsi\n",
      "Source: cilçıragi, Target: çilçırağı, Predicted: çılçırağı\n",
      "\n",
      "Word-level metrics - Precision: 0.9632, Recall: 0.9632, F1: 0.9632\n",
      "Character-level accuracy: 0.9925\n",
      "Average Levenshtein distance: 0.07\n",
      "\n",
      "Performance by error type:\n",
      "KEYBOARD: 0.9816 (23897/24346)\n",
      "TRANSLITERATION: 0.9688 (35517/36661)\n",
      "INSERTION: 0.9254 (4861/5253)\n",
      "DELETION: 0.7369 (1468/1992)\n",
      "\n",
      "Performance by language:\n",
      "unknown: 0.9632 (65743/68252)\n",
      "\n",
      "DELETION error performance: 0.7369\n",
      "Saved new best model with F1: 0.9632\n"
     ]
    },
    {
     "data": {
      "application/vnd.jupyter.widget-view+json": {
       "model_id": "2a7e2ba785934956a494c41bcf3a331c",
       "version_major": 2,
       "version_minor": 0
      },
      "text/plain": [
       "Epoch 37/50 [Train] LR: 0.000050:   0%|          | 0/1067 [00:00<?, ?it/s]"
      ]
     },
     "metadata": {},
     "output_type": "display_data"
    },
    {
     "data": {
      "application/vnd.jupyter.widget-view+json": {
       "model_id": "5fed8f17cb5f445cb536bc572f24f6dd",
       "version_major": 2,
       "version_minor": 0
      },
      "text/plain": [
       "Epoch 37/50 [Valid]:   0%|          | 0/134 [00:00<?, ?it/s]"
      ]
     },
     "metadata": {},
     "output_type": "display_data"
    },
    {
     "data": {
      "application/vnd.jupyter.widget-view+json": {
       "model_id": "7598e85c5f8149b4a70f40205278cd0c",
       "version_major": 2,
       "version_minor": 0
      },
      "text/plain": [
       "Evaluating:   0%|          | 0/134 [00:00<?, ?it/s]"
      ]
     },
     "metadata": {},
     "output_type": "display_data"
    },
    {
     "name": "stdout",
     "output_type": "stream",
     "text": [
      "\n",
      "Examples of CORRECT predictions by language:\n",
      "\n",
      "UNKNOWN:\n",
      "Source: muteşəkkilləşdirilmə, Target: mütəşəkkilləşdirilmə, Predicted: mütəşəkkilləşdirilmə\n",
      "Source: müvazinetleşdirilmə, Target: müvazinətləşdirilmə, Predicted: müvazinətləşdirilmə\n",
      "Source: ozünuqiymətləndirmə, Target: özünüqiymətləndirmə, Predicted: özünüqiymətləndirmə\n",
      "\n",
      "Examples of INCORRECT predictions by language:\n",
      "\n",
      "UNKNOWN:\n",
      "Source: mutesəkkilleşdirilmək, Target: mütəşəkkilləşdirilmək, Predicted: mütəşəkkilləşdirilmə\n",
      "Source: dösekcəsi, Target: döşəkçəsi, Predicted: döşəkcəsi\n",
      "Source: dəbəri, Target: səbəti, Predicted: fənəri\n",
      "\n",
      "Word-level metrics - Precision: 0.9626, Recall: 0.9626, F1: 0.9626\n",
      "Character-level accuracy: 0.9926\n",
      "Average Levenshtein distance: 0.07\n",
      "\n",
      "Performance by error type:\n",
      "KEYBOARD: 0.9826 (23923/24346)\n",
      "TRANSLITERATION: 0.9680 (35489/36661)\n",
      "INSERTION: 0.9197 (4831/5253)\n",
      "DELETION: 0.7319 (1458/1992)\n",
      "\n",
      "Performance by language:\n",
      "unknown: 0.9626 (65701/68252)\n",
      "\n",
      "DELETION error performance: 0.7319\n"
     ]
    },
    {
     "data": {
      "application/vnd.jupyter.widget-view+json": {
       "model_id": "bbbb9d8998234596928a834866b63e91",
       "version_major": 2,
       "version_minor": 0
      },
      "text/plain": [
       "Epoch 38/50 [Train] LR: 0.000050:   0%|          | 0/1067 [00:00<?, ?it/s]"
      ]
     },
     "metadata": {},
     "output_type": "display_data"
    },
    {
     "data": {
      "application/vnd.jupyter.widget-view+json": {
       "model_id": "a784f524e3df43739c8ee85d76227eb9",
       "version_major": 2,
       "version_minor": 0
      },
      "text/plain": [
       "Epoch 38/50 [Valid]:   0%|          | 0/134 [00:00<?, ?it/s]"
      ]
     },
     "metadata": {},
     "output_type": "display_data"
    },
    {
     "data": {
      "application/vnd.jupyter.widget-view+json": {
       "model_id": "b9ca539d49924d078818f58dc182605b",
       "version_major": 2,
       "version_minor": 0
      },
      "text/plain": [
       "Evaluating:   0%|          | 0/134 [00:00<?, ?it/s]"
      ]
     },
     "metadata": {},
     "output_type": "display_data"
    },
    {
     "name": "stdout",
     "output_type": "stream",
     "text": [
      "\n",
      "Examples of CORRECT predictions by language:\n",
      "\n",
      "UNKNOWN:\n",
      "Source: muteşəkkilləşdirilmə, Target: mütəşəkkilləşdirilmə, Predicted: mütəşəkkilləşdirilmə\n",
      "Source: müvazinetleşdirilmə, Target: müvazinətləşdirilmə, Predicted: müvazinətləşdirilmə\n",
      "Source: ozünuqiymətləndirmə, Target: özünüqiymətləndirmə, Predicted: özünüqiymətləndirmə\n",
      "\n",
      "Examples of INCORRECT predictions by language:\n",
      "\n",
      "UNKNOWN:\n",
      "Source: mutesəkkilleşdirilmək, Target: mütəşəkkilləşdirilmək, Predicted: mütəşəkkilləşdirilmə\n",
      "Source: kadinlar, Target: kadınlar, Predicted: kalenlar\n",
      "Source: dəbəri, Target: səbəti, Predicted: fənəri\n",
      "\n",
      "Word-level metrics - Precision: 0.9628, Recall: 0.9628, F1: 0.9628\n",
      "Character-level accuracy: 0.9924\n",
      "Average Levenshtein distance: 0.07\n",
      "\n",
      "Performance by error type:\n",
      "KEYBOARD: 0.9829 (23930/24346)\n",
      "TRANSLITERATION: 0.9668 (35445/36661)\n",
      "INSERTION: 0.9279 (4874/5253)\n",
      "DELETION: 0.7354 (1465/1992)\n",
      "\n",
      "Performance by language:\n",
      "unknown: 0.9628 (65714/68252)\n",
      "\n",
      "DELETION error performance: 0.7354\n"
     ]
    },
    {
     "data": {
      "application/vnd.jupyter.widget-view+json": {
       "model_id": "ef29ef26f510415c9757574d281b3a8d",
       "version_major": 2,
       "version_minor": 0
      },
      "text/plain": [
       "Epoch 39/50 [Train] LR: 0.000050:   0%|          | 0/1067 [00:00<?, ?it/s]"
      ]
     },
     "metadata": {},
     "output_type": "display_data"
    },
    {
     "data": {
      "application/vnd.jupyter.widget-view+json": {
       "model_id": "d9cd1cf24bbf4d7e9ef0117efbe697ea",
       "version_major": 2,
       "version_minor": 0
      },
      "text/plain": [
       "Epoch 39/50 [Valid]:   0%|          | 0/134 [00:00<?, ?it/s]"
      ]
     },
     "metadata": {},
     "output_type": "display_data"
    },
    {
     "data": {
      "application/vnd.jupyter.widget-view+json": {
       "model_id": "8165d715aae542618e083405ae748fc1",
       "version_major": 2,
       "version_minor": 0
      },
      "text/plain": [
       "Evaluating:   0%|          | 0/134 [00:00<?, ?it/s]"
      ]
     },
     "metadata": {},
     "output_type": "display_data"
    },
    {
     "name": "stdout",
     "output_type": "stream",
     "text": [
      "\n",
      "Examples of CORRECT predictions by language:\n",
      "\n",
      "UNKNOWN:\n",
      "Source: muteşəkkilləşdirilmə, Target: mütəşəkkilləşdirilmə, Predicted: mütəşəkkilləşdirilmə\n",
      "Source: müvazinetleşdirilmə, Target: müvazinətləşdirilmə, Predicted: müvazinətləşdirilmə\n",
      "Source: ozünuqiymətləndirmə, Target: özünüqiymətləndirmə, Predicted: özünüqiymətləndirmə\n",
      "\n",
      "Examples of INCORRECT predictions by language:\n",
      "\n",
      "UNKNOWN:\n",
      "Source: mutesəkkilleşdirilmək, Target: mütəşəkkilləşdirilmək, Predicted: mütəşəkkilləşdirilmə\n",
      "Source: cilçıragi, Target: çilçırağı, Predicted: çılçırağı\n",
      "Source: aptekcə, Target: aptekçə, Predicted: aptekcə\n",
      "\n",
      "Word-level metrics - Precision: 0.9631, Recall: 0.9631, F1: 0.9631\n",
      "Character-level accuracy: 0.9925\n",
      "Average Levenshtein distance: 0.07\n",
      "\n",
      "Performance by error type:\n",
      "KEYBOARD: 0.9837 (23949/24346)\n",
      "TRANSLITERATION: 0.9670 (35453/36661)\n",
      "INSERTION: 0.9284 (4877/5253)\n",
      "DELETION: 0.7314 (1457/1992)\n",
      "\n",
      "Performance by language:\n",
      "unknown: 0.9631 (65736/68252)\n",
      "\n",
      "Learning rate adjusted from 0.000050 to 0.000025\n",
      "\n",
      "DELETION error performance: 0.7314\n"
     ]
    },
    {
     "data": {
      "application/vnd.jupyter.widget-view+json": {
       "model_id": "6c1c2ffa38184830ac5f3e3e7f99eecc",
       "version_major": 2,
       "version_minor": 0
      },
      "text/plain": [
       "Epoch 40/50 [Train] LR: 0.000025:   0%|          | 0/1067 [00:00<?, ?it/s]"
      ]
     },
     "metadata": {},
     "output_type": "display_data"
    },
    {
     "data": {
      "application/vnd.jupyter.widget-view+json": {
       "model_id": "417bd92007f949cd9dcd1795f11f76cb",
       "version_major": 2,
       "version_minor": 0
      },
      "text/plain": [
       "Epoch 40/50 [Valid]:   0%|          | 0/134 [00:00<?, ?it/s]"
      ]
     },
     "metadata": {},
     "output_type": "display_data"
    },
    {
     "data": {
      "application/vnd.jupyter.widget-view+json": {
       "model_id": "8ae96189df7f42428851be3fcbd78774",
       "version_major": 2,
       "version_minor": 0
      },
      "text/plain": [
       "Evaluating:   0%|          | 0/134 [00:00<?, ?it/s]"
      ]
     },
     "metadata": {},
     "output_type": "display_data"
    },
    {
     "name": "stdout",
     "output_type": "stream",
     "text": [
      "\n",
      "Examples of CORRECT predictions by language:\n",
      "\n",
      "UNKNOWN:\n",
      "Source: muteşəkkilləşdirilmə, Target: mütəşəkkilləşdirilmə, Predicted: mütəşəkkilləşdirilmə\n",
      "Source: müvazinetleşdirilmə, Target: müvazinətləşdirilmə, Predicted: müvazinətləşdirilmə\n",
      "Source: ozünuqiymətləndirmə, Target: özünüqiymətləndirmə, Predicted: özünüqiymətləndirmə\n",
      "\n",
      "Examples of INCORRECT predictions by language:\n",
      "\n",
      "UNKNOWN:\n",
      "Source: mutesəkkilleşdirilmək, Target: mütəşəkkilləşdirilmək, Predicted: mütəşəkkilləşdirilmə\n",
      "Source: cilçıragi, Target: çilçırağı, Predicted: çılçırağı\n",
      "Source: qulluğq, Target: qulluq, Predicted: qulluğu\n",
      "\n",
      "Word-level metrics - Precision: 0.9665, Recall: 0.9665, F1: 0.9665\n",
      "Character-level accuracy: 0.9933\n",
      "Average Levenshtein distance: 0.06\n",
      "\n",
      "Performance by error type:\n",
      "KEYBOARD: 0.9857 (23998/24346)\n",
      "TRANSLITERATION: 0.9705 (35580/36661)\n",
      "INSERTION: 0.9353 (4913/5253)\n",
      "DELETION: 0.7390 (1472/1992)\n",
      "\n",
      "Performance by language:\n",
      "unknown: 0.9665 (65963/68252)\n",
      "\n",
      "DELETION error performance: 0.7390\n",
      "Saved new best model with F1: 0.9665\n"
     ]
    },
    {
     "data": {
      "application/vnd.jupyter.widget-view+json": {
       "model_id": "9b1c2620d58b45fe9a6dd921e6e12234",
       "version_major": 2,
       "version_minor": 0
      },
      "text/plain": [
       "Epoch 41/50 [Train] LR: 0.000025:   0%|          | 0/1067 [00:00<?, ?it/s]"
      ]
     },
     "metadata": {},
     "output_type": "display_data"
    },
    {
     "data": {
      "application/vnd.jupyter.widget-view+json": {
       "model_id": "67fef94e98d9410e82e05e403ff2eaef",
       "version_major": 2,
       "version_minor": 0
      },
      "text/plain": [
       "Epoch 41/50 [Valid]:   0%|          | 0/134 [00:00<?, ?it/s]"
      ]
     },
     "metadata": {},
     "output_type": "display_data"
    },
    {
     "data": {
      "application/vnd.jupyter.widget-view+json": {
       "model_id": "3b075120c2774e3fbee46804f5678271",
       "version_major": 2,
       "version_minor": 0
      },
      "text/plain": [
       "Evaluating:   0%|          | 0/134 [00:00<?, ?it/s]"
      ]
     },
     "metadata": {},
     "output_type": "display_data"
    },
    {
     "name": "stdout",
     "output_type": "stream",
     "text": [
      "\n",
      "Examples of CORRECT predictions by language:\n",
      "\n",
      "UNKNOWN:\n",
      "Source: muteşəkkilləşdirilmə, Target: mütəşəkkilləşdirilmə, Predicted: mütəşəkkilləşdirilmə\n",
      "Source: müvazinetleşdirilmə, Target: müvazinətləşdirilmə, Predicted: müvazinətləşdirilmə\n",
      "Source: ozünuqiymətləndirmə, Target: özünüqiymətləndirmə, Predicted: özünüqiymətləndirmə\n",
      "\n",
      "Examples of INCORRECT predictions by language:\n",
      "\n",
      "UNKNOWN:\n",
      "Source: mutesəkkilleşdirilmək, Target: mütəşəkkilləşdirilmək, Predicted: mütəşəkkilləşdirilmə\n",
      "Source: cilçıragi, Target: çilçırağı, Predicted: çılçırağı\n",
      "Source: dəbəri, Target: səbəti, Predicted: fənəri\n",
      "\n",
      "Word-level metrics - Precision: 0.9664, Recall: 0.9664, F1: 0.9664\n",
      "Character-level accuracy: 0.9932\n",
      "Average Levenshtein distance: 0.06\n",
      "\n",
      "Performance by error type:\n",
      "KEYBOARD: 0.9850 (23980/24346)\n",
      "TRANSLITERATION: 0.9706 (35584/36661)\n",
      "INSERTION: 0.9351 (4912/5253)\n",
      "DELETION: 0.7435 (1481/1992)\n",
      "\n",
      "Performance by language:\n",
      "unknown: 0.9664 (65957/68252)\n",
      "\n",
      "DELETION error performance: 0.7435\n"
     ]
    },
    {
     "data": {
      "application/vnd.jupyter.widget-view+json": {
       "model_id": "c5695f14ac5e48a6b5b77098a7e9d73b",
       "version_major": 2,
       "version_minor": 0
      },
      "text/plain": [
       "Epoch 42/50 [Train] LR: 0.000025:   0%|          | 0/1067 [00:00<?, ?it/s]"
      ]
     },
     "metadata": {},
     "output_type": "display_data"
    },
    {
     "data": {
      "application/vnd.jupyter.widget-view+json": {
       "model_id": "80533b3e3a804278ac91e35d5998d7c2",
       "version_major": 2,
       "version_minor": 0
      },
      "text/plain": [
       "Epoch 42/50 [Valid]:   0%|          | 0/134 [00:00<?, ?it/s]"
      ]
     },
     "metadata": {},
     "output_type": "display_data"
    },
    {
     "data": {
      "application/vnd.jupyter.widget-view+json": {
       "model_id": "06cbeb8a8acb4259ac73d10cc59ceda9",
       "version_major": 2,
       "version_minor": 0
      },
      "text/plain": [
       "Evaluating:   0%|          | 0/134 [00:00<?, ?it/s]"
      ]
     },
     "metadata": {},
     "output_type": "display_data"
    },
    {
     "name": "stdout",
     "output_type": "stream",
     "text": [
      "\n",
      "Examples of CORRECT predictions by language:\n",
      "\n",
      "UNKNOWN:\n",
      "Source: muteşəkkilləşdirilmə, Target: mütəşəkkilləşdirilmə, Predicted: mütəşəkkilləşdirilmə\n",
      "Source: müvazinetleşdirilmə, Target: müvazinətləşdirilmə, Predicted: müvazinətləşdirilmə\n",
      "Source: ozünuqiymətləndirmə, Target: özünüqiymətləndirmə, Predicted: özünüqiymətləndirmə\n",
      "\n",
      "Examples of INCORRECT predictions by language:\n",
      "\n",
      "UNKNOWN:\n",
      "Source: mutesəkkilleşdirilmək, Target: mütəşəkkilləşdirilmək, Predicted: mütəşəkkilləşdirilmə\n",
      "Source: cilçıragi, Target: çilçırağı, Predicted: çılçırağı\n",
      "Source: dəbəri, Target: səbəti, Predicted: fənəri\n",
      "\n",
      "Word-level metrics - Precision: 0.9669, Recall: 0.9669, F1: 0.9669\n",
      "Character-level accuracy: 0.9934\n",
      "Average Levenshtein distance: 0.06\n",
      "\n",
      "Performance by error type:\n",
      "KEYBOARD: 0.9852 (23985/24346)\n",
      "TRANSLITERATION: 0.9714 (35614/36661)\n",
      "INSERTION: 0.9362 (4918/5253)\n",
      "DELETION: 0.7420 (1478/1992)\n",
      "\n",
      "Performance by language:\n",
      "unknown: 0.9669 (65995/68252)\n",
      "\n",
      "DELETION error performance: 0.7420\n",
      "Saved new best model with F1: 0.9669\n"
     ]
    },
    {
     "data": {
      "application/vnd.jupyter.widget-view+json": {
       "model_id": "bcb3b64fbf1d408e86480ca607d4063b",
       "version_major": 2,
       "version_minor": 0
      },
      "text/plain": [
       "Epoch 43/50 [Train] LR: 0.000025:   0%|          | 0/1067 [00:00<?, ?it/s]"
      ]
     },
     "metadata": {},
     "output_type": "display_data"
    },
    {
     "data": {
      "application/vnd.jupyter.widget-view+json": {
       "model_id": "a48e82f295c44b53873ecf4f8382939d",
       "version_major": 2,
       "version_minor": 0
      },
      "text/plain": [
       "Epoch 43/50 [Valid]:   0%|          | 0/134 [00:00<?, ?it/s]"
      ]
     },
     "metadata": {},
     "output_type": "display_data"
    },
    {
     "data": {
      "application/vnd.jupyter.widget-view+json": {
       "model_id": "18a556258ad74377b79711c7020dae6f",
       "version_major": 2,
       "version_minor": 0
      },
      "text/plain": [
       "Evaluating:   0%|          | 0/134 [00:00<?, ?it/s]"
      ]
     },
     "metadata": {},
     "output_type": "display_data"
    },
    {
     "name": "stdout",
     "output_type": "stream",
     "text": [
      "\n",
      "Examples of CORRECT predictions by language:\n",
      "\n",
      "UNKNOWN:\n",
      "Source: muteşəkkilləşdirilmə, Target: mütəşəkkilləşdirilmə, Predicted: mütəşəkkilləşdirilmə\n",
      "Source: müvazinetleşdirilmə, Target: müvazinətləşdirilmə, Predicted: müvazinətləşdirilmə\n",
      "Source: ozünuqiymətləndirmə, Target: özünüqiymətləndirmə, Predicted: özünüqiymətləndirmə\n",
      "\n",
      "Examples of INCORRECT predictions by language:\n",
      "\n",
      "UNKNOWN:\n",
      "Source: mutesəkkilleşdirilmək, Target: mütəşəkkilləşdirilmək, Predicted: mütəşəkkilləşdirilmə\n",
      "Source: dösekcəsi, Target: döşəkçəsi, Predicted: döşəkcəsi\n",
      "Source: cilçıragi, Target: çilçırağı, Predicted: çılçırağı\n",
      "\n",
      "Word-level metrics - Precision: 0.9672, Recall: 0.9672, F1: 0.9672\n",
      "Character-level accuracy: 0.9935\n",
      "Average Levenshtein distance: 0.06\n",
      "\n",
      "Performance by error type:\n",
      "KEYBOARD: 0.9864 (24015/24346)\n",
      "TRANSLITERATION: 0.9706 (35584/36661)\n",
      "INSERTION: 0.9366 (4920/5253)\n",
      "DELETION: 0.7500 (1494/1992)\n",
      "\n",
      "Performance by language:\n",
      "unknown: 0.9672 (66013/68252)\n",
      "\n",
      "DELETION error performance: 0.7500\n",
      "Saved new best model with F1: 0.9672\n"
     ]
    },
    {
     "data": {
      "application/vnd.jupyter.widget-view+json": {
       "model_id": "82b3296edc4643beb5e862d557cf6cf9",
       "version_major": 2,
       "version_minor": 0
      },
      "text/plain": [
       "Epoch 44/50 [Train] LR: 0.000025:   0%|          | 0/1067 [00:00<?, ?it/s]"
      ]
     },
     "metadata": {},
     "output_type": "display_data"
    },
    {
     "data": {
      "application/vnd.jupyter.widget-view+json": {
       "model_id": "681299c1552e4fba9d14559421228216",
       "version_major": 2,
       "version_minor": 0
      },
      "text/plain": [
       "Epoch 44/50 [Valid]:   0%|          | 0/134 [00:00<?, ?it/s]"
      ]
     },
     "metadata": {},
     "output_type": "display_data"
    },
    {
     "data": {
      "application/vnd.jupyter.widget-view+json": {
       "model_id": "599b20d503fc42149b6fbd39203d4031",
       "version_major": 2,
       "version_minor": 0
      },
      "text/plain": [
       "Evaluating:   0%|          | 0/134 [00:00<?, ?it/s]"
      ]
     },
     "metadata": {},
     "output_type": "display_data"
    },
    {
     "name": "stdout",
     "output_type": "stream",
     "text": [
      "\n",
      "Examples of CORRECT predictions by language:\n",
      "\n",
      "UNKNOWN:\n",
      "Source: muteşəkkilləşdirilmə, Target: mütəşəkkilləşdirilmə, Predicted: mütəşəkkilləşdirilmə\n",
      "Source: müvazinetleşdirilmə, Target: müvazinətləşdirilmə, Predicted: müvazinətləşdirilmə\n",
      "Source: ozünuqiymətləndirmə, Target: özünüqiymətləndirmə, Predicted: özünüqiymətləndirmə\n",
      "\n",
      "Examples of INCORRECT predictions by language:\n",
      "\n",
      "UNKNOWN:\n",
      "Source: mutesəkkilleşdirilmək, Target: mütəşəkkilləşdirilmək, Predicted: mütəşəkkilləşdirilmə\n",
      "Source: dösekcəsi, Target: döşəkçəsi, Predicted: döşəkcəsi\n",
      "Source: cilçıragi, Target: çilçırağı, Predicted: çılçırağı\n",
      "\n",
      "Word-level metrics - Precision: 0.9672, Recall: 0.9672, F1: 0.9672\n",
      "Character-level accuracy: 0.9934\n",
      "Average Levenshtein distance: 0.06\n",
      "\n",
      "Performance by error type:\n",
      "KEYBOARD: 0.9860 (24004/24346)\n",
      "TRANSLITERATION: 0.9710 (35599/36661)\n",
      "INSERTION: 0.9368 (4921/5253)\n",
      "DELETION: 0.7480 (1490/1992)\n",
      "\n",
      "Performance by language:\n",
      "unknown: 0.9672 (66014/68252)\n",
      "\n",
      "DELETION error performance: 0.7480\n",
      "Saved new best model with F1: 0.9672\n"
     ]
    },
    {
     "data": {
      "application/vnd.jupyter.widget-view+json": {
       "model_id": "6cee7f0f4fc74aafb1a17e20c85c34a2",
       "version_major": 2,
       "version_minor": 0
      },
      "text/plain": [
       "Epoch 45/50 [Train] LR: 0.000025:   0%|          | 0/1067 [00:00<?, ?it/s]"
      ]
     },
     "metadata": {},
     "output_type": "display_data"
    },
    {
     "data": {
      "application/vnd.jupyter.widget-view+json": {
       "model_id": "7f1f7da3a0924fa19934bd8a0de0420d",
       "version_major": 2,
       "version_minor": 0
      },
      "text/plain": [
       "Epoch 45/50 [Valid]:   0%|          | 0/134 [00:00<?, ?it/s]"
      ]
     },
     "metadata": {},
     "output_type": "display_data"
    },
    {
     "data": {
      "application/vnd.jupyter.widget-view+json": {
       "model_id": "30c2a7c5a67d4a09bea68db0a563ff71",
       "version_major": 2,
       "version_minor": 0
      },
      "text/plain": [
       "Evaluating:   0%|          | 0/134 [00:00<?, ?it/s]"
      ]
     },
     "metadata": {},
     "output_type": "display_data"
    },
    {
     "name": "stdout",
     "output_type": "stream",
     "text": [
      "\n",
      "Examples of CORRECT predictions by language:\n",
      "\n",
      "UNKNOWN:\n",
      "Source: muteşəkkilləşdirilmə, Target: mütəşəkkilləşdirilmə, Predicted: mütəşəkkilləşdirilmə\n",
      "Source: müvazinetleşdirilmə, Target: müvazinətləşdirilmə, Predicted: müvazinətləşdirilmə\n",
      "Source: ozünuqiymətləndirmə, Target: özünüqiymətləndirmə, Predicted: özünüqiymətləndirmə\n",
      "\n",
      "Examples of INCORRECT predictions by language:\n",
      "\n",
      "UNKNOWN:\n",
      "Source: mutesəkkilleşdirilmək, Target: mütəşəkkilləşdirilmək, Predicted: mütəşəkkilləşdirilmə\n",
      "Source: cilçıragi, Target: çilçırağı, Predicted: çılçırağı\n",
      "Source: nikseti, Target: mikseri, Predicted: bukseri\n",
      "\n",
      "Word-level metrics - Precision: 0.9672, Recall: 0.9672, F1: 0.9672\n",
      "Character-level accuracy: 0.9934\n",
      "Average Levenshtein distance: 0.06\n",
      "\n",
      "Performance by error type:\n",
      "KEYBOARD: 0.9853 (23987/24346)\n",
      "TRANSLITERATION: 0.9714 (35612/36661)\n",
      "INSERTION: 0.9372 (4923/5253)\n",
      "DELETION: 0.7485 (1491/1992)\n",
      "\n",
      "Performance by language:\n",
      "unknown: 0.9672 (66013/68252)\n",
      "\n",
      "DELETION error performance: 0.7485\n"
     ]
    },
    {
     "data": {
      "application/vnd.jupyter.widget-view+json": {
       "model_id": "1575fe346ff645098e74c6c1cbd568e3",
       "version_major": 2,
       "version_minor": 0
      },
      "text/plain": [
       "Epoch 46/50 [Train] LR: 0.000025:   0%|          | 0/1067 [00:00<?, ?it/s]"
      ]
     },
     "metadata": {},
     "output_type": "display_data"
    },
    {
     "data": {
      "application/vnd.jupyter.widget-view+json": {
       "model_id": "8a0719b494dc454a9080bd4c489aba62",
       "version_major": 2,
       "version_minor": 0
      },
      "text/plain": [
       "Epoch 46/50 [Valid]:   0%|          | 0/134 [00:00<?, ?it/s]"
      ]
     },
     "metadata": {},
     "output_type": "display_data"
    },
    {
     "data": {
      "application/vnd.jupyter.widget-view+json": {
       "model_id": "0809676c87f043e2b52bd614b0e16f62",
       "version_major": 2,
       "version_minor": 0
      },
      "text/plain": [
       "Evaluating:   0%|          | 0/134 [00:00<?, ?it/s]"
      ]
     },
     "metadata": {},
     "output_type": "display_data"
    },
    {
     "name": "stdout",
     "output_type": "stream",
     "text": [
      "\n",
      "Examples of CORRECT predictions by language:\n",
      "\n",
      "UNKNOWN:\n",
      "Source: muteşəkkilləşdirilmə, Target: mütəşəkkilləşdirilmə, Predicted: mütəşəkkilləşdirilmə\n",
      "Source: müvazinetleşdirilmə, Target: müvazinətləşdirilmə, Predicted: müvazinətləşdirilmə\n",
      "Source: ozünuqiymətləndirmə, Target: özünüqiymətləndirmə, Predicted: özünüqiymətləndirmə\n",
      "\n",
      "Examples of INCORRECT predictions by language:\n",
      "\n",
      "UNKNOWN:\n",
      "Source: mutesəkkilleşdirilmək, Target: mütəşəkkilləşdirilmək, Predicted: mütəşəkkilləşdirilmə\n",
      "Source: dösekcəsi, Target: döşəkçəsi, Predicted: döşəkcəsi\n",
      "Source: qıfıll, Target: qıfıl, Predicted: qıfılı\n",
      "\n",
      "Word-level metrics - Precision: 0.9670, Recall: 0.9670, F1: 0.9670\n",
      "Character-level accuracy: 0.9935\n",
      "Average Levenshtein distance: 0.06\n",
      "\n",
      "Performance by error type:\n",
      "KEYBOARD: 0.9861 (24008/24346)\n",
      "TRANSLITERATION: 0.9703 (35573/36661)\n",
      "INSERTION: 0.9374 (4924/5253)\n",
      "DELETION: 0.7495 (1493/1992)\n",
      "\n",
      "Performance by language:\n",
      "unknown: 0.9670 (65998/68252)\n",
      "\n",
      "Learning rate adjusted from 0.000025 to 0.000013\n",
      "\n",
      "DELETION error performance: 0.7495\n"
     ]
    },
    {
     "data": {
      "application/vnd.jupyter.widget-view+json": {
       "model_id": "b3d148e1274c41968f47a668b29a8ad5",
       "version_major": 2,
       "version_minor": 0
      },
      "text/plain": [
       "Epoch 47/50 [Train] LR: 0.000013:   0%|          | 0/1067 [00:00<?, ?it/s]"
      ]
     },
     "metadata": {},
     "output_type": "display_data"
    },
    {
     "data": {
      "application/vnd.jupyter.widget-view+json": {
       "model_id": "1a778b92fe5949ffa2740893c751f3b0",
       "version_major": 2,
       "version_minor": 0
      },
      "text/plain": [
       "Epoch 47/50 [Valid]:   0%|          | 0/134 [00:00<?, ?it/s]"
      ]
     },
     "metadata": {},
     "output_type": "display_data"
    },
    {
     "data": {
      "application/vnd.jupyter.widget-view+json": {
       "model_id": "e9ccbfa1c1234c01b1504c6208625b04",
       "version_major": 2,
       "version_minor": 0
      },
      "text/plain": [
       "Evaluating:   0%|          | 0/134 [00:00<?, ?it/s]"
      ]
     },
     "metadata": {},
     "output_type": "display_data"
    },
    {
     "name": "stdout",
     "output_type": "stream",
     "text": [
      "\n",
      "Examples of CORRECT predictions by language:\n",
      "\n",
      "UNKNOWN:\n",
      "Source: muteşəkkilləşdirilmə, Target: mütəşəkkilləşdirilmə, Predicted: mütəşəkkilləşdirilmə\n",
      "Source: müvazinetleşdirilmə, Target: müvazinətləşdirilmə, Predicted: müvazinətləşdirilmə\n",
      "Source: ozünuqiymətləndirmə, Target: özünüqiymətləndirmə, Predicted: özünüqiymətləndirmə\n",
      "\n",
      "Examples of INCORRECT predictions by language:\n",
      "\n",
      "UNKNOWN:\n",
      "Source: mutesəkkilleşdirilmək, Target: mütəşəkkilləşdirilmək, Predicted: mütəşəkkilləşdirilmə\n",
      "Source: cilçıragi, Target: çilçırağı, Predicted: çılçırağı\n",
      "Source: dəbəri, Target: səbəti, Predicted: fənəri\n",
      "\n",
      "Word-level metrics - Precision: 0.9684, Recall: 0.9684, F1: 0.9684\n",
      "Character-level accuracy: 0.9937\n",
      "Average Levenshtein distance: 0.06\n",
      "\n",
      "Performance by error type:\n",
      "KEYBOARD: 0.9865 (24018/24346)\n",
      "TRANSLITERATION: 0.9724 (35650/36661)\n",
      "INSERTION: 0.9393 (4934/5253)\n",
      "DELETION: 0.7510 (1496/1992)\n",
      "\n",
      "Performance by language:\n",
      "unknown: 0.9684 (66098/68252)\n",
      "\n",
      "DELETION error performance: 0.7510\n",
      "Saved new best model with F1: 0.9684\n"
     ]
    },
    {
     "data": {
      "application/vnd.jupyter.widget-view+json": {
       "model_id": "cb70720ce4784032894b6da3eb52a7be",
       "version_major": 2,
       "version_minor": 0
      },
      "text/plain": [
       "Epoch 48/50 [Train] LR: 0.000013:   0%|          | 0/1067 [00:00<?, ?it/s]"
      ]
     },
     "metadata": {},
     "output_type": "display_data"
    },
    {
     "data": {
      "application/vnd.jupyter.widget-view+json": {
       "model_id": "7702951e49e048f6ac308e39efd75333",
       "version_major": 2,
       "version_minor": 0
      },
      "text/plain": [
       "Epoch 48/50 [Valid]:   0%|          | 0/134 [00:00<?, ?it/s]"
      ]
     },
     "metadata": {},
     "output_type": "display_data"
    },
    {
     "data": {
      "application/vnd.jupyter.widget-view+json": {
       "model_id": "e25d2a2ee61f49e7bbdc96c7dfd38a18",
       "version_major": 2,
       "version_minor": 0
      },
      "text/plain": [
       "Evaluating:   0%|          | 0/134 [00:00<?, ?it/s]"
      ]
     },
     "metadata": {},
     "output_type": "display_data"
    },
    {
     "name": "stdout",
     "output_type": "stream",
     "text": [
      "\n",
      "Examples of CORRECT predictions by language:\n",
      "\n",
      "UNKNOWN:\n",
      "Source: muteşəkkilləşdirilmə, Target: mütəşəkkilləşdirilmə, Predicted: mütəşəkkilləşdirilmə\n",
      "Source: müvazinetleşdirilmə, Target: müvazinətləşdirilmə, Predicted: müvazinətləşdirilmə\n",
      "Source: ozünuqiymətləndirmə, Target: özünüqiymətləndirmə, Predicted: özünüqiymətləndirmə\n",
      "\n",
      "Examples of INCORRECT predictions by language:\n",
      "\n",
      "UNKNOWN:\n",
      "Source: mutesəkkilleşdirilmək, Target: mütəşəkkilləşdirilmək, Predicted: mütəşəkkilləşdirilmə\n",
      "Source: cilçıragi, Target: çilçırağı, Predicted: çılçırağı\n",
      "Source: qıfıll, Target: qıfıl, Predicted: qıfılı\n",
      "\n",
      "Word-level metrics - Precision: 0.9682, Recall: 0.9682, F1: 0.9682\n",
      "Character-level accuracy: 0.9937\n",
      "Average Levenshtein distance: 0.06\n",
      "\n",
      "Performance by error type:\n",
      "KEYBOARD: 0.9864 (24015/24346)\n",
      "TRANSLITERATION: 0.9722 (35642/36661)\n",
      "INSERTION: 0.9376 (4925/5253)\n",
      "DELETION: 0.7530 (1500/1992)\n",
      "\n",
      "Performance by language:\n",
      "unknown: 0.9682 (66082/68252)\n",
      "\n",
      "DELETION error performance: 0.7530\n"
     ]
    },
    {
     "data": {
      "application/vnd.jupyter.widget-view+json": {
       "model_id": "3fd43a01a0364a6b98008e9b019b7444",
       "version_major": 2,
       "version_minor": 0
      },
      "text/plain": [
       "Epoch 49/50 [Train] LR: 0.000013:   0%|          | 0/1067 [00:00<?, ?it/s]"
      ]
     },
     "metadata": {},
     "output_type": "display_data"
    },
    {
     "data": {
      "application/vnd.jupyter.widget-view+json": {
       "model_id": "9317e3ce37e54ef6a88e082b9884e99d",
       "version_major": 2,
       "version_minor": 0
      },
      "text/plain": [
       "Epoch 49/50 [Valid]:   0%|          | 0/134 [00:00<?, ?it/s]"
      ]
     },
     "metadata": {},
     "output_type": "display_data"
    },
    {
     "data": {
      "application/vnd.jupyter.widget-view+json": {
       "model_id": "d33797757b7540d8bd459d13b05f6f46",
       "version_major": 2,
       "version_minor": 0
      },
      "text/plain": [
       "Evaluating:   0%|          | 0/134 [00:00<?, ?it/s]"
      ]
     },
     "metadata": {},
     "output_type": "display_data"
    },
    {
     "name": "stdout",
     "output_type": "stream",
     "text": [
      "\n",
      "Examples of CORRECT predictions by language:\n",
      "\n",
      "UNKNOWN:\n",
      "Source: muteşəkkilləşdirilmə, Target: mütəşəkkilləşdirilmə, Predicted: mütəşəkkilləşdirilmə\n",
      "Source: müvazinetleşdirilmə, Target: müvazinətləşdirilmə, Predicted: müvazinətləşdirilmə\n",
      "Source: ozünuqiymətləndirmə, Target: özünüqiymətləndirmə, Predicted: özünüqiymətləndirmə\n",
      "\n",
      "Examples of INCORRECT predictions by language:\n",
      "\n",
      "UNKNOWN:\n",
      "Source: mutesəkkilleşdirilmək, Target: mütəşəkkilləşdirilmək, Predicted: mütəşəkkilləşdirilmə\n",
      "Source: cilçıragi, Target: çilçırağı, Predicted: çılçırağı\n",
      "Source: dəbəri, Target: səbəti, Predicted: fənəri\n",
      "\n",
      "Word-level metrics - Precision: 0.9685, Recall: 0.9685, F1: 0.9685\n",
      "Character-level accuracy: 0.9939\n",
      "Average Levenshtein distance: 0.05\n",
      "\n",
      "Performance by error type:\n",
      "KEYBOARD: 0.9871 (24031/24346)\n",
      "TRANSLITERATION: 0.9719 (35629/36661)\n",
      "INSERTION: 0.9425 (4951/5253)\n",
      "DELETION: 0.7495 (1493/1992)\n",
      "\n",
      "Performance by language:\n",
      "unknown: 0.9685 (66104/68252)\n",
      "\n",
      "DELETION error performance: 0.7495\n",
      "Saved new best model with F1: 0.9685\n"
     ]
    },
    {
     "data": {
      "application/vnd.jupyter.widget-view+json": {
       "model_id": "bda37377d03349659349d11c718e64c2",
       "version_major": 2,
       "version_minor": 0
      },
      "text/plain": [
       "Epoch 50/50 [Train] LR: 0.000013:   0%|          | 0/1067 [00:00<?, ?it/s]"
      ]
     },
     "metadata": {},
     "output_type": "display_data"
    },
    {
     "data": {
      "application/vnd.jupyter.widget-view+json": {
       "model_id": "ab2c2d7d4b164672ae5df283d58b68b3",
       "version_major": 2,
       "version_minor": 0
      },
      "text/plain": [
       "Epoch 50/50 [Valid]:   0%|          | 0/134 [00:00<?, ?it/s]"
      ]
     },
     "metadata": {},
     "output_type": "display_data"
    },
    {
     "data": {
      "application/vnd.jupyter.widget-view+json": {
       "model_id": "17ddc9b3918048f4a5b8634a1adc226a",
       "version_major": 2,
       "version_minor": 0
      },
      "text/plain": [
       "Evaluating:   0%|          | 0/134 [00:00<?, ?it/s]"
      ]
     },
     "metadata": {},
     "output_type": "display_data"
    },
    {
     "name": "stdout",
     "output_type": "stream",
     "text": [
      "\n",
      "Examples of CORRECT predictions by language:\n",
      "\n",
      "UNKNOWN:\n",
      "Source: muteşəkkilləşdirilmə, Target: mütəşəkkilləşdirilmə, Predicted: mütəşəkkilləşdirilmə\n",
      "Source: müvazinetleşdirilmə, Target: müvazinətləşdirilmə, Predicted: müvazinətləşdirilmə\n",
      "Source: ozünuqiymətləndirmə, Target: özünüqiymətləndirmə, Predicted: özünüqiymətləndirmə\n",
      "\n",
      "Examples of INCORRECT predictions by language:\n",
      "\n",
      "UNKNOWN:\n",
      "Source: mutesəkkilleşdirilmək, Target: mütəşəkkilləşdirilmək, Predicted: mütəşəkkilləşdirilmə\n",
      "Source: cilçıragi, Target: çilçırağı, Predicted: çılçırağı\n",
      "Source: dəbəri, Target: səbəti, Predicted: fənəri\n",
      "\n",
      "Word-level metrics - Precision: 0.9689, Recall: 0.9689, F1: 0.9689\n",
      "Character-level accuracy: 0.9939\n",
      "Average Levenshtein distance: 0.05\n",
      "\n",
      "Performance by error type:\n",
      "KEYBOARD: 0.9868 (24025/24346)\n",
      "TRANSLITERATION: 0.9728 (35664/36661)\n",
      "INSERTION: 0.9395 (4935/5253)\n",
      "DELETION: 0.7545 (1503/1992)\n",
      "\n",
      "Performance by language:\n",
      "unknown: 0.9689 (66127/68252)\n",
      "\n",
      "DELETION error performance: 0.7545\n",
      "Saved new best model with F1: 0.9689\n"
     ]
    },
    {
     "name": "stderr",
     "output_type": "stream",
     "text": [
      "/opt/conda/lib/python3.10/site-packages/torch/nn/modules/transformer.py:286: UserWarning: enable_nested_tensor is True, but self.use_nested_tensor is False because encoder_layer.self_attn.batch_first was not True(use batch_first for better inference performance)\n",
      "  warnings.warn(f\"enable_nested_tensor is True, but self.use_nested_tensor is False because {why_not_sparsity_fast_path}\")\n"
     ]
    },
    {
     "name": "stdout",
     "output_type": "stream",
     "text": [
      "\n",
      "--- Starting fine-tuning specifically for DELETION errors ---\n",
      "Creating dataset with only DELETION errors...\n",
      "Created fine-tuning dataset with 15943 examples\n",
      "DELETION examples: 15943\n",
      "Loading dataset from data/train_deletion.csv\n",
      "Распределение по типам ошибок:\n",
      "  DELETION: 15943 примеров (100.00%)\n",
      "Loading dataset from data/val.csv\n",
      "Распределение по типам ошибок:\n",
      "  TRANSLITERATION: 36660 примеров (53.71%)\n",
      "  KEYBOARD: 24345 примеров (35.67%)\n",
      "  INSERTION: 5253 примеров (7.70%)\n",
      "  DELETION: 1993 примеров (2.92%)\n",
      "Loading dataset from data/test.csv\n",
      "Распределение по типам ошибок:\n",
      "  TRANSLITERATION: 36661 примеров (53.71%)\n",
      "  KEYBOARD: 24346 примеров (35.67%)\n",
      "  INSERTION: 5253 примеров (7.70%)\n",
      "  DELETION: 1992 примеров (2.92%)\n",
      "Using weighted loss with weights: {'DELETION': 10.0, 'INSERTION': 1.5, 'KEYBOARD': 1.0, 'TRANSLITERATION': 1.0}\n"
     ]
    },
    {
     "name": "stderr",
     "output_type": "stream",
     "text": [
      "/opt/conda/lib/python3.10/site-packages/torch/optim/lr_scheduler.py:28: UserWarning: The verbose parameter is deprecated. Please use get_last_lr() to access the learning rate.\n",
      "  warnings.warn(\"The verbose parameter is deprecated. Please use get_last_lr() \"\n"
     ]
    },
    {
     "data": {
      "application/vnd.jupyter.widget-view+json": {
       "model_id": "aa61718be51b4b30a34f5af4cf3267ec",
       "version_major": 2,
       "version_minor": 0
      },
      "text/plain": [
       "Training:   0%|          | 0/10 [00:00<?, ?it/s]"
      ]
     },
     "metadata": {},
     "output_type": "display_data"
    },
    {
     "data": {
      "application/vnd.jupyter.widget-view+json": {
       "model_id": "30ceb7cde3db41ce9d9a3a56cf42d978",
       "version_major": 2,
       "version_minor": 0
      },
      "text/plain": [
       "Epoch 1/10 [Train] LR: 0.000020:   0%|          | 0/63 [00:00<?, ?it/s]"
      ]
     },
     "metadata": {},
     "output_type": "display_data"
    },
    {
     "name": "stderr",
     "output_type": "stream",
     "text": [
      "/opt/conda/lib/python3.10/site-packages/torch/nn/functional.py:5109: UserWarning: Support for mismatched src_key_padding_mask and mask is deprecated. Use same type for both instead.\n",
      "  warnings.warn(\n",
      "/opt/conda/lib/python3.10/site-packages/torch/nn/functional.py:5109: UserWarning: Support for mismatched key_padding_mask and attn_mask is deprecated. Use same type for both instead.\n",
      "  warnings.warn(\n"
     ]
    },
    {
     "data": {
      "application/vnd.jupyter.widget-view+json": {
       "model_id": "1985f16b555240649c660af8e9acd5d9",
       "version_major": 2,
       "version_minor": 0
      },
      "text/plain": [
       "Epoch 1/10 [Valid]:   0%|          | 0/134 [00:00<?, ?it/s]"
      ]
     },
     "metadata": {},
     "output_type": "display_data"
    },
    {
     "data": {
      "application/vnd.jupyter.widget-view+json": {
       "model_id": "41ab3b7d7d3841a3a4e5586dc904c07d",
       "version_major": 2,
       "version_minor": 0
      },
      "text/plain": [
       "Evaluating:   0%|          | 0/134 [00:00<?, ?it/s]"
      ]
     },
     "metadata": {},
     "output_type": "display_data"
    },
    {
     "name": "stdout",
     "output_type": "stream",
     "text": [
      "\n",
      "Examples of CORRECT predictions by language:\n",
      "\n",
      "UNKNOWN:\n",
      "Source: muteşəkkilləşdirilmə, Target: mütəşəkkilləşdirilmə, Predicted: mütəşəkkilləşdirilmə\n",
      "Source: müvazinetleşdirilmə, Target: müvazinətləşdirilmə, Predicted: müvazinətləşdirilmə\n",
      "Source: ozünuqiymətləndirmə, Target: özünüqiymətləndirmə, Predicted: özünüqiymətləndirmə\n",
      "\n",
      "Examples of INCORRECT predictions by language:\n",
      "\n",
      "UNKNOWN:\n",
      "Source: mutesəkkilleşdirilmək, Target: mütəşəkkilləşdirilmək, Predicted: mütəşəkkilləşdirilmə\n",
      "Source: qıfıll, Target: qıfıl, Predicted: qıfılı\n",
      "Source: ellamə, Target: əllamə, Predicted: ellanı\n",
      "\n",
      "Word-level metrics - Precision: 0.9662, Recall: 0.9662, F1: 0.9662\n",
      "Character-level accuracy: 0.9931\n",
      "Average Levenshtein distance: 0.06\n",
      "\n",
      "Performance by error type:\n",
      "KEYBOARD: 0.9871 (24032/24346)\n",
      "TRANSLITERATION: 0.9686 (35509/36661)\n",
      "INSERTION: 0.9244 (4856/5253)\n",
      "DELETION: 0.7786 (1551/1992)\n",
      "\n",
      "Performance by language:\n",
      "unknown: 0.9662 (65948/68252)\n",
      "\n",
      "DELETION error performance: 0.7786\n",
      "Saved new best model with F1: 0.9662\n"
     ]
    },
    {
     "data": {
      "application/vnd.jupyter.widget-view+json": {
       "model_id": "ee21134a3d9b4b0e8e6c2fd029f95020",
       "version_major": 2,
       "version_minor": 0
      },
      "text/plain": [
       "Epoch 2/10 [Train] LR: 0.000020:   0%|          | 0/63 [00:00<?, ?it/s]"
      ]
     },
     "metadata": {},
     "output_type": "display_data"
    },
    {
     "data": {
      "application/vnd.jupyter.widget-view+json": {
       "model_id": "08fdac1b499e46d99d071e5b23179aa1",
       "version_major": 2,
       "version_minor": 0
      },
      "text/plain": [
       "Epoch 2/10 [Valid]:   0%|          | 0/134 [00:00<?, ?it/s]"
      ]
     },
     "metadata": {},
     "output_type": "display_data"
    },
    {
     "data": {
      "application/vnd.jupyter.widget-view+json": {
       "model_id": "214004a0a66246a3ae057abf0b048ad8",
       "version_major": 2,
       "version_minor": 0
      },
      "text/plain": [
       "Evaluating:   0%|          | 0/134 [00:00<?, ?it/s]"
      ]
     },
     "metadata": {},
     "output_type": "display_data"
    },
    {
     "name": "stdout",
     "output_type": "stream",
     "text": [
      "\n",
      "Examples of CORRECT predictions by language:\n",
      "\n",
      "UNKNOWN:\n",
      "Source: muteşəkkilləşdirilmə, Target: mütəşəkkilləşdirilmə, Predicted: mütəşəkkilləşdirilmə\n",
      "Source: müvazinetleşdirilmə, Target: müvazinətləşdirilmə, Predicted: müvazinətləşdirilmə\n",
      "Source: ozünuqiymətləndirmə, Target: özünüqiymətləndirmə, Predicted: özünüqiymətləndirmə\n",
      "\n",
      "Examples of INCORRECT predictions by language:\n",
      "\n",
      "UNKNOWN:\n",
      "Source: mutesəkkilleşdirilmək, Target: mütəşəkkilləşdirilmək, Predicted: mütəşəkkilləşdirilmə\n",
      "Source: dösekcəsi, Target: döşəkçəsi, Predicted: döşəkcəsi\n",
      "Source: qıfıll, Target: qıfıl, Predicted: qıfılı\n",
      "\n",
      "Word-level metrics - Precision: 0.9666, Recall: 0.9666, F1: 0.9666\n",
      "Character-level accuracy: 0.9933\n",
      "Average Levenshtein distance: 0.06\n",
      "\n",
      "Performance by error type:\n",
      "KEYBOARD: 0.9870 (24029/24346)\n",
      "TRANSLITERATION: 0.9688 (35517/36661)\n",
      "INSERTION: 0.9282 (4876/5253)\n",
      "DELETION: 0.7776 (1549/1992)\n",
      "\n",
      "Performance by language:\n",
      "unknown: 0.9666 (65971/68252)\n",
      "\n",
      "DELETION error performance: 0.7776\n",
      "Saved new best model with F1: 0.9666\n"
     ]
    },
    {
     "data": {
      "application/vnd.jupyter.widget-view+json": {
       "model_id": "2781de1bd3a742d9ad90deaef0971c6a",
       "version_major": 2,
       "version_minor": 0
      },
      "text/plain": [
       "Epoch 3/10 [Train] LR: 0.000020:   0%|          | 0/63 [00:00<?, ?it/s]"
      ]
     },
     "metadata": {},
     "output_type": "display_data"
    },
    {
     "data": {
      "application/vnd.jupyter.widget-view+json": {
       "model_id": "7f4df71684e94a65aef7abdacad26cbb",
       "version_major": 2,
       "version_minor": 0
      },
      "text/plain": [
       "Epoch 3/10 [Valid]:   0%|          | 0/134 [00:00<?, ?it/s]"
      ]
     },
     "metadata": {},
     "output_type": "display_data"
    },
    {
     "data": {
      "application/vnd.jupyter.widget-view+json": {
       "model_id": "8c6ffac019434201b40a0bd73953d486",
       "version_major": 2,
       "version_minor": 0
      },
      "text/plain": [
       "Evaluating:   0%|          | 0/134 [00:00<?, ?it/s]"
      ]
     },
     "metadata": {},
     "output_type": "display_data"
    },
    {
     "name": "stdout",
     "output_type": "stream",
     "text": [
      "\n",
      "Examples of CORRECT predictions by language:\n",
      "\n",
      "UNKNOWN:\n",
      "Source: muteşəkkilləşdirilmə, Target: mütəşəkkilləşdirilmə, Predicted: mütəşəkkilləşdirilmə\n",
      "Source: müvazinetleşdirilmə, Target: müvazinətləşdirilmə, Predicted: müvazinətləşdirilmə\n",
      "Source: ozünuqiymətləndirmə, Target: özünüqiymətləndirmə, Predicted: özünüqiymətləndirmə\n",
      "\n",
      "Examples of INCORRECT predictions by language:\n",
      "\n",
      "UNKNOWN:\n",
      "Source: mutesəkkilleşdirilmək, Target: mütəşəkkilləşdirilmək, Predicted: mütəşəkkilləşdirilmə\n",
      "Source: dösekcəsi, Target: döşəkçəsi, Predicted: döşəkcəsi\n",
      "Source: qıfıll, Target: qıfıl, Predicted: qıfıllı\n",
      "\n",
      "Word-level metrics - Precision: 0.9659, Recall: 0.9659, F1: 0.9659\n",
      "Character-level accuracy: 0.9930\n",
      "Average Levenshtein distance: 0.06\n",
      "\n",
      "Performance by error type:\n",
      "KEYBOARD: 0.9865 (24018/24346)\n",
      "TRANSLITERATION: 0.9689 (35521/36661)\n",
      "INSERTION: 0.9191 (4828/5253)\n",
      "DELETION: 0.7816 (1557/1992)\n",
      "\n",
      "Performance by language:\n",
      "unknown: 0.9659 (65924/68252)\n",
      "\n",
      "DELETION error performance: 0.7816\n"
     ]
    },
    {
     "data": {
      "application/vnd.jupyter.widget-view+json": {
       "model_id": "3e608835fada453e8a152dd41e1ea141",
       "version_major": 2,
       "version_minor": 0
      },
      "text/plain": [
       "Epoch 4/10 [Train] LR: 0.000020:   0%|          | 0/63 [00:00<?, ?it/s]"
      ]
     },
     "metadata": {},
     "output_type": "display_data"
    },
    {
     "data": {
      "application/vnd.jupyter.widget-view+json": {
       "model_id": "84b82aeb71894d60900a76177a8118cb",
       "version_major": 2,
       "version_minor": 0
      },
      "text/plain": [
       "Epoch 4/10 [Valid]:   0%|          | 0/134 [00:00<?, ?it/s]"
      ]
     },
     "metadata": {},
     "output_type": "display_data"
    },
    {
     "data": {
      "application/vnd.jupyter.widget-view+json": {
       "model_id": "76364b9840bb4c99a21ec11d69e10860",
       "version_major": 2,
       "version_minor": 0
      },
      "text/plain": [
       "Evaluating:   0%|          | 0/134 [00:00<?, ?it/s]"
      ]
     },
     "metadata": {},
     "output_type": "display_data"
    },
    {
     "name": "stdout",
     "output_type": "stream",
     "text": [
      "\n",
      "Examples of CORRECT predictions by language:\n",
      "\n",
      "UNKNOWN:\n",
      "Source: muteşəkkilləşdirilmə, Target: mütəşəkkilləşdirilmə, Predicted: mütəşəkkilləşdirilmə\n",
      "Source: müvazinetleşdirilmə, Target: müvazinətləşdirilmə, Predicted: müvazinətləşdirilmə\n",
      "Source: ozünuqiymətləndirmə, Target: özünüqiymətləndirmə, Predicted: özünüqiymətləndirmə\n",
      "\n",
      "Examples of INCORRECT predictions by language:\n",
      "\n",
      "UNKNOWN:\n",
      "Source: mutesəkkilleşdirilmək, Target: mütəşəkkilləşdirilmək, Predicted: mütəşəkkilləşdirilmə\n",
      "Source: dösekcəsi, Target: döşəkçəsi, Predicted: döşəkcəsi\n",
      "Source: qıfıll, Target: qıfıl, Predicted: qıfıllı\n",
      "\n",
      "Word-level metrics - Precision: 0.9654, Recall: 0.9654, F1: 0.9654\n",
      "Character-level accuracy: 0.9930\n",
      "Average Levenshtein distance: 0.06\n",
      "\n",
      "Performance by error type:\n",
      "KEYBOARD: 0.9861 (24008/24346)\n",
      "TRANSLITERATION: 0.9691 (35528/36661)\n",
      "INSERTION: 0.9119 (4790/5253)\n",
      "DELETION: 0.7856 (1565/1992)\n",
      "\n",
      "Performance by language:\n",
      "unknown: 0.9654 (65891/68252)\n",
      "\n",
      "DELETION error performance: 0.7856\n"
     ]
    },
    {
     "data": {
      "application/vnd.jupyter.widget-view+json": {
       "model_id": "11b994a48498450aa63a6abee2eae45a",
       "version_major": 2,
       "version_minor": 0
      },
      "text/plain": [
       "Epoch 5/10 [Train] LR: 0.000020:   0%|          | 0/63 [00:00<?, ?it/s]"
      ]
     },
     "metadata": {},
     "output_type": "display_data"
    },
    {
     "data": {
      "application/vnd.jupyter.widget-view+json": {
       "model_id": "1a3cdaf8b7384803b83d9a492e6cba64",
       "version_major": 2,
       "version_minor": 0
      },
      "text/plain": [
       "Epoch 5/10 [Valid]:   0%|          | 0/134 [00:00<?, ?it/s]"
      ]
     },
     "metadata": {},
     "output_type": "display_data"
    },
    {
     "data": {
      "application/vnd.jupyter.widget-view+json": {
       "model_id": "eaf3832e3a6845d39ef46f8c7e901960",
       "version_major": 2,
       "version_minor": 0
      },
      "text/plain": [
       "Evaluating:   0%|          | 0/134 [00:00<?, ?it/s]"
      ]
     },
     "metadata": {},
     "output_type": "display_data"
    },
    {
     "name": "stdout",
     "output_type": "stream",
     "text": [
      "\n",
      "Examples of CORRECT predictions by language:\n",
      "\n",
      "UNKNOWN:\n",
      "Source: muteşəkkilləşdirilmə, Target: mütəşəkkilləşdirilmə, Predicted: mütəşəkkilləşdirilmə\n",
      "Source: müvazinetleşdirilmə, Target: müvazinətləşdirilmə, Predicted: müvazinətləşdirilmə\n",
      "Source: ozünuqiymətləndirmə, Target: özünüqiymətləndirmə, Predicted: özünüqiymətləndirmə\n",
      "\n",
      "Examples of INCORRECT predictions by language:\n",
      "\n",
      "UNKNOWN:\n",
      "Source: mutesəkkilleşdirilmək, Target: mütəşəkkilləşdirilmək, Predicted: mütəşəkkilləşdirilmə\n",
      "Source: dösekcəsi, Target: döşəkçəsi, Predicted: döşəkcəsi\n",
      "Source: qıfıll, Target: qıfıl, Predicted: qıfıllı\n",
      "\n",
      "Word-level metrics - Precision: 0.9650, Recall: 0.9650, F1: 0.9650\n",
      "Character-level accuracy: 0.9929\n",
      "Average Levenshtein distance: 0.06\n",
      "\n",
      "Performance by error type:\n",
      "KEYBOARD: 0.9862 (24011/24346)\n",
      "TRANSLITERATION: 0.9682 (35495/36661)\n",
      "INSERTION: 0.9121 (4791/5253)\n",
      "DELETION: 0.7866 (1567/1992)\n",
      "\n",
      "Performance by language:\n",
      "unknown: 0.9650 (65864/68252)\n",
      "\n",
      "Learning rate adjusted from 0.000020 to 0.000010\n",
      "\n",
      "DELETION error performance: 0.7866\n"
     ]
    },
    {
     "data": {
      "application/vnd.jupyter.widget-view+json": {
       "model_id": "2b7782dea12846478e8e9bae796fed00",
       "version_major": 2,
       "version_minor": 0
      },
      "text/plain": [
       "Epoch 6/10 [Train] LR: 0.000010:   0%|          | 0/63 [00:00<?, ?it/s]"
      ]
     },
     "metadata": {},
     "output_type": "display_data"
    },
    {
     "data": {
      "application/vnd.jupyter.widget-view+json": {
       "model_id": "a20ddab1c43e43b4864bd3102db3bf56",
       "version_major": 2,
       "version_minor": 0
      },
      "text/plain": [
       "Epoch 6/10 [Valid]:   0%|          | 0/134 [00:00<?, ?it/s]"
      ]
     },
     "metadata": {},
     "output_type": "display_data"
    },
    {
     "data": {
      "application/vnd.jupyter.widget-view+json": {
       "model_id": "8b7d30b68b904226ac262a9472d78fb0",
       "version_major": 2,
       "version_minor": 0
      },
      "text/plain": [
       "Evaluating:   0%|          | 0/134 [00:00<?, ?it/s]"
      ]
     },
     "metadata": {},
     "output_type": "display_data"
    },
    {
     "name": "stdout",
     "output_type": "stream",
     "text": [
      "\n",
      "Examples of CORRECT predictions by language:\n",
      "\n",
      "UNKNOWN:\n",
      "Source: muteşəkkilləşdirilmə, Target: mütəşəkkilləşdirilmə, Predicted: mütəşəkkilləşdirilmə\n",
      "Source: müvazinetleşdirilmə, Target: müvazinətləşdirilmə, Predicted: müvazinətləşdirilmə\n",
      "Source: ozünuqiymətləndirmə, Target: özünüqiymətləndirmə, Predicted: özünüqiymətləndirmə\n",
      "\n",
      "Examples of INCORRECT predictions by language:\n",
      "\n",
      "UNKNOWN:\n",
      "Source: mutesəkkilleşdirilmək, Target: mütəşəkkilləşdirilmək, Predicted: mütəşəkkilləşdirilmə\n",
      "Source: dösekcəsi, Target: döşəkçəsi, Predicted: döşəkcəsi\n",
      "Source: qıfıll, Target: qıfıl, Predicted: qıfıllı\n",
      "\n",
      "Word-level metrics - Precision: 0.9650, Recall: 0.9650, F1: 0.9650\n",
      "Character-level accuracy: 0.9929\n",
      "Average Levenshtein distance: 0.06\n",
      "\n",
      "Performance by error type:\n",
      "KEYBOARD: 0.9863 (24012/24346)\n",
      "TRANSLITERATION: 0.9675 (35470/36661)\n",
      "INSERTION: 0.9166 (4815/5253)\n",
      "DELETION: 0.7871 (1568/1992)\n",
      "\n",
      "Performance by language:\n",
      "unknown: 0.9650 (65865/68252)\n",
      "\n",
      "DELETION error performance: 0.7871\n"
     ]
    },
    {
     "data": {
      "application/vnd.jupyter.widget-view+json": {
       "model_id": "d3f3c74601274420a7311c0c146513c7",
       "version_major": 2,
       "version_minor": 0
      },
      "text/plain": [
       "Epoch 7/10 [Train] LR: 0.000010:   0%|          | 0/63 [00:00<?, ?it/s]"
      ]
     },
     "metadata": {},
     "output_type": "display_data"
    },
    {
     "data": {
      "application/vnd.jupyter.widget-view+json": {
       "model_id": "6b665883725f445b9d4172febc15d5d8",
       "version_major": 2,
       "version_minor": 0
      },
      "text/plain": [
       "Epoch 7/10 [Valid]:   0%|          | 0/134 [00:00<?, ?it/s]"
      ]
     },
     "metadata": {},
     "output_type": "display_data"
    },
    {
     "data": {
      "application/vnd.jupyter.widget-view+json": {
       "model_id": "87fa15aaf44e4d87be15e493e60336cf",
       "version_major": 2,
       "version_minor": 0
      },
      "text/plain": [
       "Evaluating:   0%|          | 0/134 [00:00<?, ?it/s]"
      ]
     },
     "metadata": {},
     "output_type": "display_data"
    },
    {
     "name": "stdout",
     "output_type": "stream",
     "text": [
      "\n",
      "Examples of CORRECT predictions by language:\n",
      "\n",
      "UNKNOWN:\n",
      "Source: muteşəkkilləşdirilmə, Target: mütəşəkkilləşdirilmə, Predicted: mütəşəkkilləşdirilmə\n",
      "Source: müvazinetleşdirilmə, Target: müvazinətləşdirilmə, Predicted: müvazinətləşdirilmə\n",
      "Source: ozünuqiymətləndirmə, Target: özünüqiymətləndirmə, Predicted: özünüqiymətləndirmə\n",
      "\n",
      "Examples of INCORRECT predictions by language:\n",
      "\n",
      "UNKNOWN:\n",
      "Source: mutesəkkilleşdirilmək, Target: mütəşəkkilləşdirilmək, Predicted: mütəşəkkilləşdirilmə\n",
      "Source: dösekcəsi, Target: döşəkçəsi, Predicted: döşəkcəsi\n",
      "Source: qıfıll, Target: qıfıl, Predicted: qıfıllı\n",
      "\n",
      "Word-level metrics - Precision: 0.9649, Recall: 0.9649, F1: 0.9649\n",
      "Character-level accuracy: 0.9928\n",
      "Average Levenshtein distance: 0.06\n",
      "\n",
      "Performance by error type:\n",
      "KEYBOARD: 0.9865 (24017/24346)\n",
      "TRANSLITERATION: 0.9675 (35469/36661)\n",
      "INSERTION: 0.9136 (4799/5253)\n",
      "DELETION: 0.7882 (1570/1992)\n",
      "\n",
      "Performance by language:\n",
      "unknown: 0.9649 (65855/68252)\n",
      "\n",
      "DELETION error performance: 0.7882\n"
     ]
    },
    {
     "data": {
      "application/vnd.jupyter.widget-view+json": {
       "model_id": "38d7225d82694deb98ed68366d77c612",
       "version_major": 2,
       "version_minor": 0
      },
      "text/plain": [
       "Epoch 8/10 [Train] LR: 0.000010:   0%|          | 0/63 [00:00<?, ?it/s]"
      ]
     },
     "metadata": {},
     "output_type": "display_data"
    },
    {
     "data": {
      "application/vnd.jupyter.widget-view+json": {
       "model_id": "ca99b3f5ddf84a1aa745385eb39b2579",
       "version_major": 2,
       "version_minor": 0
      },
      "text/plain": [
       "Epoch 8/10 [Valid]:   0%|          | 0/134 [00:00<?, ?it/s]"
      ]
     },
     "metadata": {},
     "output_type": "display_data"
    },
    {
     "data": {
      "application/vnd.jupyter.widget-view+json": {
       "model_id": "2ab737e7ecf946aeb7f1375980d065f7",
       "version_major": 2,
       "version_minor": 0
      },
      "text/plain": [
       "Evaluating:   0%|          | 0/134 [00:00<?, ?it/s]"
      ]
     },
     "metadata": {},
     "output_type": "display_data"
    },
    {
     "name": "stdout",
     "output_type": "stream",
     "text": [
      "\n",
      "Examples of CORRECT predictions by language:\n",
      "\n",
      "UNKNOWN:\n",
      "Source: muteşəkkilləşdirilmə, Target: mütəşəkkilləşdirilmə, Predicted: mütəşəkkilləşdirilmə\n",
      "Source: müvazinetleşdirilmə, Target: müvazinətləşdirilmə, Predicted: müvazinətləşdirilmə\n",
      "Source: ozünuqiymətləndirmə, Target: özünüqiymətləndirmə, Predicted: özünüqiymətləndirmə\n",
      "\n",
      "Examples of INCORRECT predictions by language:\n",
      "\n",
      "UNKNOWN:\n",
      "Source: mutesəkkilleşdirilmək, Target: mütəşəkkilləşdirilmək, Predicted: mütəşəkkilləşdirilmə\n",
      "Source: dösekcəsi, Target: döşəkçəsi, Predicted: döşəkcəsi\n",
      "Source: qıfıll, Target: qıfıl, Predicted: qıfılı\n",
      "\n",
      "Word-level metrics - Precision: 0.9652, Recall: 0.9652, F1: 0.9652\n",
      "Character-level accuracy: 0.9929\n",
      "Average Levenshtein distance: 0.06\n",
      "\n",
      "Performance by error type:\n",
      "KEYBOARD: 0.9860 (24004/24346)\n",
      "TRANSLITERATION: 0.9680 (35489/36661)\n",
      "INSERTION: 0.9159 (4811/5253)\n",
      "DELETION: 0.7887 (1571/1992)\n",
      "\n",
      "Performance by language:\n",
      "unknown: 0.9652 (65875/68252)\n",
      "\n",
      "Learning rate adjusted from 0.000010 to 0.000005\n",
      "\n",
      "DELETION error performance: 0.7887\n"
     ]
    },
    {
     "data": {
      "application/vnd.jupyter.widget-view+json": {
       "model_id": "d9fa195c073c48ad892618a3f5531a02",
       "version_major": 2,
       "version_minor": 0
      },
      "text/plain": [
       "Epoch 9/10 [Train] LR: 0.000005:   0%|          | 0/63 [00:00<?, ?it/s]"
      ]
     },
     "metadata": {},
     "output_type": "display_data"
    },
    {
     "data": {
      "application/vnd.jupyter.widget-view+json": {
       "model_id": "037b8e8cd7ab449a90de96ca9690a56e",
       "version_major": 2,
       "version_minor": 0
      },
      "text/plain": [
       "Epoch 9/10 [Valid]:   0%|          | 0/134 [00:00<?, ?it/s]"
      ]
     },
     "metadata": {},
     "output_type": "display_data"
    },
    {
     "data": {
      "application/vnd.jupyter.widget-view+json": {
       "model_id": "02bcc00d978241ad85c9b22548ab5287",
       "version_major": 2,
       "version_minor": 0
      },
      "text/plain": [
       "Evaluating:   0%|          | 0/134 [00:00<?, ?it/s]"
      ]
     },
     "metadata": {},
     "output_type": "display_data"
    },
    {
     "name": "stdout",
     "output_type": "stream",
     "text": [
      "\n",
      "Examples of CORRECT predictions by language:\n",
      "\n",
      "UNKNOWN:\n",
      "Source: muteşəkkilləşdirilmə, Target: mütəşəkkilləşdirilmə, Predicted: mütəşəkkilləşdirilmə\n",
      "Source: müvazinetleşdirilmə, Target: müvazinətləşdirilmə, Predicted: müvazinətləşdirilmə\n",
      "Source: ozünuqiymətləndirmə, Target: özünüqiymətləndirmə, Predicted: özünüqiymətləndirmə\n",
      "\n",
      "Examples of INCORRECT predictions by language:\n",
      "\n",
      "UNKNOWN:\n",
      "Source: mutesəkkilleşdirilmək, Target: mütəşəkkilləşdirilmək, Predicted: mütəşəkkilləşdirilmə\n",
      "Source: dösekcəsi, Target: döşəkçəsi, Predicted: döşəkcəsi\n",
      "Source: qıfıll, Target: qıfıl, Predicted: qıfılı\n",
      "\n",
      "Word-level metrics - Precision: 0.9652, Recall: 0.9652, F1: 0.9652\n",
      "Character-level accuracy: 0.9929\n",
      "Average Levenshtein distance: 0.06\n",
      "\n",
      "Performance by error type:\n",
      "KEYBOARD: 0.9858 (24001/24346)\n",
      "TRANSLITERATION: 0.9681 (35493/36661)\n",
      "INSERTION: 0.9155 (4809/5253)\n",
      "DELETION: 0.7892 (1572/1992)\n",
      "\n",
      "Performance by language:\n",
      "unknown: 0.9652 (65875/68252)\n",
      "\n",
      "DELETION error performance: 0.7892\n"
     ]
    },
    {
     "data": {
      "application/vnd.jupyter.widget-view+json": {
       "model_id": "20831f84ce204ab7a15ebc101ba6a523",
       "version_major": 2,
       "version_minor": 0
      },
      "text/plain": [
       "Epoch 10/10 [Train] LR: 0.000005:   0%|          | 0/63 [00:00<?, ?it/s]"
      ]
     },
     "metadata": {},
     "output_type": "display_data"
    },
    {
     "data": {
      "application/vnd.jupyter.widget-view+json": {
       "model_id": "5fce90d48d554d25b0784e655f38c240",
       "version_major": 2,
       "version_minor": 0
      },
      "text/plain": [
       "Epoch 10/10 [Valid]:   0%|          | 0/134 [00:00<?, ?it/s]"
      ]
     },
     "metadata": {},
     "output_type": "display_data"
    },
    {
     "data": {
      "application/vnd.jupyter.widget-view+json": {
       "model_id": "46b668310693457993da4586e740d291",
       "version_major": 2,
       "version_minor": 0
      },
      "text/plain": [
       "Evaluating:   0%|          | 0/134 [00:00<?, ?it/s]"
      ]
     },
     "metadata": {},
     "output_type": "display_data"
    },
    {
     "name": "stdout",
     "output_type": "stream",
     "text": [
      "\n",
      "Examples of CORRECT predictions by language:\n",
      "\n",
      "UNKNOWN:\n",
      "Source: muteşəkkilləşdirilmə, Target: mütəşəkkilləşdirilmə, Predicted: mütəşəkkilləşdirilmə\n",
      "Source: müvazinetleşdirilmə, Target: müvazinətləşdirilmə, Predicted: müvazinətləşdirilmə\n",
      "Source: ozünuqiymətləndirmə, Target: özünüqiymətləndirmə, Predicted: özünüqiymətləndirmə\n",
      "\n",
      "Examples of INCORRECT predictions by language:\n",
      "\n",
      "UNKNOWN:\n",
      "Source: mutesəkkilleşdirilmək, Target: mütəşəkkilləşdirilmək, Predicted: mütəşəkkilləşdirilmə\n",
      "Source: dösekcəsi, Target: döşəkçəsi, Predicted: döşəkcəsi\n",
      "Source: qıfıll, Target: qıfıl, Predicted: qıfıllı\n",
      "\n",
      "Word-level metrics - Precision: 0.9651, Recall: 0.9651, F1: 0.9651\n",
      "Character-level accuracy: 0.9930\n",
      "Average Levenshtein distance: 0.06\n",
      "\n",
      "Performance by error type:\n",
      "KEYBOARD: 0.9859 (24002/24346)\n",
      "TRANSLITERATION: 0.9680 (35489/36661)\n",
      "INSERTION: 0.9138 (4800/5253)\n",
      "DELETION: 0.7922 (1578/1992)\n",
      "\n",
      "Performance by language:\n",
      "unknown: 0.9651 (65869/68252)\n",
      "\n",
      "DELETION error performance: 0.7922\n",
      "\n",
      "--- Performing final evaluation on test set ---\n"
     ]
    },
    {
     "name": "stderr",
     "output_type": "stream",
     "text": [
      "/opt/conda/lib/python3.10/site-packages/torch/nn/modules/transformer.py:286: UserWarning: enable_nested_tensor is True, but self.use_nested_tensor is False because encoder_layer.self_attn.batch_first was not True(use batch_first for better inference performance)\n",
      "  warnings.warn(f\"enable_nested_tensor is True, but self.use_nested_tensor is False because {why_not_sparsity_fast_path}\")\n"
     ]
    },
    {
     "name": "stdout",
     "output_type": "stream",
     "text": [
      "Loading dataset from data/test.csv\n",
      "Распределение по типам ошибок:\n",
      "  TRANSLITERATION: 36661 примеров (53.71%)\n",
      "  KEYBOARD: 24346 примеров (35.67%)\n",
      "  INSERTION: 5253 примеров (7.70%)\n",
      "  DELETION: 1992 примеров (2.92%)\n"
     ]
    },
    {
     "data": {
      "application/vnd.jupyter.widget-view+json": {
       "model_id": "6526cf133a77418d9275d2b37b832ab2",
       "version_major": 2,
       "version_minor": 0
      },
      "text/plain": [
       "Evaluating:   0%|          | 0/134 [00:00<?, ?it/s]"
      ]
     },
     "metadata": {},
     "output_type": "display_data"
    },
    {
     "name": "stderr",
     "output_type": "stream",
     "text": [
      "/opt/conda/lib/python3.10/site-packages/torch/nn/functional.py:5109: UserWarning: Support for mismatched src_key_padding_mask and mask is deprecated. Use same type for both instead.\n",
      "  warnings.warn(\n"
     ]
    },
    {
     "name": "stdout",
     "output_type": "stream",
     "text": [
      "\n",
      "Examples of CORRECT predictions by language:\n",
      "\n",
      "UNKNOWN:\n",
      "Source: muteşəkkilləşdirilmə, Target: mütəşəkkilləşdirilmə, Predicted: mütəşəkkilləşdirilmə\n",
      "Source: müvazinetleşdirilmə, Target: müvazinətləşdirilmə, Predicted: müvazinətləşdirilmə\n",
      "Source: ozünuqiymətləndirmə, Target: özünüqiymətləndirmə, Predicted: özünüqiymətləndirmə\n",
      "\n",
      "Examples of INCORRECT predictions by language:\n",
      "\n",
      "UNKNOWN:\n",
      "Source: mutesəkkilleşdirilmək, Target: mütəşəkkilləşdirilmək, Predicted: mütəşəkkilləşdirilmə\n",
      "Source: dösekcəsi, Target: döşəkçəsi, Predicted: döşəkcəsi\n",
      "Source: qıfıll, Target: qıfıl, Predicted: qıfılı\n",
      "\n",
      "Word-level metrics - Precision: 0.9666, Recall: 0.9666, F1: 0.9666\n",
      "Character-level accuracy: 0.9933\n",
      "Average Levenshtein distance: 0.06\n",
      "\n",
      "Performance by error type:\n",
      "KEYBOARD: 0.9870 (24029/24346)\n",
      "TRANSLITERATION: 0.9688 (35517/36661)\n",
      "INSERTION: 0.9282 (4876/5253)\n",
      "DELETION: 0.7776 (1549/1992)\n",
      "\n",
      "Performance by language:\n",
      "unknown: 0.9666 (65971/68252)\n",
      "Training complete. Best model F1 score on test set: 0.9666\n",
      "DELETION error performance: 0.7776\n",
      "\n",
      "--- Comparison with baseline model ---\n"
     ]
    },
    {
     "name": "stderr",
     "output_type": "stream",
     "text": [
      "/opt/conda/lib/python3.10/site-packages/torch/nn/modules/transformer.py:286: UserWarning: enable_nested_tensor is True, but self.use_nested_tensor is False because encoder_layer.self_attn.batch_first was not True(use batch_first for better inference performance)\n",
      "  warnings.warn(f\"enable_nested_tensor is True, but self.use_nested_tensor is False because {why_not_sparsity_fast_path}\")\n"
     ]
    },
    {
     "data": {
      "application/vnd.jupyter.widget-view+json": {
       "model_id": "e22a7691e4ab45d4badc7d572060f13e",
       "version_major": 2,
       "version_minor": 0
      },
      "text/plain": [
       "Evaluating:   0%|          | 0/134 [00:00<?, ?it/s]"
      ]
     },
     "metadata": {},
     "output_type": "display_data"
    },
    {
     "name": "stdout",
     "output_type": "stream",
     "text": [
      "\n",
      "Examples of CORRECT predictions by language:\n",
      "\n",
      "UNKNOWN:\n",
      "Source: muteşəkkilləşdirilmə, Target: mütəşəkkilləşdirilmə, Predicted: mütəşəkkilləşdirilmə\n",
      "Source: müvazinetleşdirilmə, Target: müvazinətləşdirilmə, Predicted: müvazinətləşdirilmə\n",
      "Source: ozünuqiymətləndirmə, Target: özünüqiymətləndirmə, Predicted: özünüqiymətləndirmə\n",
      "\n",
      "Examples of INCORRECT predictions by language:\n",
      "\n",
      "UNKNOWN:\n",
      "Source: mutesəkkilleşdirilmək, Target: mütəşəkkilləşdirilmək, Predicted: mütəşəkkilləşdirilmə\n",
      "Source: cilçıragi, Target: çilçırağı, Predicted: çılçırağı\n",
      "Source: dəbəri, Target: səbəti, Predicted: fənəri\n",
      "\n",
      "Word-level metrics - Precision: 0.9689, Recall: 0.9689, F1: 0.9689\n",
      "Character-level accuracy: 0.9939\n",
      "Average Levenshtein distance: 0.05\n",
      "\n",
      "Performance by error type:\n",
      "KEYBOARD: 0.9868 (24025/24346)\n",
      "TRANSLITERATION: 0.9728 (35664/36661)\n",
      "INSERTION: 0.9395 (4935/5253)\n",
      "DELETION: 0.7545 (1503/1992)\n",
      "\n",
      "Performance by language:\n",
      "unknown: 0.9689 (66127/68252)\n",
      "Baseline model F1 score: 0.9689\n",
      "Fine-tuned model F1 score: 0.9666\n",
      "Baseline DELETION performance: 0.7545\n",
      "Fine-tuned DELETION performance: 0.7776\n",
      "Improvement: 2.31%\n"
     ]
    }
   ],
   "source": [
    "import pandas as pd\n",
    "import numpy as np\n",
    "import torch\n",
    "import torch.nn as nn\n",
    "import torch.optim as optim\n",
    "from torch.utils.data import Dataset, DataLoader\n",
    "from torch.nn import Transformer\n",
    "from torch.optim.lr_scheduler import ReduceLROnPlateau\n",
    "import math\n",
    "import os\n",
    "from sklearn.metrics import f1_score\n",
    "from sklearn.model_selection import train_test_split\n",
    "from collections import Counter\n",
    "import unicodedata\n",
    "from tqdm.auto import tqdm\n",
    "import random\n",
    "import json\n",
    "\n",
    "torch.manual_seed(42)\n",
    "np.random.seed(42)\n",
    "random.seed(42)\n",
    "\n",
    "MAX_SEQ_LENGTH = 20\n",
    "BATCH_SIZE = 512\n",
    "EMBED_DIM = 512\n",
    "NUM_HEADS = 16\n",
    "NUM_ENCODER_LAYERS = 8\n",
    "NUM_DECODER_LAYERS = 8\n",
    "FFN_DIM = 2048\n",
    "DROPOUT = 0.1\n",
    "NUM_EPOCHS = 50\n",
    "LEARNING_RATE = 0.0001\n",
    "ERROR_TYPE_WEIGHTS = {\n",
    "    'DELETION': 2.2,\n",
    "    'INSERTION': 5.1,\n",
    "    'KEYBOARD': 12.7,\n",
    "    'TRANSLITERATION': 1.0\n",
    "}\n",
    "DEVICE = torch.device('cuda' if torch.cuda.is_available() else 'cpu')\n",
    "\n",
    "TARGET_LANGUAGE = None\n",
    "\n",
    "class SpellingDataset(Dataset):\n",
    "    def __init__(self, data_file, char_to_idx, idx_to_char, max_length=MAX_SEQ_LENGTH, validate_pairs=False):\n",
    "        print(f\"Loading dataset from {data_file}\")\n",
    "        self.data = pd.read_csv(data_file)\n",
    "        \n",
    "        if 'LANGUAGE' in self.data.columns:\n",
    "            languages = self.data['LANGUAGE'].unique()\n",
    "            print(f\"Languages found in dataset: {languages}\")\n",
    "            language_counts = self.data['LANGUAGE'].value_counts()\n",
    "            print(\"Language distribution:\")\n",
    "            for lang, count in language_counts.items():\n",
    "                print(f\"  {lang}: {count} examples\")\n",
    "        \n",
    "        if 'ERROR_TYPE' in self.data.columns:\n",
    "            error_counts = self.data['ERROR_TYPE'].value_counts()\n",
    "            print(\"Error type distribution:\")\n",
    "            for error_type, count in error_counts.items():\n",
    "                print(f\"  {error_type}: {count} examples ({count/len(self.data)*100:.2f}%)\")\n",
    "                \n",
    "        self.char_to_idx = char_to_idx\n",
    "        self.idx_to_char = idx_to_char\n",
    "        self.max_length = max_length\n",
    "        \n",
    "        if validate_pairs:\n",
    "            self._validate_pairs()\n",
    "    \n",
    "    def _validate_pairs(self):\n",
    "        char_changes = []\n",
    "        suspicious_indices = []\n",
    "        \n",
    "        language_stats = {}\n",
    "        has_language_column = 'LANGUAGE' in self.data.columns\n",
    "        \n",
    "        for idx, row in tqdm(self.data.iterrows(), total=len(self.data), desc=\"Validating data pairs\"):\n",
    "            mistake = str(row['MISTAKE'])\n",
    "            correct = str(row['CORRECT'])\n",
    "            \n",
    "            language = str(row['LANGUAGE']) if has_language_column else 'unknown'\n",
    "            \n",
    "            if language not in language_stats:\n",
    "                language_stats[language] = {\n",
    "                    'char_changes': [],\n",
    "                    'suspicious': 0,\n",
    "                    'total': 0\n",
    "                }\n",
    "            \n",
    "            language_stats[language]['total'] += 1\n",
    "            \n",
    "            distance = levenshtein_distance(mistake, correct)\n",
    "            \n",
    "            max_len = max(len(mistake), len(correct))\n",
    "            proportion_changed = distance / max_len if max_len > 0 else 0\n",
    "            char_changes.append(proportion_changed)\n",
    "            \n",
    "            language_stats[language]['char_changes'].append(proportion_changed)\n",
    "            \n",
    "            if proportion_changed > 0.8:\n",
    "                suspicious_indices.append(idx)\n",
    "                language_stats[language]['suspicious'] += 1\n",
    "        \n",
    "        print(f\"\\nData validation statistics:\")\n",
    "        print(f\"Average proportion of changed characters: {np.mean(char_changes):.4f}\")\n",
    "        print(f\"Median proportion of changed characters: {np.median(char_changes):.4f}\")\n",
    "        print(f\"Found {len(suspicious_indices)} suspicious pairs (>80% different)\")\n",
    "        \n",
    "        if has_language_column:\n",
    "            print(\"\\nStatistics by language:\")\n",
    "            for lang, stats in language_stats.items():\n",
    "                if stats['total'] > 0:\n",
    "                    avg_change = np.mean(stats['char_changes']) if stats['char_changes'] else 0\n",
    "                    suspicious_percent = (stats['suspicious'] / stats['total']) * 100\n",
    "                    print(f\"{lang}: {stats['total']} examples, avg change: {avg_change:.4f}, \"\n",
    "                          f\"suspicious: {suspicious_percent:.2f}% ({stats['suspicious']}/{stats['total']})\")\n",
    "        \n",
    "        if suspicious_indices:\n",
    "            print(\"\\nExamples of suspicious pairs:\")\n",
    "            for i in range(min(5, len(suspicious_indices))):\n",
    "                idx = suspicious_indices[i]\n",
    "                mistake = str(self.data.loc[idx, 'MISTAKE'])\n",
    "                correct = str(self.data.loc[idx, 'CORRECT'])\n",
    "                language = str(self.data.loc[idx, 'LANGUAGE']) if has_language_column else 'unknown'\n",
    "                print(f\"[{language}] MISTAKE: {mistake}, CORRECT: {correct}, \"\n",
    "                      f\"Levenshtein: {levenshtein_distance(mistake, correct)}, \"\n",
    "                      f\"Proportion: {levenshtein_distance(mistake, correct) / max(len(mistake), len(correct)):.2f}\")\n",
    "    \n",
    "    def __len__(self):\n",
    "        return len(self.data)\n",
    "    \n",
    "    def __getitem__(self, idx):\n",
    "        mistake = self.data.iloc[idx]['MISTAKE']\n",
    "        correct = self.data.iloc[idx]['CORRECT']\n",
    "        \n",
    "        mistake = str(mistake)\n",
    "        correct = str(correct)\n",
    "        \n",
    "        mistake_ids = self.tokenize(mistake)\n",
    "        correct_ids = self.tokenize(correct)\n",
    "        \n",
    "        src = torch.tensor([self.char_to_idx['<BOS>']] + mistake_ids + [self.char_to_idx['<EOS>']], dtype=torch.long)\n",
    "        tgt = torch.tensor([self.char_to_idx['<BOS>']] + correct_ids + [self.char_to_idx['<EOS>']], dtype=torch.long)\n",
    "        \n",
    "        item_data = {\n",
    "            'src': src,\n",
    "            'tgt': tgt,\n",
    "            'src_text': mistake,\n",
    "            'tgt_text': correct,\n",
    "            'idx': idx\n",
    "        }\n",
    "        \n",
    "        if 'LANGUAGE' in self.data.columns:\n",
    "            item_data['language'] = self.data.iloc[idx]['LANGUAGE']\n",
    "            \n",
    "        if 'ERROR_TYPE' in self.data.columns:\n",
    "            item_data['error_type'] = self.data.iloc[idx]['ERROR_TYPE']\n",
    "            \n",
    "        return item_data\n",
    "    \n",
    "    def tokenize(self, text):\n",
    "        text = unicodedata.normalize('NFC', text)\n",
    "        return [self.char_to_idx.get(c, self.char_to_idx['<UNK>']) for c in text[:self.max_length]]\n",
    "    \n",
    "    def get_sample_pairs(self, n=10):\n",
    "        indices = random.sample(range(len(self.data)), min(n, len(self.data)))\n",
    "        samples = []\n",
    "        for idx in indices:\n",
    "            sample = {\n",
    "                'mistake': str(self.data.iloc[idx]['MISTAKE']),\n",
    "                'correct': str(self.data.iloc[idx]['CORRECT']),\n",
    "                'idx': idx\n",
    "            }\n",
    "            \n",
    "            if 'LANGUAGE' in self.data.columns:\n",
    "                sample['language'] = self.data.iloc[idx]['LANGUAGE']\n",
    "            \n",
    "            if 'ERROR_TYPE' in self.data.columns:\n",
    "                sample['error_type'] = self.data.iloc[idx]['ERROR_TYPE']\n",
    "                \n",
    "            samples.append(sample)\n",
    "        return samples\n",
    "\n",
    "def levenshtein_distance(s1, s2):\n",
    "    if len(s1) < len(s2):\n",
    "        return levenshtein_distance(s2, s1)\n",
    "    \n",
    "    if len(s2) == 0:\n",
    "        return len(s1)\n",
    "    \n",
    "    previous_row = range(len(s2) + 1)\n",
    "    for i, c1 in enumerate(s1):\n",
    "        current_row = [i + 1]\n",
    "        for j, c2 in enumerate(s2):\n",
    "            insertions = previous_row[j + 1] + 1\n",
    "            deletions = current_row[j] + 1\n",
    "            substitutions = previous_row[j] + (c1 != c2)\n",
    "            current_row.append(min(insertions, deletions, substitutions))\n",
    "        previous_row = current_row\n",
    "    \n",
    "    return previous_row[-1]\n",
    "\n",
    "def create_vocabulary(data_file, min_freq=5):\n",
    "    print(\"Loading data for vocabulary creation...\")\n",
    "    read_csv_params = {}\n",
    "    if pd.__version__ >= '1.3.0':\n",
    "        read_csv_params['on_bad_lines'] = 'skip'\n",
    "    \n",
    "    df = pd.read_csv(data_file, **read_csv_params)\n",
    "    \n",
    "    if 'LANGUAGE' in df.columns:\n",
    "        languages = df['LANGUAGE'].unique()\n",
    "        print(f\"Building vocabulary for all languages: {languages}\")\n",
    "        language_counts = df['LANGUAGE'].value_counts()\n",
    "        print(\"Language distribution for vocabulary:\")\n",
    "        for lang, count in language_counts.items():\n",
    "            print(f\"  {lang}: {count} examples\")\n",
    "    \n",
    "    all_chars = Counter()\n",
    "    print(\"Building vocabulary...\")\n",
    "    for mistake, correct in tqdm(zip(df['MISTAKE'], df['CORRECT']), total=len(df), desc=\"Processing characters\"):\n",
    "        mistake = str(mistake)\n",
    "        correct = str(correct)\n",
    "        \n",
    "        mistake = unicodedata.normalize('NFC', mistake)\n",
    "        correct = unicodedata.normalize('NFC', correct)\n",
    "        \n",
    "        all_chars.update(mistake)\n",
    "        all_chars.update(correct)\n",
    "    \n",
    "    common_chars = [char for char, count in all_chars.items() if count >= min_freq]\n",
    "    \n",
    "    special_tokens = ['<PAD>', '<UNK>', '<BOS>', '<EOS>']\n",
    "    \n",
    "    char_to_idx = {char: idx for idx, char in enumerate(special_tokens + common_chars)}\n",
    "    idx_to_char = {idx: char for char, idx in char_to_idx.items()}\n",
    "    \n",
    "    print(f\"Vocabulary size: {len(char_to_idx)}\")\n",
    "    print(f\"Most common characters: {[c for c, _ in all_chars.most_common(20)]}\")\n",
    "    \n",
    "    return char_to_idx, idx_to_char\n",
    "\n",
    "def pad_collate(batch):\n",
    "    batch.sort(key=lambda x: len(x['src']), reverse=True)\n",
    "    \n",
    "    src_lengths = [len(example['src']) for example in batch]\n",
    "    tgt_lengths = [len(example['tgt']) for example in batch]\n",
    "    \n",
    "    max_src_len = max(src_lengths)\n",
    "    max_tgt_len = max(tgt_lengths)\n",
    "    \n",
    "    padded_src = torch.zeros(len(batch), max_src_len, dtype=torch.long)\n",
    "    padded_tgt = torch.zeros(len(batch), max_tgt_len, dtype=torch.long)\n",
    "    \n",
    "    for i, example in enumerate(batch):\n",
    "        src_len = src_lengths[i]\n",
    "        tgt_len = tgt_lengths[i]\n",
    "        \n",
    "        padded_src[i, :src_len] = example['src']\n",
    "        padded_tgt[i, :tgt_len] = example['tgt']\n",
    "    \n",
    "    src_padding_mask = (padded_src == 0)\n",
    "    tgt_padding_mask = (padded_tgt == 0)\n",
    "    \n",
    "    batch_data = {\n",
    "        'src': padded_src,\n",
    "        'tgt': padded_tgt,\n",
    "        'src_mask': generate_square_subsequent_mask(max_src_len),\n",
    "        'tgt_mask': generate_square_subsequent_mask(max_tgt_len),\n",
    "        'src_padding_mask': src_padding_mask,\n",
    "        'tgt_padding_mask': tgt_padding_mask,\n",
    "        'src_lengths': src_lengths,\n",
    "        'tgt_lengths': tgt_lengths,\n",
    "        'src_text': [example['src_text'] for example in batch],\n",
    "        'tgt_text': [example['tgt_text'] for example in batch],\n",
    "        'idx': [example['idx'] for example in batch],\n",
    "        'language': [example.get('language', 'unknown') for example in batch]\n",
    "    }\n",
    "    \n",
    "    if 'error_type' in batch[0]:\n",
    "        batch_data['error_type'] = [example.get('error_type', 'unknown') for example in batch]\n",
    "    \n",
    "    return batch_data\n",
    "\n",
    "def generate_square_subsequent_mask(sz):\n",
    "    mask = (torch.triu(torch.ones(sz, sz)) == 1).transpose(0, 1)\n",
    "    mask = mask.float().masked_fill(mask == 0, float('-inf')).masked_fill(mask == 1, float(0.0))\n",
    "    return mask.to(DEVICE)\n",
    "\n",
    "class PositionalEncoding(nn.Module):\n",
    "    def __init__(self, d_model, dropout=0.1, max_len=5000):\n",
    "        super(PositionalEncoding, self).__init__()\n",
    "        self.dropout = nn.Dropout(p=dropout)\n",
    "\n",
    "        pe = torch.zeros(max_len, d_model)\n",
    "        position = torch.arange(0, max_len, dtype=torch.float).unsqueeze(1)\n",
    "        div_term = torch.exp(torch.arange(0, d_model, 2).float() * (-math.log(10000.0) / d_model))\n",
    "        pe[:, 0::2] = torch.sin(position * div_term)\n",
    "        pe[:, 1::2] = torch.cos(position * div_term)\n",
    "        pe = pe.unsqueeze(0).transpose(0, 1)\n",
    "        self.register_buffer('pe', pe)\n",
    "\n",
    "    def forward(self, x):\n",
    "        x = x + self.pe[:x.size(0), :]\n",
    "        return self.dropout(x)\n",
    "\n",
    "class SpellingTransformer(nn.Module):\n",
    "    def __init__(self, vocab_size, d_model=EMBED_DIM, nhead=NUM_HEADS, \n",
    "                 num_encoder_layers=NUM_ENCODER_LAYERS, num_decoder_layers=NUM_DECODER_LAYERS, \n",
    "                 dim_feedforward=FFN_DIM, dropout=DROPOUT):\n",
    "        super(SpellingTransformer, self).__init__()\n",
    "        \n",
    "        self.d_model = d_model\n",
    "        \n",
    "        self.src_embedding = nn.Embedding(vocab_size, d_model)\n",
    "        self.tgt_embedding = nn.Embedding(vocab_size, d_model)\n",
    "        self.positional_encoding = PositionalEncoding(d_model, dropout)\n",
    "        \n",
    "        self.transformer = Transformer(\n",
    "            d_model=d_model, \n",
    "            nhead=nhead, \n",
    "            num_encoder_layers=num_encoder_layers,\n",
    "            num_decoder_layers=num_decoder_layers,\n",
    "            dim_feedforward=dim_feedforward,\n",
    "            dropout=dropout,\n",
    "            batch_first=False\n",
    "        )\n",
    "        \n",
    "        self.output_layer = nn.Linear(d_model, vocab_size)\n",
    "        \n",
    "        self._init_parameters()\n",
    "    \n",
    "    def _init_parameters(self):\n",
    "        for p in self.parameters():\n",
    "            if p.dim() > 1:\n",
    "                nn.init.xavier_uniform_(p)\n",
    "    \n",
    "    def forward(self, src, tgt, src_mask=None, tgt_mask=None, src_padding_mask=None, tgt_padding_mask=None):\n",
    "        src = src.transpose(0, 1)\n",
    "        tgt = tgt.transpose(0, 1)\n",
    "        \n",
    "        src = self.positional_encoding(self.src_embedding(src) * math.sqrt(self.d_model))\n",
    "        tgt = self.positional_encoding(self.tgt_embedding(tgt) * math.sqrt(self.d_model))\n",
    "        \n",
    "        output = self.transformer(\n",
    "            src=src,\n",
    "            tgt=tgt,\n",
    "            src_mask=src_mask,\n",
    "            tgt_mask=tgt_mask,\n",
    "            memory_mask=None,\n",
    "            src_key_padding_mask=src_padding_mask,\n",
    "            tgt_key_padding_mask=tgt_padding_mask,\n",
    "            memory_key_padding_mask=src_padding_mask\n",
    "        )\n",
    "        \n",
    "        output = self.output_layer(output)\n",
    "        \n",
    "        return output.transpose(0, 1)\n",
    "\n",
    "class WeightedCrossEntropyLoss(nn.Module):\n",
    "    def __init__(self, char_to_idx, weights_dict=ERROR_TYPE_WEIGHTS, ignore_index=-100):\n",
    "        super(WeightedCrossEntropyLoss, self).__init__()\n",
    "        self.ignore_index = ignore_index\n",
    "        self.weights_dict = weights_dict\n",
    "        self.base_criterion = nn.CrossEntropyLoss(ignore_index=ignore_index, reduction='none')\n",
    "        self.char_to_idx = char_to_idx\n",
    "        \n",
    "    def forward(self, output_flat, target_flat, error_types=None):\n",
    "        per_token_loss = self.base_criterion(output_flat, target_flat)\n",
    "        \n",
    "        if error_types is None:\n",
    "            return per_token_loss.mean()\n",
    "        \n",
    "        seq_len = per_token_loss.size(0) // len(error_types)\n",
    "        \n",
    "        weights = torch.ones_like(per_token_loss)\n",
    "        \n",
    "        for i, error_type in enumerate(error_types):\n",
    "            sample_weight = self.weights_dict.get(error_type, 1.0)\n",
    "            \n",
    "            start_idx = i * seq_len\n",
    "            end_idx = (i + 1) * seq_len\n",
    "            weights[start_idx:end_idx] = sample_weight\n",
    "            \n",
    "        weighted_loss = (per_token_loss * weights).sum() / weights.sum()\n",
    "        \n",
    "        return weighted_loss\n",
    "\n",
    "def split_data(input_file, train_ratio=0.8, val_ratio=0.1, test_ratio=0.1):\n",
    "    assert train_ratio + val_ratio + test_ratio == 1.0, \"Ratios must sum to 1\"\n",
    "    \n",
    "    print(f\"Loading dataset from {input_file}...\")\n",
    "    read_csv_params = {}\n",
    "    if pd.__version__ >= '1.3.0':\n",
    "        read_csv_params['on_bad_lines'] = 'skip'\n",
    "    \n",
    "    df = pd.read_csv(input_file, **read_csv_params)\n",
    "    \n",
    "    if 'LANGUAGE' in df.columns:\n",
    "        languages = df['LANGUAGE'].unique()\n",
    "        print(f\"Using all available languages: {languages}\")\n",
    "        language_counts = df['LANGUAGE'].value_counts()\n",
    "        print(\"Language distribution in the dataset:\")\n",
    "        for lang, count in language_counts.items():\n",
    "            print(f\"  {lang}: {count} examples ({count/len(df)*100:.2f}%)\")\n",
    "    \n",
    "    print(f\"Total dataset size: {len(df)}\")\n",
    "    if 'ERROR_TYPE' in df.columns:\n",
    "        print(\"Error type distribution:\")\n",
    "        print(df['ERROR_TYPE'].value_counts().head(10))\n",
    "    \n",
    "    print(\"Checking some sample pairs:\")\n",
    "    for i in range(5):\n",
    "        idx = random.randint(0, len(df) - 1)\n",
    "        mistake = str(df.iloc[idx]['MISTAKE'])\n",
    "        correct = str(df.iloc[idx]['CORRECT'])\n",
    "        language = str(df.iloc[idx]['LANGUAGE']) if 'LANGUAGE' in df.columns else 'unknown'\n",
    "        error_type = str(df.iloc[idx]['ERROR_TYPE']) if 'ERROR_TYPE' in df.columns else 'unknown'\n",
    "        print(f\"Sample {i+1} [{language}][{error_type}]: MISTAKE={mistake}, CORRECT={correct}\")\n",
    "    \n",
    "    os.makedirs('data', exist_ok=True)\n",
    "    \n",
    "    if 'LANGUAGE' in df.columns and 'ERROR_TYPE' in df.columns:\n",
    "        print(\"Performing stratified split by LANGUAGE and ERROR_TYPE...\")\n",
    "        df['strat_column'] = df['LANGUAGE'] + '_' + df['ERROR_TYPE']\n",
    "        \n",
    "        train_df, temp_df = train_test_split(\n",
    "            df, test_size=(val_ratio + test_ratio), \n",
    "            random_state=42,\n",
    "            stratify=df['strat_column']\n",
    "        )\n",
    "        \n",
    "        val_df, test_df = train_test_split(\n",
    "            temp_df, \n",
    "            test_size=test_ratio/(val_ratio + test_ratio), \n",
    "            random_state=42,\n",
    "            stratify=temp_df['strat_column']\n",
    "        )\n",
    "        \n",
    "        train_df = train_df.drop(columns=['strat_column'])\n",
    "        val_df = val_df.drop(columns=['strat_column'])\n",
    "        test_df = test_df.drop(columns=['strat_column'])\n",
    "        \n",
    "    elif 'ERROR_TYPE' in df.columns:\n",
    "        print(\"Performing stratified split by ERROR_TYPE...\")\n",
    "        train_df, temp_df = train_test_split(\n",
    "            df, test_size=(val_ratio + test_ratio), \n",
    "            random_state=42,\n",
    "            stratify=df['ERROR_TYPE']\n",
    "        )\n",
    "        \n",
    "        val_df, test_df = train_test_split(\n",
    "            temp_df, \n",
    "            test_size=test_ratio/(val_ratio + test_ratio), \n",
    "            random_state=42,\n",
    "            stratify=temp_df['ERROR_TYPE']\n",
    "        )\n",
    "    else:\n",
    "        print(\"Performing random split...\")\n",
    "        train_df, temp_df = train_test_split(df, test_size=(val_ratio + test_ratio), random_state=42)\n",
    "        \n",
    "        val_df, test_df = train_test_split(temp_df, test_size=test_ratio/(val_ratio + test_ratio), random_state=42)\n",
    "    \n",
    "    if 'LANGUAGE' in df.columns:\n",
    "        print(\"\\nLanguage distribution in splits:\")\n",
    "        \n",
    "        for split_name, split_df in [(\"Train\", train_df), (\"Validation\", val_df), (\"Test\", test_df)]:\n",
    "            print(f\"\\n{split_name} set language distribution:\")\n",
    "            lang_counts = split_df['LANGUAGE'].value_counts()\n",
    "            for lang, count in lang_counts.items():\n",
    "                print(f\"  {lang}: {count} examples ({count/len(split_df)*100:.2f}%)\")\n",
    "    \n",
    "    if 'ERROR_TYPE' in df.columns:\n",
    "        print(\"\\nError type distribution in splits:\")\n",
    "        \n",
    "        for split_name, split_df in [(\"Train\", train_df), (\"Validation\", val_df), (\"Test\", test_df)]:\n",
    "            print(f\"\\n{split_name} set error type distribution:\")\n",
    "            error_counts = split_df['ERROR_TYPE'].value_counts()\n",
    "            for error_type, count in error_counts.items():\n",
    "                print(f\"  {error_type}: {count} examples ({count/len(split_df)*100:.2f}%)\")\n",
    "    \n",
    "    train_df.to_csv('data/train.csv', index=False)\n",
    "    val_df.to_csv('data/val.csv', index=False)\n",
    "    test_df.to_csv('data/test.csv', index=False)\n",
    "    \n",
    "    print(f\"Data split complete. Train: {len(train_df)}, Validation: {len(val_df)}, Test: {len(test_df)}\")\n",
    "    \n",
    "    return 'data/train.csv', 'data/val.csv', 'data/test.csv'\n",
    "\n",
    "def debug_data_loading(data_loader, num_batches=2):\n",
    "    print(\"\\nDebugging DataLoader...\")\n",
    "    for i, batch in enumerate(data_loader):\n",
    "        if i >= num_batches:\n",
    "            break\n",
    "        \n",
    "        print(f\"\\nBatch {i+1} info:\")\n",
    "        print(f\"Batch size: {len(batch['src_text'])}\")\n",
    "        print(f\"Source shapes: {batch['src'].shape}\")\n",
    "        print(f\"Target shapes: {batch['tgt'].shape}\")\n",
    "        \n",
    "        for j in range(min(3, len(batch['src_text']))):\n",
    "            print(f\"Sample {j}:\")\n",
    "            print(f\"  Source text: {batch['src_text'][j]}\")\n",
    "            print(f\"  Target text: {batch['tgt_text'][j]}\")\n",
    "            print(f\"  Language: {batch['language'][j]}\")\n",
    "            \n",
    "            if 'error_type' in batch:\n",
    "                print(f\"  Error type: {batch['error_type'][j]}\")\n",
    "                \n",
    "            print(f\"  Index: {batch['idx'][j]}\")\n",
    "\n",
    "def train_model(model, train_loader, val_loader, test_loader, char_to_idx, idx_to_char, \n",
    "                num_epochs=NUM_EPOCHS, learning_rate=LEARNING_RATE, save_dir='checkpoints_model'):\n",
    "    os.makedirs(save_dir, exist_ok=True)\n",
    "    \n",
    "    optimizer = optim.Adam(model.parameters(), lr=learning_rate)\n",
    "    scheduler = ReduceLROnPlateau(\n",
    "        optimizer, \n",
    "        mode='max',\n",
    "        factor=0.5,\n",
    "        patience=2,\n",
    "        verbose=True,\n",
    "        min_lr=1e-6\n",
    "    )\n",
    "    \n",
    "    has_error_types = 'error_type' in next(iter(train_loader))\n",
    "    if has_error_types:\n",
    "        print(f\"Using weighted loss with weights: {ERROR_TYPE_WEIGHTS}\")\n",
    "        criterion = WeightedCrossEntropyLoss(char_to_idx, ignore_index=char_to_idx['<PAD>'])\n",
    "    else:\n",
    "        print(\"Using standard CrossEntropyLoss (no error types available)\")\n",
    "        criterion = nn.CrossEntropyLoss(ignore_index=char_to_idx['<PAD>'])\n",
    "    \n",
    "    best_f1 = 0.0\n",
    "    training_history = {\n",
    "        'train_loss': [],\n",
    "        'val_loss': [],\n",
    "        'f1_scores': [],\n",
    "        'learning_rates': [],\n",
    "        'error_type_performance': {}\n",
    "    }\n",
    "    \n",
    "    epoch_pbar = tqdm(range(num_epochs), desc=\"Training\", position=0)\n",
    "    \n",
    "    for epoch in epoch_pbar:\n",
    "        current_lr = optimizer.param_groups[0]['lr']\n",
    "        training_history['learning_rates'].append(current_lr)\n",
    "        \n",
    "        model.train()\n",
    "        train_loss = 0.0\n",
    "        \n",
    "        train_pbar = tqdm(train_loader, desc=f\"Epoch {epoch+1}/{num_epochs} [Train] LR: {current_lr:.6f}\", \n",
    "                          leave=False, position=1, total=len(train_loader))\n",
    "        \n",
    "        for batch in train_pbar:\n",
    "            src = batch['src'].to(DEVICE)\n",
    "            tgt = batch['tgt'].to(DEVICE)\n",
    "            src_mask = batch['src_mask'].to(DEVICE)\n",
    "            tgt_mask = batch['tgt_mask'].to(DEVICE)\n",
    "            src_padding_mask = batch['src_padding_mask'].to(DEVICE)\n",
    "            tgt_padding_mask = batch['tgt_padding_mask'].to(DEVICE)\n",
    "            \n",
    "            optimizer.zero_grad()\n",
    "            \n",
    "            output = model(\n",
    "                src=src,\n",
    "                tgt=tgt[:, :-1],\n",
    "                src_mask=src_mask,\n",
    "                tgt_mask=tgt_mask[:-1, :-1],\n",
    "                src_padding_mask=src_padding_mask,\n",
    "                tgt_padding_mask=tgt_padding_mask[:, :-1]\n",
    "            )\n",
    "            \n",
    "            output_flat = output.reshape(-1, output.shape[-1])\n",
    "            target_flat = tgt[:, 1:].reshape(-1)\n",
    "            \n",
    "            if has_error_types:\n",
    "                error_types = batch['error_type']\n",
    "                loss = criterion(output_flat, target_flat, error_types)\n",
    "            else:\n",
    "                loss = criterion(output_flat, target_flat)\n",
    "            \n",
    "            loss.backward()\n",
    "            torch.nn.utils.clip_grad_norm_(model.parameters(), max_norm=1.0)\n",
    "            optimizer.step()\n",
    "            \n",
    "            train_loss += loss.item()\n",
    "            train_pbar.set_postfix(loss=f\"{loss.item():.4f}\")\n",
    "        \n",
    "        avg_train_loss = train_loss / len(train_loader)\n",
    "        training_history['train_loss'].append(avg_train_loss)\n",
    "        \n",
    "        model.eval()\n",
    "        val_loss = 0.0\n",
    "        \n",
    "        val_pbar = tqdm(val_loader, desc=f\"Epoch {epoch+1}/{num_epochs} [Valid]\", \n",
    "                        leave=False, position=1, total=len(val_loader))\n",
    "        \n",
    "        with torch.no_grad():\n",
    "            for batch in val_pbar:\n",
    "                src = batch['src'].to(DEVICE)\n",
    "                tgt = batch['tgt'].to(DEVICE)\n",
    "                src_mask = batch['src_mask'].to(DEVICE)\n",
    "                tgt_mask = batch['tgt_mask'].to(DEVICE)\n",
    "                src_padding_mask = batch['src_padding_mask'].to(DEVICE)\n",
    "                tgt_padding_mask = batch['tgt_padding_mask'].to(DEVICE)\n",
    "                \n",
    "                output = model(\n",
    "                    src=src,\n",
    "                    tgt=tgt[:, :-1],\n",
    "                    src_mask=src_mask,\n",
    "                    tgt_mask=tgt_mask[:-1, :-1],\n",
    "                    src_padding_mask=src_padding_mask,\n",
    "                    tgt_padding_mask=tgt_padding_mask[:, :-1]\n",
    "                )\n",
    "                \n",
    "                output_flat = output.reshape(-1, output.shape[-1])\n",
    "                target_flat = tgt[:, 1:].reshape(-1)\n",
    "                \n",
    "                if isinstance(criterion, WeightedCrossEntropyLoss):\n",
    "                    loss = criterion.base_criterion(output_flat, target_flat).mean()\n",
    "                else:\n",
    "                    loss = criterion(output_flat, target_flat)\n",
    "                \n",
    "                val_loss += loss.item()\n",
    "                val_pbar.set_postfix(loss=f\"{loss.item():.4f}\")\n",
    "        \n",
    "        avg_val_loss = val_loss / len(val_loader)\n",
    "        training_history['val_loss'].append(avg_val_loss)\n",
    "        \n",
    "        f1, detailed_metrics = evaluate_model(model, test_loader, char_to_idx, idx_to_char)\n",
    "        training_history['f1_scores'].append(f1)\n",
    "        \n",
    "        if 'error_type_performance' in detailed_metrics:\n",
    "            for error_type, score in detailed_metrics['error_type_performance'].items():\n",
    "                if error_type not in training_history['error_type_performance']:\n",
    "                    training_history['error_type_performance'][error_type] = []\n",
    "                training_history['error_type_performance'][error_type].append(score)\n",
    "        \n",
    "        scheduler.step(f1)\n",
    "        \n",
    "        new_lr = optimizer.param_groups[0]['lr']\n",
    "        if new_lr != current_lr:\n",
    "            print(f\"\\nLearning rate adjusted from {current_lr:.6f} to {new_lr:.6f}\")\n",
    "        \n",
    "        epoch_pbar.set_postfix(train_loss=f\"{avg_train_loss:.4f}\", \n",
    "                              val_loss=f\"{avg_val_loss:.4f}\", \n",
    "                              f1=f\"{f1:.4f}\",\n",
    "                              lr=f\"{new_lr:.6f}\")\n",
    "        \n",
    "        if 'error_type_performance' in detailed_metrics and 'DELETION' in detailed_metrics['error_type_performance']:\n",
    "            deletion_f1 = detailed_metrics['error_type_performance']['DELETION']\n",
    "            print(f\"\\nDELETION error performance: {deletion_f1:.4f}\")\n",
    "        \n",
    "        if f1 > best_f1:\n",
    "            best_f1 = f1\n",
    "            checkpoint = {\n",
    "                'epoch': epoch,\n",
    "                'model_state_dict': model.state_dict(),\n",
    "                'optimizer_state_dict': optimizer.state_dict(),\n",
    "                'scheduler_state_dict': scheduler.state_dict(),\n",
    "                'train_loss': avg_train_loss,\n",
    "                'val_loss': avg_val_loss,\n",
    "                'f1_score': f1,\n",
    "                'detailed_metrics': detailed_metrics,\n",
    "                'char_to_idx': char_to_idx,\n",
    "                'idx_to_char': idx_to_char\n",
    "            }\n",
    "            torch.save(checkpoint, os.path.join(save_dir, 'best_model.pt'))\n",
    "            print(f\"Saved new best model with F1: {f1:.4f}\")\n",
    "        \n",
    "        with open(os.path.join(save_dir, 'training_history.json'), 'w') as f:\n",
    "            json.dump(training_history, f)\n",
    "        \n",
    "        last_checkpoint = {\n",
    "            'epoch': epoch,\n",
    "            'model_state_dict': model.state_dict(),\n",
    "            'optimizer_state_dict': optimizer.state_dict(),\n",
    "            'scheduler_state_dict': scheduler.state_dict(),\n",
    "            'train_loss': avg_train_loss,\n",
    "            'val_loss': avg_val_loss,\n",
    "            'f1_score': f1,\n",
    "            'best_f1': best_f1,\n",
    "            'char_to_idx': char_to_idx,\n",
    "            'idx_to_char': idx_to_char\n",
    "        }\n",
    "        torch.save(last_checkpoint, os.path.join(save_dir, 'last_checkpoint.pt'))\n",
    "    \n",
    "    return model, training_history\n",
    "\n",
    "def predict_batch(model, src, src_mask, src_padding_mask, char_to_idx, idx_to_char, max_len=MAX_SEQ_LENGTH+2):\n",
    "    model.eval()\n",
    "    \n",
    "    batch_size = src.size(0)\n",
    "    bos_idx = char_to_idx['<BOS>']\n",
    "    eos_idx = char_to_idx['<EOS>']\n",
    "    \n",
    "    decoder_input = torch.ones(batch_size, 1, dtype=torch.long, device=DEVICE) * bos_idx\n",
    "    \n",
    "    completed_sequences = [[] for _ in range(batch_size)]\n",
    "    has_completed = [False] * batch_size\n",
    "    \n",
    "    for i in range(max_len - 1):\n",
    "        tgt_mask = generate_square_subsequent_mask(decoder_input.size(1))\n",
    "        \n",
    "        with torch.no_grad():\n",
    "            output = model(\n",
    "                src=src,\n",
    "                tgt=decoder_input,\n",
    "                src_mask=src_mask,\n",
    "                tgt_mask=tgt_mask,\n",
    "                src_padding_mask=src_padding_mask,\n",
    "                tgt_padding_mask=None\n",
    "            )\n",
    "        \n",
    "        next_token_logits = output[:, -1, :]\n",
    "        next_token = torch.argmax(next_token_logits, dim=1).unsqueeze(1)\n",
    "        \n",
    "        decoder_input = torch.cat([decoder_input, next_token], dim=1)\n",
    "        \n",
    "        for j in range(batch_size):\n",
    "            if not has_completed[j] and next_token[j].item() == eos_idx:\n",
    "                seq = decoder_input[j, 1:-1].cpu().tolist()\n",
    "                completed_sequences[j] = seq\n",
    "                has_completed[j] = True\n",
    "        \n",
    "        if all(has_completed):\n",
    "            break\n",
    "    \n",
    "    for j in range(batch_size):\n",
    "        if not has_completed[j]:\n",
    "            seq = decoder_input[j, 1:].cpu().tolist()\n",
    "            if eos_idx in seq:\n",
    "                seq = seq[:seq.index(eos_idx)]\n",
    "            completed_sequences[j] = seq\n",
    "    \n",
    "    predicted_words = [''.join(idx_to_char[idx] for idx in seq) for seq in completed_sequences]\n",
    "    \n",
    "    return predicted_words\n",
    "\n",
    "def fine_tune_on_deletion_errors(model, char_to_idx, idx_to_char, \n",
    "                         learning_rate=LEARNING_RATE/5, num_epochs=10, save_dir='checkpoints_model_deletion'):\n",
    "    os.makedirs(save_dir, exist_ok=True)\n",
    "    print(\"\\n--- Starting fine-tuning specifically for DELETION errors ---\")\n",
    "    \n",
    "    print(\"Creating dataset with only DELETION errors...\")\n",
    "    \n",
    "    train_file = 'data/train.csv'\n",
    "    val_file = 'data/val.csv'\n",
    "    test_file = 'data/test.csv'\n",
    "    \n",
    "    train_df = pd.read_csv(train_file)\n",
    "    train_deletion_df = train_df[train_df['ERROR_TYPE'] == 'DELETION']\n",
    "    \n",
    "    if len(train_deletion_df) < 100:\n",
    "        print(f\"Found only {len(train_deletion_df)} DELETION examples. Adding more data...\")\n",
    "        other_df = train_df[train_df['ERROR_TYPE'] != 'DELETION'].sample(\n",
    "            min(len(train_df) // 4, 5000),\n",
    "            random_state=42\n",
    "        )\n",
    "        train_deletion_df = pd.concat([train_deletion_df, other_df])\n",
    "    \n",
    "    deletion_train_file = 'data/train_deletion.csv'\n",
    "    train_deletion_df.to_csv(deletion_train_file, index=False)\n",
    "    \n",
    "    print(f\"Created fine-tuning dataset with {len(train_deletion_df)} examples\")\n",
    "    print(f\"DELETION examples: {len(train_deletion_df[train_deletion_df['ERROR_TYPE'] == 'DELETION'])}\")\n",
    "    \n",
    "    train_deletion_dataset = SpellingDataset(deletion_train_file, char_to_idx, idx_to_char)\n",
    "    val_dataset = SpellingDataset(val_file, char_to_idx, idx_to_char)\n",
    "    test_dataset = SpellingDataset(test_file, char_to_idx, idx_to_char)\n",
    "    \n",
    "    train_loader = DataLoader(train_deletion_dataset, batch_size=BATCH_SIZE//2, shuffle=True, collate_fn=pad_collate)\n",
    "    val_loader = DataLoader(val_dataset, batch_size=BATCH_SIZE, shuffle=False, collate_fn=pad_collate)\n",
    "    test_loader = DataLoader(test_dataset, batch_size=BATCH_SIZE, shuffle=False, collate_fn=pad_collate)\n",
    "    \n",
    "    deletion_focused_weights = ERROR_TYPE_WEIGHTS.copy()\n",
    "    deletion_focused_weights['DELETION'] = 5.0\n",
    "    \n",
    "    model, history = train_model(\n",
    "        model, \n",
    "        train_loader, \n",
    "        val_loader, \n",
    "        test_loader, \n",
    "        char_to_idx, \n",
    "        idx_to_char,\n",
    "        num_epochs=num_epochs,\n",
    "        learning_rate=learning_rate,\n",
    "        save_dir=save_dir\n",
    "    )\n",
    "    \n",
    "    return model, history\n",
    "\n",
    "def evaluate_model(model, data_loader, char_to_idx, idx_to_char):\n",
    "    model.eval()\n",
    "    all_preds = []\n",
    "    all_targets = []\n",
    "    all_sources = []\n",
    "    all_indices = []\n",
    "    all_languages = []\n",
    "    all_error_types = []\n",
    "    \n",
    "    test_pbar = tqdm(data_loader, desc=\"Evaluating\", leave=False, position=1)\n",
    "    \n",
    "    correct_char_count = 0\n",
    "    total_char_count = 0\n",
    "    \n",
    "    with torch.no_grad():\n",
    "        for batch in test_pbar:\n",
    "            src = batch['src'].to(DEVICE)\n",
    "            tgt = batch['tgt']\n",
    "            src_mask = batch['src_mask'].to(DEVICE)\n",
    "            src_padding_mask = batch['src_padding_mask'].to(DEVICE)\n",
    "            src_text = batch['src_text']\n",
    "            tgt_text = batch['tgt_text']\n",
    "            indices = batch['idx']\n",
    "            languages = batch['language']\n",
    "            \n",
    "            predicted_words = predict_batch(model, src, src_mask, src_padding_mask, char_to_idx, idx_to_char)\n",
    "            \n",
    "            all_preds.extend(predicted_words)\n",
    "            all_targets.extend(tgt_text)\n",
    "            all_sources.extend(src_text)\n",
    "            all_indices.extend(indices)\n",
    "            all_languages.extend(languages)\n",
    "            \n",
    "            if 'error_type' in batch:\n",
    "                all_error_types.extend(batch['error_type'])\n",
    "            \n",
    "            for pred, target in zip(predicted_words, tgt_text):\n",
    "                for p_char, t_char in zip(pred, target):\n",
    "                    if p_char == t_char:\n",
    "                        correct_char_count += 1\n",
    "                    total_char_count += 1\n",
    "    \n",
    "    correct_word_count = sum(1 for pred, target in zip(all_preds, all_targets) if pred == target)\n",
    "    total_words = len(all_targets)\n",
    "    \n",
    "    precision = correct_word_count / len(all_preds) if all_preds else 0\n",
    "    recall = correct_word_count / len(all_targets) if all_targets else 0\n",
    "    f1 = 2 * precision * recall / (precision + recall) if (precision + recall) else 0\n",
    "    \n",
    "    char_accuracy = correct_char_count / total_char_count if total_char_count else 0\n",
    "    \n",
    "    distances = [levenshtein_distance(pred, target) for pred, target in zip(all_preds, all_targets)]\n",
    "    avg_distance = sum(distances) / len(distances) if distances else 0\n",
    "    \n",
    "    error_type_performance = {}\n",
    "    \n",
    "    if all_error_types:\n",
    "        for i, error_type in enumerate(all_error_types):\n",
    "            if error_type not in error_type_performance:\n",
    "                error_type_performance[error_type] = {'correct': 0, 'total': 0}\n",
    "            \n",
    "            error_type_performance[error_type]['total'] += 1\n",
    "            if all_preds[i] == all_targets[i]:\n",
    "                error_type_performance[error_type]['correct'] += 1\n",
    "    elif 'ERROR_TYPE' in data_loader.dataset.data.columns:\n",
    "        for i, idx in enumerate(all_indices):\n",
    "            error_type = data_loader.dataset.data.iloc[idx]['ERROR_TYPE']\n",
    "            if error_type not in error_type_performance:\n",
    "                error_type_performance[error_type] = {'correct': 0, 'total': 0}\n",
    "            \n",
    "            error_type_performance[error_type]['total'] += 1\n",
    "            if all_preds[i] == all_targets[i]:\n",
    "                error_type_performance[error_type]['correct'] += 1\n",
    "    \n",
    "    detailed_metrics = {\n",
    "        'precision': precision,\n",
    "        'recall': recall,\n",
    "        'f1': f1,\n",
    "        'char_accuracy': char_accuracy,\n",
    "        'avg_levenshtein': avg_distance,\n",
    "        'error_type_performance': {k: v['correct']/v['total'] if v['total'] > 0 else 0 \n",
    "                                   for k, v in error_type_performance.items()}\n",
    "    }\n",
    "    \n",
    "    correct_by_language = {}\n",
    "    incorrect_by_language = {}\n",
    "    \n",
    "    for i, (src, tgt, pred, lang) in enumerate(zip(all_sources, all_targets, all_preds, all_languages)):\n",
    "        if tgt == pred:\n",
    "            if lang not in correct_by_language:\n",
    "                correct_by_language[lang] = []\n",
    "            correct_by_language[lang].append((src, tgt, pred))\n",
    "        else:\n",
    "            if lang not in incorrect_by_language:\n",
    "                incorrect_by_language[lang] = []\n",
    "            incorrect_by_language[lang].append((src, tgt, pred))\n",
    "    \n",
    "    print(\"\\nExamples of CORRECT predictions by language:\")\n",
    "    for language, predictions in correct_by_language.items():\n",
    "        print(f\"\\n{language.upper()}:\")\n",
    "        for i in range(min(3, len(predictions))):\n",
    "            src, tgt, pred = predictions[i]\n",
    "            print(f\"Source: {src}, Target: {tgt}, Predicted: {pred}\")\n",
    "    \n",
    "    print(\"\\nExamples of INCORRECT predictions by language:\")\n",
    "    for language, predictions in incorrect_by_language.items():\n",
    "        print(f\"\\n{language.upper()}:\")\n",
    "        for i in range(min(3, len(predictions))):\n",
    "            src, tgt, pred = predictions[i]\n",
    "            print(f\"Source: {src}, Target: {tgt}, Predicted: {pred}\")\n",
    "    \n",
    "    print(f\"\\nWord-level metrics - Precision: {precision:.4f}, Recall: {recall:.4f}, F1: {f1:.4f}\")\n",
    "    print(f\"Character-level accuracy: {char_accuracy:.4f}\")\n",
    "    print(f\"Average Levenshtein distance: {avg_distance:.2f}\")\n",
    "    \n",
    "    if error_type_performance:\n",
    "        print(\"\\nPerformance by error type:\")\n",
    "        for error_type, metrics in sorted(error_type_performance.items(), \n",
    "                                         key=lambda x: x[1]['correct']/x[1]['total'] if x[1]['total'] > 0 else 0,\n",
    "                                         reverse=True):\n",
    "            accuracy = metrics['correct'] / metrics['total'] if metrics['total'] > 0 else 0\n",
    "            print(f\"{error_type}: {accuracy:.4f} ({metrics['correct']}/{metrics['total']})\")\n",
    "    \n",
    "    language_performance = {}\n",
    "    for i, lang in enumerate(all_languages):\n",
    "        if lang not in language_performance:\n",
    "            language_performance[lang] = {'correct': 0, 'total': 0}\n",
    "        \n",
    "        language_performance[lang]['total'] += 1\n",
    "        if all_preds[i] == all_targets[i]:\n",
    "            language_performance[lang]['correct'] += 1\n",
    "    \n",
    "    if language_performance:\n",
    "        print(\"\\nPerformance by language:\")\n",
    "        for language, metrics in sorted(language_performance.items(), \n",
    "                                       key=lambda x: x[1]['correct']/x[1]['total'] if x[1]['total'] > 0 else 0,\n",
    "                                       reverse=True):\n",
    "            accuracy = metrics['correct'] / metrics['total'] if metrics['total'] > 0 else 0\n",
    "            print(f\"{language}: {accuracy:.4f} ({metrics['correct']}/{metrics['total']})\")\n",
    "            \n",
    "    detailed_metrics['language_performance'] = {k: v['correct']/v['total'] if v['total'] > 0 else 0 \n",
    "                                                for k, v in language_performance.items()}\n",
    "    \n",
    "    test_pbar.close()\n",
    "    \n",
    "    return f1, detailed_metrics\n",
    "\n",
    "def main():\n",
    "    input_file = 'merged_sorted_output_with_language_az3.csv'\n",
    "    train_file, val_file, test_file = split_data(input_file)\n",
    "    \n",
    "    char_to_idx, idx_to_char = create_vocabulary(input_file)\n",
    "    vocab_size = len(char_to_idx)\n",
    "    print(f\"Vocabulary size: {vocab_size}\")\n",
    "    \n",
    "    train_dataset = SpellingDataset(train_file, char_to_idx, idx_to_char, validate_pairs=True)\n",
    "    val_dataset = SpellingDataset(val_file, char_to_idx, idx_to_char)\n",
    "    test_dataset = SpellingDataset(test_file, char_to_idx, idx_to_char)\n",
    "    \n",
    "    print(\"\\nSample pairs from training dataset:\")\n",
    "    for sample in train_dataset.get_sample_pairs(5):\n",
    "        language = sample.get('language', 'unknown')\n",
    "        error_type = sample.get('error_type', 'unknown')\n",
    "        print(f\"[{language}][{error_type}] MISTAKE: {sample['mistake']}, CORRECT: {sample['correct']}\")\n",
    "    \n",
    "    train_loader = DataLoader(train_dataset, batch_size=BATCH_SIZE, shuffle=True, collate_fn=pad_collate)\n",
    "    val_loader = DataLoader(val_dataset, batch_size=BATCH_SIZE, shuffle=False, collate_fn=pad_collate)\n",
    "    test_loader = DataLoader(test_dataset, batch_size=BATCH_SIZE, shuffle=False, collate_fn=pad_collate)\n",
    "    \n",
    "    debug_data_loading(test_loader)\n",
    "    \n",
    "    model = SpellingTransformer(vocab_size).to(DEVICE)\n",
    "    print(f\"Model initialized on {DEVICE}\")\n",
    "    \n",
    "    print(\"\\n--- Starting primary training phase with weighted loss ---\")\n",
    "    model, history = train_model(model, train_loader, val_loader, test_loader, char_to_idx, idx_to_char)\n",
    "    \n",
    "    checkpoint = torch.load('checkpoints_model/best_model.pt')\n",
    "    best_model = SpellingTransformer(len(char_to_idx)).to(DEVICE)\n",
    "    best_model.load_state_dict(checkpoint['model_state_dict'])\n",
    "    \n",
    "    fine_tuned_model, fine_tuning_history = fine_tune_on_deletion_errors(\n",
    "        best_model, \n",
    "        char_to_idx, \n",
    "        idx_to_char\n",
    "    )\n",
    "    \n",
    "    print(\"\\n--- Performing final evaluation on test set ---\")\n",
    "    \n",
    "    ft_checkpoint = torch.load('checkpoints_model_deletion/best_model.pt')\n",
    "    final_model = SpellingTransformer(len(char_to_idx)).to(DEVICE)\n",
    "    final_model.load_state_dict(ft_checkpoint['model_state_dict'])\n",
    "    \n",
    "    test_dataset = SpellingDataset(test_file, char_to_idx, idx_to_char)\n",
    "    test_loader = DataLoader(test_dataset, batch_size=BATCH_SIZE, shuffle=False, collate_fn=pad_collate)\n",
    "    \n",
    "    final_f1, detailed_metrics = evaluate_model(final_model, test_loader, char_to_idx, idx_to_char)\n",
    "    \n",
    "    print(f\"Training complete. Best model F1 score on test set: {final_f1:.4f}\")\n",
    "    \n",
    "    if 'error_type_performance' in detailed_metrics and 'DELETION' in detailed_metrics['error_type_performance']:\n",
    "        deletion_f1 = detailed_metrics['error_type_performance']['DELETION']\n",
    "        print(f\"DELETION error performance: {deletion_f1:.4f}\")\n",
    "    \n",
    "    with open('checkpoints_model_deletion/final_metrics.json', 'w') as f:\n",
    "        json.dump(detailed_metrics, f, indent=2)\n",
    "        \n",
    "    print(\"\\n--- Comparison with baseline model ---\")\n",
    "    baseline_model = SpellingTransformer(len(char_to_idx)).to(DEVICE)\n",
    "    baseline_model.load_state_dict(checkpoint['model_state_dict'])\n",
    "    \n",
    "    baseline_f1, baseline_metrics = evaluate_model(baseline_model, test_loader, char_to_idx, idx_to_char)\n",
    "    \n",
    "    print(f\"Baseline model F1 score: {baseline_f1:.4f}\")\n",
    "    print(f\"Fine-tuned model F1 score: {final_f1:.4f}\")\n",
    "    \n",
    "    if 'error_type_performance' in baseline_metrics and 'DELETION' in baseline_metrics['error_type_performance']:\n",
    "        baseline_deletion = baseline_metrics['error_type_performance']['DELETION']\n",
    "        final_deletion = detailed_metrics['error_type_performance']['DELETION']\n",
    "        \n",
    "        print(f\"Baseline DELETION performance: {baseline_deletion:.4f}\")\n",
    "        print(f\"Fine-tuned DELETION performance: {final_deletion:.4f}\")\n",
    "        print(f\"Improvement: {(final_deletion - baseline_deletion) * 100:.2f}%\")\n",
    "\n",
    "if __name__ == \"__main__\":\n",
    "    main()"
   ]
  },
  {
   "cell_type": "code",
   "execution_count": null,
   "id": "f0c95bb9-3f0a-44c2-98a0-e9fb601091fa",
   "metadata": {},
   "outputs": [],
   "source": []
  }
 ],
 "metadata": {
  "kernelspec": {
   "display_name": "Python 3 (ipykernel)",
   "language": "python",
   "name": "python3"
  },
  "language_info": {
   "codemirror_mode": {
    "name": "ipython",
    "version": 3
   },
   "file_extension": ".py",
   "mimetype": "text/x-python",
   "name": "python",
   "nbconvert_exporter": "python",
   "pygments_lexer": "ipython3",
   "version": "3.10.13"
  }
 },
 "nbformat": 4,
 "nbformat_minor": 5
}
